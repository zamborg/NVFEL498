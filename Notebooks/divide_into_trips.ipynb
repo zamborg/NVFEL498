{
 "metadata": {
  "language_info": {
   "codemirror_mode": {
    "name": "ipython",
    "version": 3
   },
   "file_extension": ".py",
   "mimetype": "text/x-python",
   "name": "python",
   "nbconvert_exporter": "python",
   "pygments_lexer": "ipython3",
   "version": "3.9.1-final"
  },
  "orig_nbformat": 2,
  "kernelspec": {
   "name": "python3",
   "display_name": "Python 3.9.1 64-bit",
   "metadata": {
    "interpreter": {
     "hash": "ac2eaa0ea0ebeafcc7822e65e46aa9d4f966f30b695406963e145ea4a91cd4fc"
    }
   }
  }
 },
 "nbformat": 4,
 "nbformat_minor": 2,
 "cells": [
  {
   "cell_type": "code",
   "execution_count": 1,
   "metadata": {},
   "outputs": [],
   "source": [
    "%load_ext autoreload\n",
    "%autoreload 2"
   ]
  },
  {
   "cell_type": "code",
   "execution_count": 2,
   "metadata": {},
   "outputs": [],
   "source": [
    "from utils import group_into_trips, group_by_engine_type\n",
    "import pandas as pd\n",
    "import numpy as np\n",
    "import matplotlib.pyplot as plt"
   ]
  },
  {
   "cell_type": "code",
   "execution_count": 3,
   "metadata": {},
   "outputs": [],
   "source": [
    "static = pd.read_csv('../VED_Static_Data_ICE_HEV.csv')\n",
    "timeseries = pd.read_csv('../sample_data.csv')\n",
    "ICEs, HEVs, PHEVs, BEVs = group_by_engine_type(static, timeseries)\n",
    "ICE_trips = group_into_trips(ICEs)\n",
    "HEV_trips = group_into_trips(HEVs)\n",
    "PHEV_trips = group_into_trips(PHEVs)\n",
    "BEV_trips = group_into_trips(BEVs)\n"
   ]
  },
  {
   "cell_type": "code",
   "execution_count": 10,
   "metadata": {},
   "outputs": [],
   "source": [
    "for i, trip in enumerate(ICE):\n",
    "    f = open(f'BEV_trip{i}.csv', 'w')\n",
    "    trip.to_csv(f)"
   ]
  },
  {
   "cell_type": "code",
   "execution_count": null,
   "metadata": {},
   "outputs": [],
   "source": []
  }
 ]
}