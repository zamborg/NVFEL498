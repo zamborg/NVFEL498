{
 "cells": [
  {
   "source": [
    "%load_ext autoreload\n",
    "%autoreload 2"
   ],
   "cell_type": "markdown",
   "metadata": {}
  },
  {
   "cell_type": "code",
   "execution_count": 37,
   "id": "lucky-patch",
   "metadata": {},
   "outputs": [],
   "source": [
    "from utils import *"
   ]
  },
  {
   "cell_type": "code",
   "execution_count": 38,
   "id": "marked-fabric",
   "metadata": {},
   "outputs": [],
   "source": [
    "import glob\n",
    "import os\n",
    "import pandas as pd\n",
    "from tqdm.notebook import tqdm\n",
    "import matplotlib.pyplot as plt\n",
    "import os\n",
    "import numpy as np\n",
    "import re"
   ]
  },
  {
   "cell_type": "code",
   "execution_count": 39,
   "id": "regulation-interim",
   "metadata": {},
   "outputs": [],
   "source": [
    "paths = sorted(glob.glob(os.path.join(RAW_DATA_PATH, '*.csv')))"
   ]
  },
  {
   "cell_type": "code",
   "execution_count": 40,
   "id": "manufactured-texas",
   "metadata": {},
   "outputs": [
    {
     "output_type": "execute_result",
     "data": {
      "text/plain": [
       "[]"
      ]
     },
     "metadata": {},
     "execution_count": 40
    }
   ],
   "source": [
    "paths[:10]"
   ]
  },
  {
   "cell_type": "code",
   "execution_count": 42,
   "id": "connected-woman",
   "metadata": {},
   "outputs": [
    {
     "output_type": "error",
     "ename": "IndexError",
     "evalue": "list index out of range",
     "traceback": [
      "\u001b[0;31m---------------------------------------------------------------------------\u001b[0m",
      "\u001b[0;31mIndexError\u001b[0m                                Traceback (most recent call last)",
      "\u001b[0;32m<ipython-input-42-ef422f6bc4d1>\u001b[0m in \u001b[0;36m<module>\u001b[0;34m\u001b[0m\n\u001b[0;32m----> 1\u001b[0;31m \u001b[0mos\u001b[0m\u001b[0;34m.\u001b[0m\u001b[0mpath\u001b[0m\u001b[0;34m.\u001b[0m\u001b[0mbasename\u001b[0m\u001b[0;34m(\u001b[0m\u001b[0mpaths\u001b[0m\u001b[0;34m[\u001b[0m\u001b[0;36m10\u001b[0m\u001b[0;34m]\u001b[0m\u001b[0;34m)\u001b[0m\u001b[0;34m\u001b[0m\u001b[0;34m\u001b[0m\u001b[0m\n\u001b[0m\u001b[1;32m      2\u001b[0m \u001b[0mos\u001b[0m\u001b[0;34m.\u001b[0m\u001b[0mpath\u001b[0m\u001b[0;34m.\u001b[0m\u001b[0mbasename\u001b[0m\u001b[0;34m(\u001b[0m\u001b[0mpaths\u001b[0m\u001b[0;34m[\u001b[0m\u001b[0;36m0\u001b[0m\u001b[0;34m]\u001b[0m\u001b[0;34m)\u001b[0m\u001b[0;34m\u001b[0m\u001b[0;34m\u001b[0m\u001b[0m\n",
      "\u001b[0;31mIndexError\u001b[0m: list index out of range"
     ]
    }
   ],
   "source": [
    "os.path.basename(paths[10])\n",
    "os.path.basename(paths[0])"
   ]
  },
  {
   "cell_type": "code",
   "execution_count": null,
   "id": "logical-variety",
   "metadata": {},
   "outputs": [],
   "source": []
  },
  {
   "cell_type": "code",
   "execution_count": 36,
   "id": "fuzzy-continuity",
   "metadata": {},
   "outputs": [
    {
     "output_type": "error",
     "ename": "FileNotFoundError",
     "evalue": "[Errno 2] No such file or directory: '../Copy of VED_Static_Data_ICE&HEV.csv'",
     "traceback": [
      "\u001b[0;31m---------------------------------------------------------------------------\u001b[0m",
      "\u001b[0;31mFileNotFoundError\u001b[0m                         Traceback (most recent call last)",
      "\u001b[0;32m<ipython-input-36-400570a29ec6>\u001b[0m in \u001b[0;36m<module>\u001b[0;34m\u001b[0m\n\u001b[1;32m      1\u001b[0m \u001b[0mnonEVpath\u001b[0m \u001b[0;34m=\u001b[0m \u001b[0;34m'../Copy of VED_Static_Data_ICE&HEV.csv'\u001b[0m\u001b[0;34m\u001b[0m\u001b[0;34m\u001b[0m\u001b[0m\n\u001b[0;32m----> 2\u001b[0;31m \u001b[0mnonEVs\u001b[0m \u001b[0;34m=\u001b[0m \u001b[0mpd\u001b[0m\u001b[0;34m.\u001b[0m\u001b[0mread_csv\u001b[0m\u001b[0;34m(\u001b[0m\u001b[0mnonEVpath\u001b[0m\u001b[0;34m)\u001b[0m\u001b[0;34m\u001b[0m\u001b[0;34m\u001b[0m\u001b[0m\n\u001b[0m\u001b[1;32m      3\u001b[0m \u001b[0mnonEVs\u001b[0m\u001b[0;34m\u001b[0m\u001b[0;34m\u001b[0m\u001b[0m\n\u001b[1;32m      4\u001b[0m \u001b[0mnonEV_IDs\u001b[0m \u001b[0;34m=\u001b[0m \u001b[0mpd\u001b[0m\u001b[0;34m.\u001b[0m\u001b[0mSeries\u001b[0m\u001b[0;34m(\u001b[0m\u001b[0mnonEVs\u001b[0m\u001b[0;34m.\u001b[0m\u001b[0mVehId\u001b[0m\u001b[0;34m)\u001b[0m\u001b[0;34m\u001b[0m\u001b[0;34m\u001b[0m\u001b[0m\n\u001b[1;32m      5\u001b[0m \u001b[0mnonEV_IDs\u001b[0m\u001b[0;34m\u001b[0m\u001b[0;34m\u001b[0m\u001b[0m\n",
      "\u001b[0;32m/usr/local/lib/python3.9/site-packages/pandas/io/parsers.py\u001b[0m in \u001b[0;36mread_csv\u001b[0;34m(filepath_or_buffer, sep, delimiter, header, names, index_col, usecols, squeeze, prefix, mangle_dupe_cols, dtype, engine, converters, true_values, false_values, skipinitialspace, skiprows, skipfooter, nrows, na_values, keep_default_na, na_filter, verbose, skip_blank_lines, parse_dates, infer_datetime_format, keep_date_col, date_parser, dayfirst, cache_dates, iterator, chunksize, compression, thousands, decimal, lineterminator, quotechar, quoting, doublequote, escapechar, comment, encoding, dialect, error_bad_lines, warn_bad_lines, delim_whitespace, low_memory, memory_map, float_precision, storage_options)\u001b[0m\n\u001b[1;32m    608\u001b[0m     \u001b[0mkwds\u001b[0m\u001b[0;34m.\u001b[0m\u001b[0mupdate\u001b[0m\u001b[0;34m(\u001b[0m\u001b[0mkwds_defaults\u001b[0m\u001b[0;34m)\u001b[0m\u001b[0;34m\u001b[0m\u001b[0;34m\u001b[0m\u001b[0m\n\u001b[1;32m    609\u001b[0m \u001b[0;34m\u001b[0m\u001b[0m\n\u001b[0;32m--> 610\u001b[0;31m     \u001b[0;32mreturn\u001b[0m \u001b[0m_read\u001b[0m\u001b[0;34m(\u001b[0m\u001b[0mfilepath_or_buffer\u001b[0m\u001b[0;34m,\u001b[0m \u001b[0mkwds\u001b[0m\u001b[0;34m)\u001b[0m\u001b[0;34m\u001b[0m\u001b[0;34m\u001b[0m\u001b[0m\n\u001b[0m\u001b[1;32m    611\u001b[0m \u001b[0;34m\u001b[0m\u001b[0m\n\u001b[1;32m    612\u001b[0m \u001b[0;34m\u001b[0m\u001b[0m\n",
      "\u001b[0;32m/usr/local/lib/python3.9/site-packages/pandas/io/parsers.py\u001b[0m in \u001b[0;36m_read\u001b[0;34m(filepath_or_buffer, kwds)\u001b[0m\n\u001b[1;32m    460\u001b[0m \u001b[0;34m\u001b[0m\u001b[0m\n\u001b[1;32m    461\u001b[0m     \u001b[0;31m# Create the parser.\u001b[0m\u001b[0;34m\u001b[0m\u001b[0;34m\u001b[0m\u001b[0;34m\u001b[0m\u001b[0m\n\u001b[0;32m--> 462\u001b[0;31m     \u001b[0mparser\u001b[0m \u001b[0;34m=\u001b[0m \u001b[0mTextFileReader\u001b[0m\u001b[0;34m(\u001b[0m\u001b[0mfilepath_or_buffer\u001b[0m\u001b[0;34m,\u001b[0m \u001b[0;34m**\u001b[0m\u001b[0mkwds\u001b[0m\u001b[0;34m)\u001b[0m\u001b[0;34m\u001b[0m\u001b[0;34m\u001b[0m\u001b[0m\n\u001b[0m\u001b[1;32m    463\u001b[0m \u001b[0;34m\u001b[0m\u001b[0m\n\u001b[1;32m    464\u001b[0m     \u001b[0;32mif\u001b[0m \u001b[0mchunksize\u001b[0m \u001b[0;32mor\u001b[0m \u001b[0miterator\u001b[0m\u001b[0;34m:\u001b[0m\u001b[0;34m\u001b[0m\u001b[0;34m\u001b[0m\u001b[0m\n",
      "\u001b[0;32m/usr/local/lib/python3.9/site-packages/pandas/io/parsers.py\u001b[0m in \u001b[0;36m__init__\u001b[0;34m(self, f, engine, **kwds)\u001b[0m\n\u001b[1;32m    817\u001b[0m             \u001b[0mself\u001b[0m\u001b[0;34m.\u001b[0m\u001b[0moptions\u001b[0m\u001b[0;34m[\u001b[0m\u001b[0;34m\"has_index_names\"\u001b[0m\u001b[0;34m]\u001b[0m \u001b[0;34m=\u001b[0m \u001b[0mkwds\u001b[0m\u001b[0;34m[\u001b[0m\u001b[0;34m\"has_index_names\"\u001b[0m\u001b[0;34m]\u001b[0m\u001b[0;34m\u001b[0m\u001b[0;34m\u001b[0m\u001b[0m\n\u001b[1;32m    818\u001b[0m \u001b[0;34m\u001b[0m\u001b[0m\n\u001b[0;32m--> 819\u001b[0;31m         \u001b[0mself\u001b[0m\u001b[0;34m.\u001b[0m\u001b[0m_engine\u001b[0m \u001b[0;34m=\u001b[0m \u001b[0mself\u001b[0m\u001b[0;34m.\u001b[0m\u001b[0m_make_engine\u001b[0m\u001b[0;34m(\u001b[0m\u001b[0mself\u001b[0m\u001b[0;34m.\u001b[0m\u001b[0mengine\u001b[0m\u001b[0;34m)\u001b[0m\u001b[0;34m\u001b[0m\u001b[0;34m\u001b[0m\u001b[0m\n\u001b[0m\u001b[1;32m    820\u001b[0m \u001b[0;34m\u001b[0m\u001b[0m\n\u001b[1;32m    821\u001b[0m     \u001b[0;32mdef\u001b[0m \u001b[0mclose\u001b[0m\u001b[0;34m(\u001b[0m\u001b[0mself\u001b[0m\u001b[0;34m)\u001b[0m\u001b[0;34m:\u001b[0m\u001b[0;34m\u001b[0m\u001b[0;34m\u001b[0m\u001b[0m\n",
      "\u001b[0;32m/usr/local/lib/python3.9/site-packages/pandas/io/parsers.py\u001b[0m in \u001b[0;36m_make_engine\u001b[0;34m(self, engine)\u001b[0m\n\u001b[1;32m   1048\u001b[0m             )\n\u001b[1;32m   1049\u001b[0m         \u001b[0;31m# error: Too many arguments for \"ParserBase\"\u001b[0m\u001b[0;34m\u001b[0m\u001b[0;34m\u001b[0m\u001b[0;34m\u001b[0m\u001b[0m\n\u001b[0;32m-> 1050\u001b[0;31m         \u001b[0;32mreturn\u001b[0m \u001b[0mmapping\u001b[0m\u001b[0;34m[\u001b[0m\u001b[0mengine\u001b[0m\u001b[0;34m]\u001b[0m\u001b[0;34m(\u001b[0m\u001b[0mself\u001b[0m\u001b[0;34m.\u001b[0m\u001b[0mf\u001b[0m\u001b[0;34m,\u001b[0m \u001b[0;34m**\u001b[0m\u001b[0mself\u001b[0m\u001b[0;34m.\u001b[0m\u001b[0moptions\u001b[0m\u001b[0;34m)\u001b[0m  \u001b[0;31m# type: ignore[call-arg]\u001b[0m\u001b[0;34m\u001b[0m\u001b[0;34m\u001b[0m\u001b[0m\n\u001b[0m\u001b[1;32m   1051\u001b[0m \u001b[0;34m\u001b[0m\u001b[0m\n\u001b[1;32m   1052\u001b[0m     \u001b[0;32mdef\u001b[0m \u001b[0m_failover_to_python\u001b[0m\u001b[0;34m(\u001b[0m\u001b[0mself\u001b[0m\u001b[0;34m)\u001b[0m\u001b[0;34m:\u001b[0m\u001b[0;34m\u001b[0m\u001b[0;34m\u001b[0m\u001b[0m\n",
      "\u001b[0;32m/usr/local/lib/python3.9/site-packages/pandas/io/parsers.py\u001b[0m in \u001b[0;36m__init__\u001b[0;34m(self, src, **kwds)\u001b[0m\n\u001b[1;32m   1865\u001b[0m \u001b[0;34m\u001b[0m\u001b[0m\n\u001b[1;32m   1866\u001b[0m         \u001b[0;31m# open handles\u001b[0m\u001b[0;34m\u001b[0m\u001b[0;34m\u001b[0m\u001b[0;34m\u001b[0m\u001b[0m\n\u001b[0;32m-> 1867\u001b[0;31m         \u001b[0mself\u001b[0m\u001b[0;34m.\u001b[0m\u001b[0m_open_handles\u001b[0m\u001b[0;34m(\u001b[0m\u001b[0msrc\u001b[0m\u001b[0;34m,\u001b[0m \u001b[0mkwds\u001b[0m\u001b[0;34m)\u001b[0m\u001b[0;34m\u001b[0m\u001b[0;34m\u001b[0m\u001b[0m\n\u001b[0m\u001b[1;32m   1868\u001b[0m         \u001b[0;32massert\u001b[0m \u001b[0mself\u001b[0m\u001b[0;34m.\u001b[0m\u001b[0mhandles\u001b[0m \u001b[0;32mis\u001b[0m \u001b[0;32mnot\u001b[0m \u001b[0;32mNone\u001b[0m\u001b[0;34m\u001b[0m\u001b[0;34m\u001b[0m\u001b[0m\n\u001b[1;32m   1869\u001b[0m         \u001b[0;32mfor\u001b[0m \u001b[0mkey\u001b[0m \u001b[0;32min\u001b[0m \u001b[0;34m(\u001b[0m\u001b[0;34m\"storage_options\"\u001b[0m\u001b[0;34m,\u001b[0m \u001b[0;34m\"encoding\"\u001b[0m\u001b[0;34m,\u001b[0m \u001b[0;34m\"memory_map\"\u001b[0m\u001b[0;34m,\u001b[0m \u001b[0;34m\"compression\"\u001b[0m\u001b[0;34m)\u001b[0m\u001b[0;34m:\u001b[0m\u001b[0;34m\u001b[0m\u001b[0;34m\u001b[0m\u001b[0m\n",
      "\u001b[0;32m/usr/local/lib/python3.9/site-packages/pandas/io/parsers.py\u001b[0m in \u001b[0;36m_open_handles\u001b[0;34m(self, src, kwds)\u001b[0m\n\u001b[1;32m   1360\u001b[0m         \u001b[0mLet\u001b[0m \u001b[0mthe\u001b[0m \u001b[0mreaders\u001b[0m \u001b[0mopen\u001b[0m \u001b[0mIOHanldes\u001b[0m \u001b[0mafter\u001b[0m \u001b[0mthey\u001b[0m \u001b[0mare\u001b[0m \u001b[0mdone\u001b[0m \u001b[0;32mwith\u001b[0m \u001b[0mtheir\u001b[0m \u001b[0mpotential\u001b[0m \u001b[0mraises\u001b[0m\u001b[0;34m.\u001b[0m\u001b[0;34m\u001b[0m\u001b[0;34m\u001b[0m\u001b[0m\n\u001b[1;32m   1361\u001b[0m         \"\"\"\n\u001b[0;32m-> 1362\u001b[0;31m         self.handles = get_handle(\n\u001b[0m\u001b[1;32m   1363\u001b[0m             \u001b[0msrc\u001b[0m\u001b[0;34m,\u001b[0m\u001b[0;34m\u001b[0m\u001b[0;34m\u001b[0m\u001b[0m\n\u001b[1;32m   1364\u001b[0m             \u001b[0;34m\"r\"\u001b[0m\u001b[0;34m,\u001b[0m\u001b[0;34m\u001b[0m\u001b[0;34m\u001b[0m\u001b[0m\n",
      "\u001b[0;32m/usr/local/lib/python3.9/site-packages/pandas/io/common.py\u001b[0m in \u001b[0;36mget_handle\u001b[0;34m(path_or_buf, mode, encoding, compression, memory_map, is_text, errors, storage_options)\u001b[0m\n\u001b[1;32m    640\u001b[0m                 \u001b[0merrors\u001b[0m \u001b[0;34m=\u001b[0m \u001b[0;34m\"replace\"\u001b[0m\u001b[0;34m\u001b[0m\u001b[0;34m\u001b[0m\u001b[0m\n\u001b[1;32m    641\u001b[0m             \u001b[0;31m# Encoding\u001b[0m\u001b[0;34m\u001b[0m\u001b[0;34m\u001b[0m\u001b[0;34m\u001b[0m\u001b[0m\n\u001b[0;32m--> 642\u001b[0;31m             handle = open(\n\u001b[0m\u001b[1;32m    643\u001b[0m                 \u001b[0mhandle\u001b[0m\u001b[0;34m,\u001b[0m\u001b[0;34m\u001b[0m\u001b[0;34m\u001b[0m\u001b[0m\n\u001b[1;32m    644\u001b[0m                 \u001b[0mioargs\u001b[0m\u001b[0;34m.\u001b[0m\u001b[0mmode\u001b[0m\u001b[0;34m,\u001b[0m\u001b[0;34m\u001b[0m\u001b[0;34m\u001b[0m\u001b[0m\n",
      "\u001b[0;31mFileNotFoundError\u001b[0m: [Errno 2] No such file or directory: '../Copy of VED_Static_Data_ICE&HEV.csv'"
     ]
    }
   ],
   "source": [
    "nonEVpath = '../Copy of VED_Static_Data_ICE&HEV.csv'\n",
    "nonEVs = pd.read_csv(nonEVpath)\n",
    "nonEVs\n",
    "nonEV_IDs = pd.Series(nonEVs.VehId)\n",
    "nonEV_IDs"
   ]
  },
  {
   "cell_type": "code",
   "execution_count": 16,
   "id": "sorted-claim",
   "metadata": {},
   "outputs": [
    {
     "data": {
      "text/plain": [
       "'ICE'"
      ]
     },
     "execution_count": 16,
     "metadata": {},
     "output_type": "execute_result"
    }
   ],
   "source": [
    "nonEVs.loc[nonEVs['VehId'] == 2, 'Vehicle Type'][0]"
   ]
  },
  {
   "cell_type": "code",
   "execution_count": 17,
   "id": "ancient-process",
   "metadata": {},
   "outputs": [
    {
     "name": "stdout",
     "output_type": "stream",
     "text": [
      "/home/aysola/midas-applied-ds/Data/Raw/VED/VED_171101_week.csv\n"
     ]
    }
   ],
   "source": [
    "data = pd.read_csv(paths[0])\n",
    "print(paths[0])"
   ]
  },
  {
   "cell_type": "code",
   "execution_count": 18,
   "id": "photographic-classification",
   "metadata": {},
   "outputs": [
    {
     "data": {
      "text/plain": [
       "706"
      ]
     },
     "execution_count": 18,
     "metadata": {},
     "output_type": "execute_result"
    }
   ],
   "source": [
    "data['Trip'][0]"
   ]
  },
  {
   "cell_type": "code",
   "execution_count": 19,
   "id": "surface-teaching",
   "metadata": {},
   "outputs": [
    {
     "data": {
      "text/plain": [
       "1866    6358\n",
       "736     3391\n",
       "789     3116\n",
       "990     3016\n",
       "982     2958\n",
       "        ... \n",
       "893      106\n",
       "60       106\n",
       "325      105\n",
       "1599     103\n",
       "768      101\n",
       "Name: Trip, Length: 658, dtype: int64"
      ]
     },
     "execution_count": 19,
     "metadata": {},
     "output_type": "execute_result"
    }
   ],
   "source": [
    "data['Trip'].value_counts()"
   ]
  },
  {
   "cell_type": "code",
   "execution_count": 20,
   "id": "requested-testimony",
   "metadata": {},
   "outputs": [
    {
     "data": {
      "text/plain": [
       "Index(['DayNum', 'VehId', 'Trip', 'Timestamp(ms)', 'Latitude[deg]',\n",
       "       'Longitude[deg]', 'Vehicle Speed[km/h]', 'MAF[g/sec]',\n",
       "       'Engine RPM[RPM]', 'Absolute Load[%]', 'OAT[DegC]', 'Fuel Rate[L/hr]',\n",
       "       'Air Conditioning Power[kW]', 'Air Conditioning Power[Watts]',\n",
       "       'Heater Power[Watts]', 'HV Battery Current[A]', 'HV Battery SOC[%]',\n",
       "       'HV Battery Voltage[V]', 'Short Term Fuel Trim Bank 1[%]',\n",
       "       'Short Term Fuel Trim Bank 2[%]', 'Long Term Fuel Trim Bank 1[%]',\n",
       "       'Long Term Fuel Trim Bank 2[%]'],\n",
       "      dtype='object')"
      ]
     },
     "execution_count": 20,
     "metadata": {},
     "output_type": "execute_result"
    }
   ],
   "source": [
    "data.columns"
   ]
  },
  {
   "cell_type": "code",
   "execution_count": 38,
   "id": "electric-trick",
   "metadata": {},
   "outputs": [
    {
     "name": "stderr",
     "output_type": "stream",
     "text": [
      "100%|██████████| 2/2 [01:09<00:00, 34.79s/it]\n"
     ]
    }
   ],
   "source": [
    "ave_speed_func = lambda x: x['Vehicle Speed[km/h]'].mean()\n",
    "ave_speed = extract_trip_info(paths[:2], ave_speed_func)"
   ]
  },
  {
   "cell_type": "code",
   "execution_count": 39,
   "id": "optical-melissa",
   "metadata": {},
   "outputs": [
    {
     "data": {
      "text/html": [
       "<div>\n",
       "<style scoped>\n",
       "    .dataframe tbody tr th:only-of-type {\n",
       "        vertical-align: middle;\n",
       "    }\n",
       "\n",
       "    .dataframe tbody tr th {\n",
       "        vertical-align: top;\n",
       "    }\n",
       "\n",
       "    .dataframe thead th {\n",
       "        text-align: right;\n",
       "    }\n",
       "</style>\n",
       "<table border=\"1\" class=\"dataframe\">\n",
       "  <thead>\n",
       "    <tr style=\"text-align: right;\">\n",
       "      <th></th>\n",
       "      <th>Trip</th>\n",
       "      <th>values</th>\n",
       "    </tr>\n",
       "  </thead>\n",
       "  <tbody>\n",
       "    <tr>\n",
       "      <th>0</th>\n",
       "      <td>1866</td>\n",
       "      <td>5.864737</td>\n",
       "    </tr>\n",
       "    <tr>\n",
       "      <th>1</th>\n",
       "      <td>736</td>\n",
       "      <td>25.347095</td>\n",
       "    </tr>\n",
       "    <tr>\n",
       "      <th>2</th>\n",
       "      <td>789</td>\n",
       "      <td>55.677340</td>\n",
       "    </tr>\n",
       "    <tr>\n",
       "      <th>3</th>\n",
       "      <td>990</td>\n",
       "      <td>38.500205</td>\n",
       "    </tr>\n",
       "    <tr>\n",
       "      <th>4</th>\n",
       "      <td>982</td>\n",
       "      <td>37.081812</td>\n",
       "    </tr>\n",
       "    <tr>\n",
       "      <th>...</th>\n",
       "      <td>...</td>\n",
       "      <td>...</td>\n",
       "    </tr>\n",
       "    <tr>\n",
       "      <th>1038</th>\n",
       "      <td>1110</td>\n",
       "      <td>69.907407</td>\n",
       "    </tr>\n",
       "    <tr>\n",
       "      <th>1039</th>\n",
       "      <td>1057</td>\n",
       "      <td>39.809524</td>\n",
       "    </tr>\n",
       "    <tr>\n",
       "      <th>1040</th>\n",
       "      <td>310</td>\n",
       "      <td>45.211538</td>\n",
       "    </tr>\n",
       "    <tr>\n",
       "      <th>1041</th>\n",
       "      <td>1301</td>\n",
       "      <td>44.634615</td>\n",
       "    </tr>\n",
       "    <tr>\n",
       "      <th>1042</th>\n",
       "      <td>2549</td>\n",
       "      <td>19.284314</td>\n",
       "    </tr>\n",
       "  </tbody>\n",
       "</table>\n",
       "<p>1043 rows × 2 columns</p>\n",
       "</div>"
      ],
      "text/plain": [
       "      Trip     values\n",
       "0     1866   5.864737\n",
       "1      736  25.347095\n",
       "2      789  55.677340\n",
       "3      990  38.500205\n",
       "4      982  37.081812\n",
       "...    ...        ...\n",
       "1038  1110  69.907407\n",
       "1039  1057  39.809524\n",
       "1040   310  45.211538\n",
       "1041  1301  44.634615\n",
       "1042  2549  19.284314\n",
       "\n",
       "[1043 rows x 2 columns]"
      ]
     },
     "execution_count": 39,
     "metadata": {},
     "output_type": "execute_result"
    }
   ],
   "source": [
    "ave_speed"
   ]
  },
  {
   "cell_type": "code",
   "execution_count": 32,
   "id": "finite-aggregate",
   "metadata": {},
   "outputs": [
    {
     "data": {
      "text/plain": [
       "(array([  8.,  74., 235., 356., 223.,  84.,  33.,  14.,  12.,   2.]),\n",
       " array([  2.61940299,  12.81421556,  23.00902814,  33.20384071,\n",
       "         43.39865329,  53.59346586,  63.78827844,  73.98309101,\n",
       "         84.17790359,  94.37271616, 104.56752874]),\n",
       " <BarContainer object of 10 artists>)"
      ]
     },
     "execution_count": 32,
     "metadata": {},
     "output_type": "execute_result"
    },
    {
     "data": {
      "image/png": "[encoded data removed]",
      "text/plain": [
       "<Figure size 432x288 with 1 Axes>"
      ]
     },
     "metadata": {
      "needs_background": "light"
     },
     "output_type": "display_data"
    }
   ],
   "source": [
    "plt.hist(ave_speed['values'])"
   ]
  },
  {
   "cell_type": "code",
   "execution_count": 54,
   "id": "returning-september",
   "metadata": {},
   "outputs": [
    {
     "name": "stderr",
     "output_type": "stream",
     "text": [
      "100%|██████████| 54/54 [01:03<00:00,  1.17s/it]\n"
     ]
    }
   ],
   "source": [
    "all_data = extract_trip_info(RAW_PATHS, ave_speed_func, name='averageSpeed')"
   ]
  },
  {
   "cell_type": "code",
   "execution_count": 39,
   "id": "eligible-yesterday",
   "metadata": {},
   "outputs": [
    {
     "data": {
      "text/plain": [
       "(4153, 2)"
      ]
     },
     "execution_count": 39,
     "metadata": {},
     "output_type": "execute_result"
    }
   ],
   "source": [
    "all_data.shape"
   ]
  },
  {
   "cell_type": "code",
   "execution_count": 47,
   "id": "devoted-legislature",
   "metadata": {},
   "outputs": [
    {
     "name": "stderr",
     "output_type": "stream",
     "text": [
      "100%|██████████| 54/54 [01:02<00:00,  1.16s/it]\n"
     ]
    }
   ],
   "source": [
    "max_speed_func = lambda x:x['Vehicle Speed[km/h]'].max()\n",
    "max_speed = extract_trip_info(RAW_PATHS, max_speed_func, name = 'maxSpeed')"
   ]
  },
  {
   "cell_type": "code",
   "execution_count": 55,
   "id": "extensive-history",
   "metadata": {},
   "outputs": [],
   "source": [
    "all_data = pd.merge(all_data, max_speed, on='Trip')"
   ]
  },
  {
   "cell_type": "code",
   "execution_count": 56,
   "id": "inside-support",
   "metadata": {},
   "outputs": [
    {
     "data": {
      "text/html": [
       "<div>\n",
       "<style scoped>\n",
       "    .dataframe tbody tr th:only-of-type {\n",
       "        vertical-align: middle;\n",
       "    }\n",
       "\n",
       "    .dataframe tbody tr th {\n",
       "        vertical-align: top;\n",
       "    }\n",
       "\n",
       "    .dataframe thead th {\n",
       "        text-align: right;\n",
       "    }\n",
       "</style>\n",
       "<table border=\"1\" class=\"dataframe\">\n",
       "  <thead>\n",
       "    <tr style=\"text-align: right;\">\n",
       "      <th></th>\n",
       "      <th>Trip</th>\n",
       "      <th>averageSpeed</th>\n",
       "      <th>maxSpeed</th>\n",
       "    </tr>\n",
       "  </thead>\n",
       "  <tbody>\n",
       "    <tr>\n",
       "      <th>0</th>\n",
       "      <td>1866</td>\n",
       "      <td>54.706383</td>\n",
       "      <td>68.0</td>\n",
       "    </tr>\n",
       "    <tr>\n",
       "      <th>1</th>\n",
       "      <td>736</td>\n",
       "      <td>44.024490</td>\n",
       "      <td>69.0</td>\n",
       "    </tr>\n",
       "    <tr>\n",
       "      <th>2</th>\n",
       "      <td>789</td>\n",
       "      <td>41.033951</td>\n",
       "      <td>75.0</td>\n",
       "    </tr>\n",
       "    <tr>\n",
       "      <th>3</th>\n",
       "      <td>990</td>\n",
       "      <td>51.011009</td>\n",
       "      <td>75.0</td>\n",
       "    </tr>\n",
       "    <tr>\n",
       "      <th>4</th>\n",
       "      <td>982</td>\n",
       "      <td>62.472637</td>\n",
       "      <td>91.0</td>\n",
       "    </tr>\n",
       "    <tr>\n",
       "      <th>...</th>\n",
       "      <td>...</td>\n",
       "      <td>...</td>\n",
       "      <td>...</td>\n",
       "    </tr>\n",
       "    <tr>\n",
       "      <th>4148</th>\n",
       "      <td>3054</td>\n",
       "      <td>45.772321</td>\n",
       "      <td>73.0</td>\n",
       "    </tr>\n",
       "    <tr>\n",
       "      <th>4149</th>\n",
       "      <td>3473</td>\n",
       "      <td>49.724551</td>\n",
       "      <td>81.0</td>\n",
       "    </tr>\n",
       "    <tr>\n",
       "      <th>4150</th>\n",
       "      <td>11580</td>\n",
       "      <td>39.347682</td>\n",
       "      <td>63.0</td>\n",
       "    </tr>\n",
       "    <tr>\n",
       "      <th>4151</th>\n",
       "      <td>8788</td>\n",
       "      <td>50.596364</td>\n",
       "      <td>82.0</td>\n",
       "    </tr>\n",
       "    <tr>\n",
       "      <th>4152</th>\n",
       "      <td>11571</td>\n",
       "      <td>35.566176</td>\n",
       "      <td>54.0</td>\n",
       "    </tr>\n",
       "  </tbody>\n",
       "</table>\n",
       "<p>4153 rows × 3 columns</p>\n",
       "</div>"
      ],
      "text/plain": [
       "       Trip  averageSpeed  maxSpeed\n",
       "0      1866     54.706383      68.0\n",
       "1       736     44.024490      69.0\n",
       "2       789     41.033951      75.0\n",
       "3       990     51.011009      75.0\n",
       "4       982     62.472637      91.0\n",
       "...     ...           ...       ...\n",
       "4148   3054     45.772321      73.0\n",
       "4149   3473     49.724551      81.0\n",
       "4150  11580     39.347682      63.0\n",
       "4151   8788     50.596364      82.0\n",
       "4152  11571     35.566176      54.0\n",
       "\n",
       "[4153 rows x 3 columns]"
      ]
     },
     "execution_count": 56,
     "metadata": {},
     "output_type": "execute_result"
    }
   ],
   "source": [
    "all_data"
   ]
  },
  {
   "cell_type": "code",
   "execution_count": 7,
   "id": "present-divorce",
   "metadata": {},
   "outputs": [
    {
     "data": {
      "text/plain": [
       "'\\nInstantaneous Fuel Consumption Algorithm (MAF, Absolute Load, Displacement_eng, RPM_eng):\\n    if Fuel Rate is available then\\n        return Fuel Rate\\n    else if MAF is available then\\n        Fuel Flow (l/h) = (MAF * 3600)(AFR * FD)\\n        Inst Fuel Consumption Rate (l/km) = Fuel Flow / Speed (km)\\n        return Inst Fuel Consumption Rate\\n    else if Absolute Load and RPM_eng are available then\\n        MAF = 1.84 * displacement * absLoad/100 * RPM/2/60\\n        Fuel Flow (l/h) = (MAF * 3600)(AFR * FD)\\n        Inst Fuel Consumption Rate (l/km) = Fuel Flow / Speed (km)\\n        return Inst Fuel Consumption Rate\\n    else\\n        return NaN\\n'"
      ]
     },
     "execution_count": 7,
     "metadata": {},
     "output_type": "execute_result"
    }
   ],
   "source": [
    "'''\n",
    "Instantaneous Fuel Consumption Algorithm (MAF, Absolute Load, Displacement_eng, RPM_eng):\n",
    "    if Fuel Rate is available then\n",
    "        return Fuel Rate\n",
    "    else if MAF is available then\n",
    "        Fuel Flow (l/h) = (MAF * 3600)(AFR * FD)\n",
    "        Inst Fuel Consumption Rate (l/km) = Fuel Flow / Speed (km)\n",
    "        return Inst Fuel Consumption Rate\n",
    "    else if Absolute Load and RPM_eng are available then\n",
    "        MAF = 1.84 * displacement * absLoad/100 * RPM/2/60\n",
    "        Fuel Flow (l/h) = (MAF * 3600)(AFR * FD)\n",
    "        Inst Fuel Consumption Rate (l/km) = Fuel Flow / Speed (km)\n",
    "        return Inst Fuel Consumption Rate\n",
    "    else\n",
    "        return NaN\n",
    "'''\n"
   ]
  },
  {
   "cell_type": "code",
   "execution_count": 70,
   "id": "inappropriate-fashion",
   "metadata": {},
   "outputs": [
    {
     "data": {
      "text/plain": [
       "<NA>"
      ]
     },
     "execution_count": 70,
     "metadata": {},
     "output_type": "execute_result"
    }
   ],
   "source": [
    "pd.NA"
   ]
  },
  {
   "cell_type": "code",
   "execution_count": 12,
   "id": "hairy-habitat",
   "metadata": {},
   "outputs": [
    {
     "output_type": "stream",
     "name": "stderr",
     "text": [
      "<>:3: SyntaxWarning: \"is not\" with a literal. Did you mean \"!=\"?\n<>:8: SyntaxWarning: \"is\" with a literal. Did you mean \"==\"?\n<>:11: SyntaxWarning: \"is not\" with a literal. Did you mean \"!=\"?\n<>:16: SyntaxWarning: \"is\" with a literal. Did you mean \"==\"?\n<>:3: SyntaxWarning: \"is not\" with a literal. Did you mean \"!=\"?\n<>:8: SyntaxWarning: \"is\" with a literal. Did you mean \"==\"?\n<>:11: SyntaxWarning: \"is not\" with a literal. Did you mean \"!=\"?\n<>:16: SyntaxWarning: \"is\" with a literal. Did you mean \"==\"?\n<ipython-input-12-ed4d7b2d3908>:3: SyntaxWarning: \"is not\" with a literal. Did you mean \"!=\"?\n  if MAF is not 'NaN':\n<ipython-input-12-ed4d7b2d3908>:8: SyntaxWarning: \"is\" with a literal. Did you mean \"==\"?\n  if inst_rate is 'inf':\n<ipython-input-12-ed4d7b2d3908>:11: SyntaxWarning: \"is not\" with a literal. Did you mean \"!=\"?\n  elif absLoad is not 'NaN':\n<ipython-input-12-ed4d7b2d3908>:16: SyntaxWarning: \"is\" with a literal. Did you mean \"==\"?\n  if vehicle_speed is 0:\n"
     ]
    }
   ],
   "source": [
    "def inst_fuel_algo(MAF, absLoad, RPM, vehicle_speed, VehID, nonEV_IDs):\n",
    "\n",
    "    if MAF is not 'NaN':\n",
    "        fuel_flow = (MAF * 3600)/(14.7 * 820)\n",
    "        if vehicle_speed == 0:\n",
    "            return 0\n",
    "        inst_rate = fuel_flow / vehicle_speed\n",
    "        if inst_rate is 'inf':\n",
    "            return 0\n",
    "        return inst_rate\n",
    "    elif absLoad is not 'NaN':\n",
    "        displacement = nonEVs.loc[nonEVs['VehId'] == VehID, 'Engine Configuration & Displacement'][0]\n",
    "        displacement = float(displacement.split(\" \")[1].strip(\"L\"))\n",
    "        MAF = 1.84 * displacement * absLoad/100 * RPM/2/60\n",
    "        fuel_flow = (MAF * 3600)/(14.7 * 820)\n",
    "        if vehicle_speed is 0:\n",
    "            return 0\n",
    "        inst_rate = fuel_flow / vehicle_speed\n",
    "        if np.isinf(inst_rate):\n",
    "            return 0\n",
    "        return inst_rate\n",
    "    else:\n",
    "        return 'NaN'\n",
    "    \n",
    "def fuel_algo(x):\n",
    "    # first do everything for MAF non NA\n",
    "    # then for all MAF NA values, do absLoad calculation\n",
    "    # Because NA denom or numer => NAN => NA in both => NAN\n",
    "    sec_hour = 3600\n",
    "    air_to_fuel = 14.7\n",
    "    fuel_density = 820\n",
    "    \n",
    "    out = pd.DataFrame(np.zeros(shape=(len(x))))\n",
    "    \n",
    "    maf_screen = np.array(x['MAF[g/sec]'].isna()).reshape(-1,1)\n",
    "    maf = x[maf_screen]['MAF[g/sec]']\n",
    "    fuel_flow = (maf*sec_hour)/(air_to_fuel*fuel_density)\n",
    "    out[maf_screen] = list(fuel_flow/x[maf_screen]['Vehicle Speed[km/h]'])\n",
    "    \n",
    "    VehID = x['VehId'].iloc[0]\n",
    "    absLoad = x[~maf_screen]['Absolute Load[%]']\n",
    "    RPM = x[~maf_screen]['Engine RPM[RPM]']\n",
    "    fuel_flow = x[~maf_screen]['MAF[g/sec]']\n",
    "    displacement = nonEVs.loc[nonEVs['VehId']==VehID, 'Engine Configuration & Displacement']\n",
    "    if len(displacement) == 0:\n",
    "        return pd.DataFrame(np.zeros(shape=(len(x))))\n",
    "    displacement = displacement.iloc[0]\n",
    "    displacement = re.findall(r\"\\d\\.\\d\",displacement)\n",
    "    if len(displacement) != 1:\n",
    "        raise Exception('Something Broke in displacement string search')\n",
    "    displacement = float(displacement[0].strip(\"L\"))\n",
    "    maf = 1.84 * displacement * absLoad/100 * RPM/2/60\n",
    "    out[~maf_screen] = list((maf*sec_hour)/(air_to_fuel*fuel_density)) #update out where MAF is NAN\n",
    "    \n",
    "    out.replace(float('inf'), 0, inplace=True)\n",
    "    \n",
    "    return list(out.iloc[:,0])\n",
    "    \n",
    "    \n",
    "    \n",
    "    \n",
    "def haversine_distance(lat1, lon1, lat2, lon2):\n",
    "   r = 6371\n",
    "   phi1 = np.radians(lat1)\n",
    "   phi2 = np.radians(lat2)\n",
    "   delta_phi = np.radians(lat2 - lat1)\n",
    "   delta_lambda = np.radians(lon2 - lon1)\n",
    "   a = np.sin(delta_phi / 2)**2 + np.cos(phi1) * np.cos(phi2) *   np.sin(delta_lambda / 2)**2\n",
    "   res = r * (2 * np.arctan2(np.sqrt(a), np.sqrt(1 - a)))\n",
    "   return np.round(res, 2)\n",
    "        "
   ]
  },
  {
   "cell_type": "code",
   "execution_count": 13,
   "id": "understanding-fundamental",
   "metadata": {},
   "outputs": [
    {
     "output_type": "error",
     "ename": "NameError",
     "evalue": "name 'nonEVs' is not defined",
     "traceback": [
      "\u001b[0;31m---------------------------------------------------------------------------\u001b[0m",
      "\u001b[0;31mNameError\u001b[0m                                 Traceback (most recent call last)",
      "\u001b[0;32m<ipython-input-13-30b1821753fe>\u001b[0m in \u001b[0;36m<module>\u001b[0;34m\u001b[0m\n\u001b[0;32m----> 1\u001b[0;31m \u001b[0mnonEVs\u001b[0m\u001b[0;34m\u001b[0m\u001b[0;34m\u001b[0m\u001b[0m\n\u001b[0m",
      "\u001b[0;31mNameError\u001b[0m: name 'nonEVs' is not defined"
     ]
    }
   ],
   "source": [
    "nonEVs"
   ]
  },
  {
   "cell_type": "code",
   "execution_count": 11,
   "id": "ethical-divorce",
   "metadata": {},
   "outputs": [],
   "source": [
    "#data['fuel rate'] = data.apply(lambda x: inst_fuel_algo(x['MAF[g/sec]'],x['Absolute Load[%]'],x['Engine RPM[RPM]'],x['Vehicle Speed[km/h]'], x['VehId'] ),axis=1)\n",
    "fuel_rate_func = lambda x: inst_fuel_algo(x['MAF[g/sec]'],x['Absolute Load[%]'],x['Engine RPM[RPM]'],x['Vehicle Speed[km/h]'], x['VehId'], nonEV_IDs )\n",
    "#trip_706['final_lat'] = trip_706['Latitude[deg]'].shift(1)\n",
    "#trip_706['final_lon'] = trip_706['Longitude[deg]'].shift(1)\n"
   ]
  },
  {
   "cell_type": "code",
   "execution_count": 12,
   "id": "sunset-internet",
   "metadata": {},
   "outputs": [
    {
     "output_type": "error",
     "ename": "NameError",
     "evalue": "name 'data' is not defined",
     "traceback": [
      "\u001b[0;31m---------------------------------------------------------------------------\u001b[0m",
      "\u001b[0;31mNameError\u001b[0m                                 Traceback (most recent call last)",
      "\u001b[0;32m<ipython-input-12-31f2ae376379>\u001b[0m in \u001b[0;36m<module>\u001b[0;34m\u001b[0m\n\u001b[0;32m----> 1\u001b[0;31m \u001b[0mx\u001b[0m \u001b[0;34m=\u001b[0m \u001b[0mdata\u001b[0m\u001b[0;34m[\u001b[0m\u001b[0mdata\u001b[0m\u001b[0;34m[\u001b[0m\u001b[0;34m'Trip'\u001b[0m\u001b[0;34m]\u001b[0m\u001b[0;34m==\u001b[0m\u001b[0;36m237\u001b[0m\u001b[0;34m]\u001b[0m\u001b[0;34m\u001b[0m\u001b[0;34m\u001b[0m\u001b[0m\n\u001b[0m",
      "\u001b[0;31mNameError\u001b[0m: name 'data' is not defined"
     ]
    }
   ],
   "source": [
    "x = data[data['Trip']==237]"
   ]
  },
  {
   "cell_type": "code",
   "execution_count": 207,
   "id": "portable-allen",
   "metadata": {},
   "outputs": [
    {
     "data": {
      "text/plain": [
       "471573    489\n",
       "471574    489\n",
       "471575    489\n",
       "471576    489\n",
       "471577    489\n",
       "         ... \n",
       "473521    489\n",
       "473522    489\n",
       "473523    489\n",
       "473524    489\n",
       "473525    489\n",
       "Name: VehId, Length: 1953, dtype: int64"
      ]
     },
     "execution_count": 207,
     "metadata": {},
     "output_type": "execute_result"
    }
   ],
   "source": [
    "x['VehId']"
   ]
  },
  {
   "cell_type": "code",
   "execution_count": 208,
   "id": "rental-honolulu",
   "metadata": {},
   "outputs": [
    {
     "data": {
      "text/html": [
       "<div>\n",
       "<style scoped>\n",
       "    .dataframe tbody tr th:only-of-type {\n",
       "        vertical-align: middle;\n",
       "    }\n",
       "\n",
       "    .dataframe tbody tr th {\n",
       "        vertical-align: top;\n",
       "    }\n",
       "\n",
       "    .dataframe thead th {\n",
       "        text-align: right;\n",
       "    }\n",
       "</style>\n",
       "<table border=\"1\" class=\"dataframe\">\n",
       "  <thead>\n",
       "    <tr style=\"text-align: right;\">\n",
       "      <th></th>\n",
       "      <th>VehId</th>\n",
       "      <th>Vehicle Type</th>\n",
       "      <th>Vehicle Class</th>\n",
       "      <th>Engine Configuration &amp; Displacement</th>\n",
       "      <th>Transmission</th>\n",
       "      <th>Drive Wheels</th>\n",
       "      <th>Generalized_Weight</th>\n",
       "    </tr>\n",
       "  </thead>\n",
       "  <tbody>\n",
       "    <tr>\n",
       "      <th>276</th>\n",
       "      <td>489</td>\n",
       "      <td>ICE</td>\n",
       "      <td>NO DATA</td>\n",
       "      <td>6-242-MFI 4.0L</td>\n",
       "      <td>NO DATA</td>\n",
       "      <td>NO DATA</td>\n",
       "      <td>4000</td>\n",
       "    </tr>\n",
       "  </tbody>\n",
       "</table>\n",
       "</div>"
      ],
      "text/plain": [
       "     VehId Vehicle Type Vehicle Class Engine Configuration & Displacement  \\\n",
       "276    489          ICE       NO DATA                      6-242-MFI 4.0L   \n",
       "\n",
       "    Transmission Drive Wheels Generalized_Weight  \n",
       "276      NO DATA      NO DATA               4000  "
      ]
     },
     "execution_count": 208,
     "metadata": {},
     "output_type": "execute_result"
    }
   ],
   "source": [
    "nonEVs[nonEVs['VehId']==489]"
   ]
  },
  {
   "cell_type": "code",
   "execution_count": 11,
   "id": "italian-living",
   "metadata": {},
   "outputs": [
    {
     "output_type": "error",
     "ename": "NameError",
     "evalue": "name 'fuel_algo' is not defined",
     "traceback": [
      "\u001b[0;31m---------------------------------------------------------------------------\u001b[0m",
      "\u001b[0;31mNameError\u001b[0m                                 Traceback (most recent call last)",
      "\u001b[0;32m<ipython-input-11-8d97eca76a9b>\u001b[0m in \u001b[0;36m<module>\u001b[0;34m\u001b[0m\n\u001b[1;32m      1\u001b[0m \u001b[0;31m# fuel_rate = extract_trip_info(paths[:1], fuel_rate_func)\u001b[0m\u001b[0;34m\u001b[0m\u001b[0;34m\u001b[0m\u001b[0;34m\u001b[0m\u001b[0m\n\u001b[0;32m----> 2\u001b[0;31m \u001b[0mfuel_rate\u001b[0m \u001b[0;34m=\u001b[0m \u001b[0mextract_trip_info\u001b[0m\u001b[0;34m(\u001b[0m\u001b[0mpaths\u001b[0m\u001b[0;34m[\u001b[0m\u001b[0;34m:\u001b[0m\u001b[0;36m1\u001b[0m\u001b[0;34m]\u001b[0m\u001b[0;34m,\u001b[0m \u001b[0mfuel_algo\u001b[0m\u001b[0;34m)\u001b[0m\u001b[0;34m\u001b[0m\u001b[0;34m\u001b[0m\u001b[0m\n\u001b[0m",
      "\u001b[0;31mNameError\u001b[0m: name 'fuel_algo' is not defined"
     ]
    }
   ],
   "source": [
    "# fuel_rate = extract_trip_info(paths[:1], fuel_rate_func)\n",
    "fuel_rate = extract_trip_info(paths[:1], fuel_algo)"
   ]
  },
  {
   "cell_type": "code",
   "execution_count": 1,
   "id": "affecting-fever",
   "metadata": {},
   "outputs": [
    {
     "output_type": "error",
     "ename": "NameError",
     "evalue": "name 'fuel_rate' is not defined",
     "traceback": [
      "\u001b[0;31m---------------------------------------------------------------------------\u001b[0m",
      "\u001b[0;31mNameError\u001b[0m                                 Traceback (most recent call last)",
      "\u001b[0;32m<ipython-input-1-fbddbc5efd4c>\u001b[0m in \u001b[0;36m<module>\u001b[0;34m\u001b[0m\n\u001b[0;32m----> 1\u001b[0;31m \u001b[0;34m(\u001b[0m\u001b[0mfuel_rate\u001b[0m\u001b[0;34m.\u001b[0m\u001b[0miloc\u001b[0m\u001b[0;34m[\u001b[0m\u001b[0;36m10\u001b[0m\u001b[0;34m]\u001b[0m\u001b[0;34m[\u001b[0m\u001b[0;34m'values'\u001b[0m\u001b[0;34m]\u001b[0m\u001b[0;34m)\u001b[0m\u001b[0;34m\u001b[0m\u001b[0;34m\u001b[0m\u001b[0m\n\u001b[0m",
      "\u001b[0;31mNameError\u001b[0m: name 'fuel_rate' is not defined"
     ]
    }
   ],
   "source": [
    "(fuel_rate.iloc[10]['values'])\n"
   ]
  },
  {
   "cell_type": "code",
   "execution_count": 8,
   "id": "touched-paragraph",
   "metadata": {},
   "outputs": [
    {
     "output_type": "error",
     "ename": "NameError",
     "evalue": "name 'fuel_rate' is not defined",
     "traceback": [
      "\u001b[0;31m---------------------------------------------------------------------------\u001b[0m",
      "\u001b[0;31mNameError\u001b[0m                                 Traceback (most recent call last)",
      "\u001b[0;32m<ipython-input-8-dc5794f784cf>\u001b[0m in \u001b[0;36m<module>\u001b[0;34m\u001b[0m\n\u001b[0;32m----> 1\u001b[0;31m \u001b[0mfuel_rate\u001b[0m\u001b[0;34m.\u001b[0m\u001b[0mloc\u001b[0m\u001b[0;34m[\u001b[0m\u001b[0mfuel_rate\u001b[0m\u001b[0;34m[\u001b[0m\u001b[0;34m\"Trip\"\u001b[0m\u001b[0;34m]\u001b[0m \u001b[0;34m==\u001b[0m \u001b[0;36m1866\u001b[0m\u001b[0;34m]\u001b[0m\u001b[0;34m.\u001b[0m\u001b[0mvalues\u001b[0m\u001b[0;34m\u001b[0m\u001b[0;34m\u001b[0m\u001b[0m\n\u001b[0m",
      "\u001b[0;31mNameError\u001b[0m: name 'fuel_rate' is not defined"
     ]
    }
   ],
   "source": [
    "fuel_rate.loc[fuel_rate[\"Trip\"] == 1866].values"
   ]
  },
  {
   "cell_type": "code",
   "execution_count": null,
   "id": "recorded-detection",
   "metadata": {},
   "outputs": [],
   "source": []
  },
  {
   "cell_type": "code",
   "execution_count": 258,
   "id": "conceptual-soundtrack",
   "metadata": {},
   "outputs": [],
   "source": [
    "trip_706 = data.loc[data['Trip'] == 291]\n",
    "#trip_706['fuel rate1'] = trip_706.apply(lambda x: inst_fuel_algo(x['MAF[g/sec]'],x['Absolute Load[%]'],x['Engine RPM[RPM]'],x['Vehicle Speed[km/h]'], x['VehId'], nonEV_IDs),axis=1)\n"
   ]
  },
  {
   "cell_type": "code",
   "execution_count": 259,
   "id": "square-james",
   "metadata": {},
   "outputs": [
    {
     "data": {
      "text/html": [
       "<div>\n",
       "<style scoped>\n",
       "    .dataframe tbody tr th:only-of-type {\n",
       "        vertical-align: middle;\n",
       "    }\n",
       "\n",
       "    .dataframe tbody tr th {\n",
       "        vertical-align: top;\n",
       "    }\n",
       "\n",
       "    .dataframe thead th {\n",
       "        text-align: right;\n",
       "    }\n",
       "</style>\n",
       "<table border=\"1\" class=\"dataframe\">\n",
       "  <thead>\n",
       "    <tr style=\"text-align: right;\">\n",
       "      <th></th>\n",
       "      <th>DayNum</th>\n",
       "      <th>VehId</th>\n",
       "      <th>Trip</th>\n",
       "      <th>Timestamp(ms)</th>\n",
       "      <th>Latitude[deg]</th>\n",
       "      <th>Longitude[deg]</th>\n",
       "      <th>Vehicle Speed[km/h]</th>\n",
       "      <th>MAF[g/sec]</th>\n",
       "      <th>Engine RPM[RPM]</th>\n",
       "      <th>Absolute Load[%]</th>\n",
       "      <th>...</th>\n",
       "      <th>Air Conditioning Power[Watts]</th>\n",
       "      <th>Heater Power[Watts]</th>\n",
       "      <th>HV Battery Current[A]</th>\n",
       "      <th>HV Battery SOC[%]</th>\n",
       "      <th>HV Battery Voltage[V]</th>\n",
       "      <th>Short Term Fuel Trim Bank 1[%]</th>\n",
       "      <th>Short Term Fuel Trim Bank 2[%]</th>\n",
       "      <th>Long Term Fuel Trim Bank 1[%]</th>\n",
       "      <th>Long Term Fuel Trim Bank 2[%]</th>\n",
       "      <th>fuel rate</th>\n",
       "    </tr>\n",
       "  </thead>\n",
       "  <tbody>\n",
       "  </tbody>\n",
       "</table>\n",
       "<p>0 rows × 23 columns</p>\n",
       "</div>"
      ],
      "text/plain": [
       "Empty DataFrame\n",
       "Columns: [DayNum, VehId, Trip, Timestamp(ms), Latitude[deg], Longitude[deg], Vehicle Speed[km/h], MAF[g/sec], Engine RPM[RPM], Absolute Load[%], OAT[DegC], Fuel Rate[L/hr], Air Conditioning Power[kW], Air Conditioning Power[Watts], Heater Power[Watts], HV Battery Current[A], HV Battery SOC[%], HV Battery Voltage[V], Short Term Fuel Trim Bank 1[%], Short Term Fuel Trim Bank 2[%], Long Term Fuel Trim Bank 1[%], Long Term Fuel Trim Bank 2[%], fuel rate]\n",
       "Index: []\n",
       "\n",
       "[0 rows x 23 columns]"
      ]
     },
     "execution_count": 259,
     "metadata": {},
     "output_type": "execute_result"
    }
   ],
   "source": [
    "trip_706\n"
   ]
  },
  {
   "cell_type": "code",
   "execution_count": null,
   "id": "olympic-spouse",
   "metadata": {},
   "outputs": [],
   "source": []
  }
 ],
 "metadata": {
  "kernelspec": {
   "display_name": "Python 3",
   "language": "python",
   "name": "python3"
  },
  "language_info": {
   "codemirror_mode": {
    "name": "ipython",
    "version": 3
   },
   "file_extension": ".py",
   "mimetype": "text/x-python",
   "name": "python",
   "nbconvert_exporter": "python",
   "pygments_lexer": "ipython3",
   "version": "3.9.1-final"
  }
 },
 "nbformat": 4,
 "nbformat_minor": 5
}