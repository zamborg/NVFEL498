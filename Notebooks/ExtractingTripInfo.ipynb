{
 "cells": [
  {
   "cell_type": "code",
   "execution_count": 1,
   "id": "absent-resident",
   "metadata": {},
   "outputs": [],
   "source": [
    "%load_ext autoreload\n",
    "%autoreload 2"
   ]
  },
  {
   "cell_type": "code",
   "execution_count": 2,
   "id": "sufficient-jenny",
   "metadata": {},
   "outputs": [],
   "source": [
    "from utils import *"
   ]
  },
  {
   "cell_type": "code",
   "execution_count": 31,
   "id": "worthy-fabric",
   "metadata": {},
   "outputs": [],
   "source": [
    "import glob\n",
    "import os\n",
    "import pandas as pd\n",
    "from tqdm.notebook import tqdm\n",
    "import matplotlib.pyplot as plt"
   ]
  },
  {
   "cell_type": "code",
   "execution_count": 4,
   "id": "other-hungary",
   "metadata": {},
   "outputs": [],
   "source": [
    "paths = sorted(glob.glob(os.path.join(RAW_DATA_PATH, '*.csv')))"
   ]
  },
  {
   "cell_type": "code",
   "execution_count": 5,
   "id": "purple-brain",
   "metadata": {},
   "outputs": [
    {
     "data": {
      "text/plain": [
       "['/home/aysola/midas-applied-ds/Data/Raw/VED/VED_171101_week.csv',\n",
       " '/home/aysola/midas-applied-ds/Data/Raw/VED/VED_171108_week.csv',\n",
       " '/home/aysola/midas-applied-ds/Data/Raw/VED/VED_171115_week.csv',\n",
       " '/home/aysola/midas-applied-ds/Data/Raw/VED/VED_171122_week.csv',\n",
       " '/home/aysola/midas-applied-ds/Data/Raw/VED/VED_171129_week.csv',\n",
       " '/home/aysola/midas-applied-ds/Data/Raw/VED/VED_171206_week.csv',\n",
       " '/home/aysola/midas-applied-ds/Data/Raw/VED/VED_171213_week.csv',\n",
       " '/home/aysola/midas-applied-ds/Data/Raw/VED/VED_171220_week.csv',\n",
       " '/home/aysola/midas-applied-ds/Data/Raw/VED/VED_171227_week.csv',\n",
       " '/home/aysola/midas-applied-ds/Data/Raw/VED/VED_180103_week.csv']"
      ]
     },
     "execution_count": 5,
     "metadata": {},
     "output_type": "execute_result"
    }
   ],
   "source": [
    "paths[:10]"
   ]
  },
  {
   "cell_type": "code",
   "execution_count": 6,
   "id": "worth-shirt",
   "metadata": {},
   "outputs": [
    {
     "data": {
      "text/plain": [
       "'VED_180110_week.csv'"
      ]
     },
     "execution_count": 6,
     "metadata": {},
     "output_type": "execute_result"
    }
   ],
   "source": [
    "os.path.basename(paths[10])"
   ]
  },
  {
   "cell_type": "code",
   "execution_count": 7,
   "id": "loose-rolling",
   "metadata": {},
   "outputs": [],
   "source": [
    "data = pd.read_csv(paths[0])"
   ]
  },
  {
   "cell_type": "code",
   "execution_count": 8,
   "id": "hydraulic-separation",
   "metadata": {},
   "outputs": [
    {
     "data": {
      "text/plain": [
       "1866    6358\n",
       "736     3391\n",
       "789     3116\n",
       "990     3016\n",
       "982     2958\n",
       "        ... \n",
       "893      106\n",
       "60       106\n",
       "325      105\n",
       "1599     103\n",
       "768      101\n",
       "Name: Trip, Length: 658, dtype: int64"
      ]
     },
     "execution_count": 8,
     "metadata": {},
     "output_type": "execute_result"
    }
   ],
   "source": [
    "data['Trip'].value_counts()"
   ]
  },
  {
   "cell_type": "code",
   "execution_count": 9,
   "id": "careful-search",
   "metadata": {},
   "outputs": [
    {
     "data": {
      "text/plain": [
       "Index(['DayNum', 'VehId', 'Trip', 'Timestamp(ms)', 'Latitude[deg]',\n",
       "       'Longitude[deg]', 'Vehicle Speed[km/h]', 'MAF[g/sec]',\n",
       "       'Engine RPM[RPM]', 'Absolute Load[%]', 'OAT[DegC]', 'Fuel Rate[L/hr]',\n",
       "       'Air Conditioning Power[kW]', 'Air Conditioning Power[Watts]',\n",
       "       'Heater Power[Watts]', 'HV Battery Current[A]', 'HV Battery SOC[%]',\n",
       "       'HV Battery Voltage[V]', 'Short Term Fuel Trim Bank 1[%]',\n",
       "       'Short Term Fuel Trim Bank 2[%]', 'Long Term Fuel Trim Bank 1[%]',\n",
       "       'Long Term Fuel Trim Bank 2[%]'],\n",
       "      dtype='object')"
      ]
     },
     "execution_count": 9,
     "metadata": {},
     "output_type": "execute_result"
    }
   ],
   "source": [
    "data.columns"
   ]
  },
  {
   "cell_type": "code",
   "execution_count": 21,
   "id": "injured-limitation",
   "metadata": {},
   "outputs": [
    {
     "name": "stderr",
     "output_type": "stream",
     "text": [
      "100%|██████████| 2/2 [00:03<00:00,  1.71s/it]\n"
     ]
    }
   ],
   "source": [
    "ave_speed_func = lambda x: x['Vehicle Speed[km/h]'].mean()\n",
    "ave_speed = extract_trip_info(paths[:2], ave_speed_func)"
   ]
  },
  {
   "cell_type": "code",
   "execution_count": 26,
   "id": "surface-blues",
   "metadata": {},
   "outputs": [
    {
     "data": {
      "text/html": [
       "<div>\n",
       "<style scoped>\n",
       "    .dataframe tbody tr th:only-of-type {\n",
       "        vertical-align: middle;\n",
       "    }\n",
       "\n",
       "    .dataframe tbody tr th {\n",
       "        vertical-align: top;\n",
       "    }\n",
       "\n",
       "    .dataframe thead th {\n",
       "        text-align: right;\n",
       "    }\n",
       "</style>\n",
       "<table border=\"1\" class=\"dataframe\">\n",
       "  <thead>\n",
       "    <tr style=\"text-align: right;\">\n",
       "      <th></th>\n",
       "      <th>Trip</th>\n",
       "      <th>values</th>\n",
       "    </tr>\n",
       "  </thead>\n",
       "  <tbody>\n",
       "    <tr>\n",
       "      <th>0</th>\n",
       "      <td>1866</td>\n",
       "      <td>5.864737</td>\n",
       "    </tr>\n",
       "    <tr>\n",
       "      <th>1</th>\n",
       "      <td>736</td>\n",
       "      <td>25.347095</td>\n",
       "    </tr>\n",
       "    <tr>\n",
       "      <th>2</th>\n",
       "      <td>789</td>\n",
       "      <td>55.677340</td>\n",
       "    </tr>\n",
       "    <tr>\n",
       "      <th>3</th>\n",
       "      <td>990</td>\n",
       "      <td>38.500205</td>\n",
       "    </tr>\n",
       "    <tr>\n",
       "      <th>4</th>\n",
       "      <td>982</td>\n",
       "      <td>37.081812</td>\n",
       "    </tr>\n",
       "    <tr>\n",
       "      <th>...</th>\n",
       "      <td>...</td>\n",
       "      <td>...</td>\n",
       "    </tr>\n",
       "    <tr>\n",
       "      <th>1038</th>\n",
       "      <td>1110</td>\n",
       "      <td>69.907407</td>\n",
       "    </tr>\n",
       "    <tr>\n",
       "      <th>1039</th>\n",
       "      <td>1057</td>\n",
       "      <td>39.809524</td>\n",
       "    </tr>\n",
       "    <tr>\n",
       "      <th>1040</th>\n",
       "      <td>310</td>\n",
       "      <td>45.211538</td>\n",
       "    </tr>\n",
       "    <tr>\n",
       "      <th>1041</th>\n",
       "      <td>1301</td>\n",
       "      <td>44.634615</td>\n",
       "    </tr>\n",
       "    <tr>\n",
       "      <th>1042</th>\n",
       "      <td>2549</td>\n",
       "      <td>19.284314</td>\n",
       "    </tr>\n",
       "  </tbody>\n",
       "</table>\n",
       "<p>1043 rows × 2 columns</p>\n",
       "</div>"
      ],
      "text/plain": [
       "      Trip     values\n",
       "0     1866   5.864737\n",
       "1      736  25.347095\n",
       "2      789  55.677340\n",
       "3      990  38.500205\n",
       "4      982  37.081812\n",
       "...    ...        ...\n",
       "1038  1110  69.907407\n",
       "1039  1057  39.809524\n",
       "1040   310  45.211538\n",
       "1041  1301  44.634615\n",
       "1042  2549  19.284314\n",
       "\n",
       "[1043 rows x 2 columns]"
      ]
     },
     "execution_count": 26,
     "metadata": {},
     "output_type": "execute_result"
    }
   ],
   "source": [
    "ave_speed"
   ]
  },
  {
   "cell_type": "code",
   "execution_count": 32,
   "id": "broken-floor",
   "metadata": {},
   "outputs": [
    {
     "data": {
      "text/plain": [
       "(array([  8.,  74., 235., 356., 223.,  84.,  33.,  14.,  12.,   2.]),\n",
       " array([  2.61940299,  12.81421556,  23.00902814,  33.20384071,\n",
       "         43.39865329,  53.59346586,  63.78827844,  73.98309101,\n",
       "         84.17790359,  94.37271616, 104.56752874]),\n",
       " <BarContainer object of 10 artists>)"
      ]
     },
     "execution_count": 32,
     "metadata": {},
     "output_type": "execute_result"
    },
    {
     "data": {
      "image/png": "[encoded data removed]",
      "text/plain": [
       "<Figure size 432x288 with 1 Axes>"
      ]
     },
     "metadata": {
      "needs_background": "light"
     },
     "output_type": "display_data"
    }
   ],
   "source": [
    "plt.hist(ave_speed['values'])"
   ]
  },
  {
   "cell_type": "code",
   "execution_count": null,
   "id": "cardiovascular-storage",
   "metadata": {},
   "outputs": [],
   "source": []
  }
 ],
 "metadata": {
  "kernelspec": {
   "display_name": "Python 3",
   "language": "python",
   "name": "python3"
  },
  "language_info": {
   "codemirror_mode": {
    "name": "ipython",
    "version": 3
   },
   "file_extension": ".py",
   "mimetype": "text/x-python",
   "name": "python",
   "nbconvert_exporter": "python",
   "pygments_lexer": "ipython3",
   "version": "3.7.9"
  }
 },
 "nbformat": 4,
 "nbformat_minor": 5
}
