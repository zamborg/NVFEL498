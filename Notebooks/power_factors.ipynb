{
 "metadata": {
  "language_info": {
   "codemirror_mode": {
    "name": "ipython",
    "version": 3
   },
   "file_extension": ".py",
   "mimetype": "text/x-python",
   "name": "python",
   "nbconvert_exporter": "python",
   "pygments_lexer": "ipython3",
   "version": "3.9.1-final"
  },
  "orig_nbformat": 2,
  "kernelspec": {
   "name": "python3",
   "display_name": "Python 3.9.1 64-bit",
   "metadata": {
    "interpreter": {
     "hash": "ac2eaa0ea0ebeafcc7822e65e46aa9d4f966f30b695406963e145ea4a91cd4fc"
    }
   }
  }
 },
 "nbformat": 4,
 "nbformat_minor": 2,
 "cells": [
  {
   "cell_type": "code",
   "execution_count": 2,
   "metadata": {},
   "outputs": [],
   "source": [
    "%load_ext autoreload\n",
    "%autoreload 2"
   ]
  },
  {
   "cell_type": "code",
   "execution_count": 3,
   "metadata": {},
   "outputs": [],
   "source": [
    "from utils import group_into_trips, group_by_engine_type\n",
    "import pandas as pd\n",
    "import numpy as np\n",
    "import matplotlib.pyplot as plt"
   ]
  },
  {
   "cell_type": "code",
   "execution_count": 4,
   "metadata": {},
   "outputs": [],
   "source": [
    "static = pd.read_csv('../VED_Static_Data_ICE_HEV.csv')\n",
    "timeseries = pd.read_csv('../sample_data.csv')\n",
    "ICEs, _, _, _ = group_by_engine_type(static, timeseries)"
   ]
  },
  {
   "cell_type": "code",
   "execution_count": 5,
   "metadata": {},
   "outputs": [],
   "source": [
    "trips = group_into_trips(ICEs)"
   ]
  },
  {
   "cell_type": "code",
   "execution_count": 6,
   "metadata": {},
   "outputs": [
    {
     "output_type": "stream",
     "name": "stdout",
     "text": [
      "0         0\n1       200\n2      2200\n3      2800\n4      3000\n      ...  \n95    69700\n96    70000\n97    70700\n98    71800\n99    72800\nName: Timestamp(ms), Length: 100, dtype: int64\n69763       0\n69764     800\n69765    1200\n69766    1800\n69767    1900\nName: Timestamp(ms), dtype: int64\n"
     ]
    }
   ],
   "source": [
    "print(trips[0]['Timestamp(ms)'].head(100))\n",
    "print(trips[1]['Timestamp(ms)'].head())"
   ]
  },
  {
   "cell_type": "code",
   "execution_count": 7,
   "metadata": {},
   "outputs": [],
   "source": [
    "def accel_functor():\n",
    "    '''\n",
    "    Return a function object that, when called with a vehicle's velocity (in km/h) \n",
    "    and a timestamp (in ms), computes the acceleration of the vehicle (in mph/s)\n",
    "    based on the velocity and time of the given parameters and the parameters from\n",
    "    the previous call to the function.\n",
    "\n",
    "    The reason for the units of mph/s is for compatibility with the power factor\n",
    "    formula as presented in the following paper:\n",
    "    https://silo.tips/download/a-comparison-of-real-world-and-modeled-emissions-under-conditions-of-variable-dr\n",
    "\n",
    "\n",
    "    This is very convenient to use with Pandas Series objects.\n",
    "    For example (where trip is a DataFrame representing a trip):\n",
    "    f = accel_functor()\n",
    "    a = trip.apply(lambda df : f(df['Vehicle Speed[km/h]'], df['Timestamp(ms)']), axis=1)\n",
    "    '''\n",
    "    unit_conversion = 621.371 # from kph / ms to mph / s\n",
    "\n",
    "    prev_v = None\n",
    "    prev_t = None\n",
    "    def wrapped(v, t):\n",
    "        nonlocal prev_v, prev_t\n",
    "        a = None\n",
    "        if prev_v is not None and prev_t is not None:\n",
    "            delta_v = v - prev_v # in km/h\n",
    "            delta_t = t - prev_t # in ms\n",
    "\n",
    "            a = delta_v / delta_t * unit_conversion\n",
    "        prev_v = v\n",
    "        prev_t = t\n",
    "        return a\n",
    "    return wrapped\n",
    "\n",
    "def get_accel(trip):\n",
    "    '''\n",
    "    Given a trip as a Pandas DataFrame, return a Pandas Series that contains acceleration \n",
    "    data for the vehicle (in mph/s) on that trip.\n",
    "\n",
    "    The reason for the units of mph/s is for compatibility with the power factor\n",
    "    formula as presented in the following paper:\n",
    "    https://silo.tips/download/a-comparison-of-real-world-and-modeled-emissions-under-conditions-of-variable-dr\n",
    "    '''\n",
    "    trip.sort_values(by=['Timestamp(ms)']) # this might be redundant (better safe than sorry)\n",
    "    f = accel_functor()\n",
    "    return trip.apply(lambda df : f(df['Vehicle Speed[km/h]'], df['Timestamp(ms)']), axis=1)\n",
    "\n",
    "def power_factor(trip):\n",
    "    '''\n",
    "    Given a trip as a Pandas DataFrame and acceleration as a Pandas Series, return power\n",
    "    factor data for the trip as a Pandas Series.\n",
    "    '''\n",
    "    trip.sort_values(by=['Timestamp(ms)']) # this might be redundant (better safe than sorry)\n",
    "    return trip.apply(lambda df : 2 * df['Vehicle Speed[km/h]'] * df['Acceleration[mph/s]'], axis=1)\n",
    "\n",
    "def aggressivity(power_factors):\n",
    "    '''\n",
    "    Given a timeseries of power factors as a pandas Series, return the aggressivity of the trip\n",
    "    '''\n",
    "    return np.sqrt(np.sum(power_factors ** 2) / len(power_factors)) \n"
   ]
  },
  {
   "cell_type": "code",
   "execution_count": 8,
   "metadata": {},
   "outputs": [
    {
     "output_type": "stream",
     "name": "stdout",
     "text": [
      "0          NaN\n1   -571.66132\n2     31.06855\n3      0.00000\n4      0.00000\ndtype: float64\n311.8196681425237\n"
     ]
    }
   ],
   "source": [
    "trip = trips[0]\n",
    "accel = get_accel(trip)\n",
    "trip['Acceleration[mph/s]'] = accel\n",
    "pf = power_factor(trip)\n",
    "print(pf.head())\n",
    "print(aggressivity(pf))"
   ]
  },
  {
   "cell_type": "code",
   "execution_count": 9,
   "metadata": {
    "tags": []
   },
   "outputs": [
    {
     "output_type": "stream",
     "name": "stdout",
     "text": [
      "VehId: 12, TripId: 976 aggressivity: 311.8196681425237\n",
      "VehId: 463, TripId: 976 aggressivity: 440.08971449064086\n",
      "VehId: 12, TripId: 977 aggressivity: 559.2446962825351\n",
      "VehId: 12, TripId: 978 aggressivity: 375.5290010826952\n",
      "VehId: 12, TripId: 979 aggressivity: 347.66139176013803\n",
      "VehId: 463, TripId: 979 aggressivity: 268.507410768395\n",
      "VehId: 12, TripId: 983 aggressivity: 428.3292776135361\n",
      "VehId: 108, TripId: 1721 aggressivity: 272.2404888287852\n",
      "VehId: 135, TripId: 2242 aggressivity: 307.9865127151527\n",
      "VehId: 462, TripId: 2242 aggressivity: 257.84790970831006\n",
      "VehId: 135, TripId: 2243 aggressivity: 356.04882297502866\n",
      "VehId: 502, TripId: 2243 aggressivity: 157.44874779461583\n",
      "VehId: 145, TripId: 1526 aggressivity: 510.03994236898404\n",
      "VehId: 145, TripId: 1532 aggressivity: 373.7020352625076\n",
      "VehId: 145, TripId: 1539 aggressivity: 546.4225615368092\n",
      "VehId: 145, TripId: 1545 aggressivity: 375.3797830102769\n",
      "VehId: 148, TripId: 1628 aggressivity: 304.80456156489396\n",
      "VehId: 154, TripId: 2681 aggressivity: 341.591594757678\n",
      "VehId: 156, TripId: 2023 aggressivity: 298.5746039763068\n",
      "VehId: 157, TripId: 4513 aggressivity: 481.5218583218887\n",
      "VehId: 174, TripId: 2308 aggressivity: 266.63554051434244\n",
      "VehId: 174, TripId: 2314 aggressivity: 283.35600024422104\n",
      "VehId: 174, TripId: 2316 aggressivity: 272.4506683665705\n",
      "VehId: 180, TripId: 2067 aggressivity: 312.52505330961833\n",
      "VehId: 180, TripId: 2074 aggressivity: 427.3063339322831\n",
      "VehId: 459, TripId: 2074 aggressivity: 355.9639040770773\n",
      "VehId: 180, TripId: 2076 aggressivity: 423.9870147842283\n",
      "VehId: 180, TripId: 2081 aggressivity: 399.10828184761493\n",
      "VehId: 459, TripId: 2081 aggressivity: 272.8679237321888\n",
      "VehId: 196, TripId: 1756 aggressivity: 350.51708736069855\n",
      "VehId: 196, TripId: 1763 aggressivity: 530.7060021090002\n",
      "VehId: 196, TripId: 1768 aggressivity: 299.71561159245266\n",
      "VehId: 200, TripId: 2833 aggressivity: 316.88330983081806\n",
      "VehId: 202, TripId: 2679 aggressivity: 414.79536832997906\n",
      "VehId: 202, TripId: 2701 aggressivity: 358.659441378484\n",
      "VehId: 203, TripId: 1181 aggressivity: 299.30064653712304\n",
      "VehId: 205, TripId: 3071 aggressivity: 298.8988092015461\n",
      "VehId: 208, TripId: 2064 aggressivity: 346.1138768876049\n",
      "VehId: 208, TripId: 2065 aggressivity: 291.91279778077455\n",
      "VehId: 218, TripId: 2476 aggressivity: 319.8488696108506\n",
      "VehId: 218, TripId: 2478 aggressivity: 410.27841665987245\n",
      "VehId: 218, TripId: 2491 aggressivity: 506.095996344038\n",
      "VehId: 228, TripId: 3659 aggressivity: 394.3834436839996\n",
      "VehId: 228, TripId: 3673 aggressivity: 241.70371268497362\n",
      "VehId: 228, TripId: 3687 aggressivity: 414.2791961294021\n",
      "VehId: 237, TripId: 1134 aggressivity: 358.40954353470573\n",
      "VehId: 237, TripId: 1137 aggressivity: 421.7175929144974\n",
      "VehId: 237, TripId: 1151 aggressivity: 532.3667915451155\n",
      "VehId: 259, TripId: 1716 aggressivity: 285.7236036514167\n",
      "VehId: 259, TripId: 1719 aggressivity: 250.89430662585664\n",
      "VehId: 494, TripId: 1719 aggressivity: 608.6173606268552\n",
      "VehId: 259, TripId: 1732 aggressivity: 216.89763751093153\n",
      "VehId: 268, TripId: 2179 aggressivity: 588.9946842922185\n",
      "VehId: 282, TripId: 1780 aggressivity: 364.93426860880766\n",
      "VehId: 282, TripId: 1783 aggressivity: 324.00315507430116\n",
      "VehId: 538, TripId: 1783 aggressivity: 406.36306800072964\n",
      "VehId: 282, TripId: 1794 aggressivity: 327.37705620724137\n",
      "VehId: 285, TripId: 2540 aggressivity: 474.13499638612376\n",
      "VehId: 319, TripId: 1994 aggressivity: 368.97329641457316\n",
      "VehId: 319, TripId: 2007 aggressivity: 229.6831565241497\n",
      "VehId: 324, TripId: 2846 aggressivity: 483.5966639577368\n",
      "VehId: 324, TripId: 2848 aggressivity: 425.1924370952503\n",
      "VehId: 337, TripId: 1761 aggressivity: 401.8351124000558\n",
      "VehId: 337, TripId: 1764 aggressivity: 353.91319881656466\n",
      "VehId: 337, TripId: 1779 aggressivity: 422.0029418871864\n",
      "VehId: 538, TripId: 1779 aggressivity: 481.5796027428918\n",
      "VehId: 340, TripId: 2078 aggressivity: 474.8018665358291\n",
      "VehId: 459, TripId: 2078 aggressivity: 333.37660472936096\n",
      "VehId: 340, TripId: 2086 aggressivity: 458.84522575171957\n",
      "VehId: 340, TripId: 2088 aggressivity: 508.73085696394344\n",
      "VehId: 340, TripId: 2093 aggressivity: 564.4034585753166\n",
      "VehId: 340, TripId: 2095 aggressivity: 780.0328857514953\n",
      "VehId: 340, TripId: 2096 aggressivity: 357.6033370951945\n",
      "VehId: 340, TripId: 2106 aggressivity: 462.8567786522507\n",
      "VehId: 345, TripId: 10538 aggressivity: 541.0322752106857\n",
      "VehId: 345, TripId: 10548 aggressivity: 273.18760035367404\n",
      "VehId: 356, TripId: 1746 aggressivity: 334.93021681768744\n",
      "VehId: 356, TripId: 1747 aggressivity: 335.8782384174157\n",
      "VehId: 356, TripId: 1749 aggressivity: 288.1785729674823\n",
      "VehId: 356, TripId: 1752 aggressivity: 280.8634962195193\n",
      "VehId: 356, TripId: 1754 aggressivity: 315.50078389681397\n",
      "VehId: 366, TripId: 3114 aggressivity: 454.29148541188584\n",
      "VehId: 366, TripId: 3117 aggressivity: 566.4336387275825\n",
      "VehId: 366, TripId: 3119 aggressivity: 370.48875393561843\n",
      "VehId: 366, TripId: 3121 aggressivity: 502.10800954200005\n",
      "VehId: 366, TripId: 3126 aggressivity: 296.98975899640743\n",
      "VehId: 366, TripId: 3135 aggressivity: 319.534827222107\n",
      "VehId: 624, TripId: 3135 aggressivity: 332.1349590682702\n",
      "VehId: 367, TripId: 11384 aggressivity: 408.83111307171384\n",
      "VehId: 367, TripId: 11386 aggressivity: 292.3049722156136\n",
      "VehId: 367, TripId: 11392 aggressivity: 236.4921001812502\n",
      "VehId: 367, TripId: 11398 aggressivity: 447.2392749925999\n",
      "VehId: 400, TripId: 1599 aggressivity: 436.71723749742864\n",
      "VehId: 400, TripId: 1601 aggressivity: 287.76425561167275\n",
      "VehId: 433, TripId: 1925 aggressivity: 408.79644304044604\n",
      "VehId: 459, TripId: 2068 aggressivity: 302.0738157107587\n",
      "VehId: 459, TripId: 2082 aggressivity: 360.09990646492133\n",
      "VehId: 462, TripId: 2220 aggressivity: 394.4466890052427\n",
      "VehId: 462, TripId: 2229 aggressivity: 437.836366304427\n",
      "VehId: 462, TripId: 2230 aggressivity: 487.48800885086354\n",
      "VehId: 462, TripId: 2248 aggressivity: 285.0606657763447\n",
      "VehId: 462, TripId: 2249 aggressivity: 394.1928829126933\n",
      "VehId: 462, TripId: 2251 aggressivity: 274.34653635634265\n",
      "VehId: 462, TripId: 2252 aggressivity: 298.40893567827476\n",
      "VehId: 463, TripId: 988 aggressivity: 250.57861539784665\n",
      "VehId: 463, TripId: 992 aggressivity: 667.5848539961432\n",
      "VehId: 463, TripId: 994 aggressivity: 573.072846783794\n",
      "VehId: 463, TripId: 995 aggressivity: 316.1180212489561\n",
      "VehId: 463, TripId: 997 aggressivity: 206.99782288880004\n",
      "VehId: 463, TripId: 998 aggressivity: 309.66842105369693\n",
      "VehId: 465, TripId: 2360 aggressivity: 303.1418420533227\n",
      "VehId: 465, TripId: 2361 aggressivity: 323.27287780266386\n",
      "VehId: 465, TripId: 2376 aggressivity: 301.3649052410303\n",
      "VehId: 466, TripId: 5606 aggressivity: 207.5268677208555\n",
      "VehId: 466, TripId: 5613 aggressivity: 352.8517203190107\n",
      "VehId: 466, TripId: 5617 aggressivity: 265.49456080934306\n",
      "VehId: 472, TripId: 2764 aggressivity: 279.6798509045948\n",
      "VehId: 480, TripId: 1659 aggressivity: 389.41967647899156\n",
      "VehId: 480, TripId: 1662 aggressivity: 261.9142253656262\n",
      "VehId: 522, TripId: 1662 aggressivity: 334.73114158408225\n",
      "VehId: 480, TripId: 1670 aggressivity: 341.2187011087048\n",
      "VehId: 494, TripId: 1670 aggressivity: 461.9417758926439\n",
      "VehId: 480, TripId: 1685 aggressivity: 423.2207589566615\n",
      "VehId: 480, TripId: 1687 aggressivity: 515.2523910056636\n",
      "VehId: 480, TripId: 1692 aggressivity: 300.236825307498\n",
      "VehId: 488, TripId: 8568 aggressivity: 458.94035512542035\n",
      "VehId: 488, TripId: 8569 aggressivity: 459.67992898646435\n",
      "VehId: 488, TripId: 8574 aggressivity: 516.2529157095063\n",
      "VehId: 488, TripId: 8576 aggressivity: 552.6611435445006\n",
      "VehId: 488, TripId: 8581 aggressivity: 323.00747770898715\n",
      "VehId: 490, TripId: 8752 aggressivity: 345.4843516854031\n",
      "VehId: 490, TripId: 8754 aggressivity: 439.1487516841396\n",
      "VehId: 490, TripId: 8757 aggressivity: 314.7093652451579\n",
      "VehId: 494, TripId: 1665 aggressivity: 436.79179812816017\n",
      "VehId: 494, TripId: 1667 aggressivity: 507.7891088930875\n",
      "VehId: 494, TripId: 1671 aggressivity: 386.4151992774058\n",
      "VehId: 494, TripId: 1672 aggressivity: 490.0904101497154\n",
      "VehId: 494, TripId: 1680 aggressivity: 404.88361192148744\n",
      "VehId: 494, TripId: 1681 aggressivity: 342.9173670929675\n",
      "VehId: 522, TripId: 1681 aggressivity: 552.5857671587262\n"
     ]
    },
    {
     "output_type": "error",
     "ename": "KeyboardInterrupt",
     "evalue": "",
     "traceback": [
      "\u001b[0;31m---------------------------------------------------------------------------\u001b[0m",
      "\u001b[0;31mKeyboardInterrupt\u001b[0m                         Traceback (most recent call last)",
      "\u001b[0;32m<ipython-input-9-f789e217fd67>\u001b[0m in \u001b[0;36m<module>\u001b[0;34m\u001b[0m\n\u001b[1;32m      3\u001b[0m     \u001b[0maccel\u001b[0m \u001b[0;34m=\u001b[0m \u001b[0mget_accel\u001b[0m\u001b[0;34m(\u001b[0m\u001b[0mtrip\u001b[0m\u001b[0;34m)\u001b[0m\u001b[0;34m\u001b[0m\u001b[0;34m\u001b[0m\u001b[0m\n\u001b[1;32m      4\u001b[0m     \u001b[0mtrip\u001b[0m\u001b[0;34m[\u001b[0m\u001b[0;34m'Acceleration[mph/s]'\u001b[0m\u001b[0;34m]\u001b[0m \u001b[0;34m=\u001b[0m \u001b[0maccel\u001b[0m\u001b[0;34m\u001b[0m\u001b[0;34m\u001b[0m\u001b[0m\n\u001b[0;32m----> 5\u001b[0;31m     \u001b[0mpf\u001b[0m \u001b[0;34m=\u001b[0m \u001b[0mpower_factor\u001b[0m\u001b[0;34m(\u001b[0m\u001b[0mtrip\u001b[0m\u001b[0;34m)\u001b[0m\u001b[0;34m\u001b[0m\u001b[0;34m\u001b[0m\u001b[0m\n\u001b[0m\u001b[1;32m      6\u001b[0m     \u001b[0maggressivity_score\u001b[0m \u001b[0;34m=\u001b[0m \u001b[0maggressivity\u001b[0m\u001b[0;34m(\u001b[0m\u001b[0mpf\u001b[0m\u001b[0;34m)\u001b[0m\u001b[0;34m\u001b[0m\u001b[0;34m\u001b[0m\u001b[0m\n\u001b[1;32m      7\u001b[0m     \u001b[0maggressivities\u001b[0m\u001b[0;34m.\u001b[0m\u001b[0mappend\u001b[0m\u001b[0;34m(\u001b[0m\u001b[0maggressivity_score\u001b[0m\u001b[0;34m)\u001b[0m\u001b[0;34m\u001b[0m\u001b[0;34m\u001b[0m\u001b[0m\n",
      "\u001b[0;32m<ipython-input-7-6b12c99da57d>\u001b[0m in \u001b[0;36mpower_factor\u001b[0;34m(trip)\u001b[0m\n\u001b[1;32m     52\u001b[0m     '''\n\u001b[1;32m     53\u001b[0m     \u001b[0mtrip\u001b[0m\u001b[0;34m.\u001b[0m\u001b[0msort_values\u001b[0m\u001b[0;34m(\u001b[0m\u001b[0mby\u001b[0m\u001b[0;34m=\u001b[0m\u001b[0;34m[\u001b[0m\u001b[0;34m'Timestamp(ms)'\u001b[0m\u001b[0;34m]\u001b[0m\u001b[0;34m)\u001b[0m \u001b[0;31m# this might be redundant (better safe than sorry)\u001b[0m\u001b[0;34m\u001b[0m\u001b[0;34m\u001b[0m\u001b[0m\n\u001b[0;32m---> 54\u001b[0;31m     \u001b[0;32mreturn\u001b[0m \u001b[0mtrip\u001b[0m\u001b[0;34m.\u001b[0m\u001b[0mapply\u001b[0m\u001b[0;34m(\u001b[0m\u001b[0;32mlambda\u001b[0m \u001b[0mdf\u001b[0m \u001b[0;34m:\u001b[0m \u001b[0;36m2\u001b[0m \u001b[0;34m*\u001b[0m \u001b[0mdf\u001b[0m\u001b[0;34m[\u001b[0m\u001b[0;34m'Vehicle Speed[km/h]'\u001b[0m\u001b[0;34m]\u001b[0m \u001b[0;34m*\u001b[0m \u001b[0mdf\u001b[0m\u001b[0;34m[\u001b[0m\u001b[0;34m'Acceleration[mph/s]'\u001b[0m\u001b[0;34m]\u001b[0m\u001b[0;34m,\u001b[0m \u001b[0maxis\u001b[0m\u001b[0;34m=\u001b[0m\u001b[0;36m1\u001b[0m\u001b[0;34m)\u001b[0m\u001b[0;34m\u001b[0m\u001b[0;34m\u001b[0m\u001b[0m\n\u001b[0m\u001b[1;32m     55\u001b[0m \u001b[0;34m\u001b[0m\u001b[0m\n\u001b[1;32m     56\u001b[0m \u001b[0;32mdef\u001b[0m \u001b[0maggressivity\u001b[0m\u001b[0;34m(\u001b[0m\u001b[0mpower_factors\u001b[0m\u001b[0;34m)\u001b[0m\u001b[0;34m:\u001b[0m\u001b[0;34m\u001b[0m\u001b[0;34m\u001b[0m\u001b[0m\n",
      "\u001b[0;32m/usr/local/lib/python3.9/site-packages/pandas/core/frame.py\u001b[0m in \u001b[0;36mapply\u001b[0;34m(self, func, axis, raw, result_type, args, **kwds)\u001b[0m\n\u001b[1;32m   7766\u001b[0m             \u001b[0mkwds\u001b[0m\u001b[0;34m=\u001b[0m\u001b[0mkwds\u001b[0m\u001b[0;34m,\u001b[0m\u001b[0;34m\u001b[0m\u001b[0;34m\u001b[0m\u001b[0m\n\u001b[1;32m   7767\u001b[0m         )\n\u001b[0;32m-> 7768\u001b[0;31m         \u001b[0;32mreturn\u001b[0m \u001b[0mop\u001b[0m\u001b[0;34m.\u001b[0m\u001b[0mget_result\u001b[0m\u001b[0;34m(\u001b[0m\u001b[0;34m)\u001b[0m\u001b[0;34m\u001b[0m\u001b[0;34m\u001b[0m\u001b[0m\n\u001b[0m\u001b[1;32m   7769\u001b[0m \u001b[0;34m\u001b[0m\u001b[0m\n\u001b[1;32m   7770\u001b[0m     \u001b[0;32mdef\u001b[0m \u001b[0mapplymap\u001b[0m\u001b[0;34m(\u001b[0m\u001b[0mself\u001b[0m\u001b[0;34m,\u001b[0m \u001b[0mfunc\u001b[0m\u001b[0;34m,\u001b[0m \u001b[0mna_action\u001b[0m\u001b[0;34m:\u001b[0m \u001b[0mOptional\u001b[0m\u001b[0;34m[\u001b[0m\u001b[0mstr\u001b[0m\u001b[0;34m]\u001b[0m \u001b[0;34m=\u001b[0m \u001b[0;32mNone\u001b[0m\u001b[0;34m)\u001b[0m \u001b[0;34m->\u001b[0m \u001b[0mDataFrame\u001b[0m\u001b[0;34m:\u001b[0m\u001b[0;34m\u001b[0m\u001b[0;34m\u001b[0m\u001b[0m\n",
      "\u001b[0;32m/usr/local/lib/python3.9/site-packages/pandas/core/apply.py\u001b[0m in \u001b[0;36mget_result\u001b[0;34m(self)\u001b[0m\n\u001b[1;32m    183\u001b[0m             \u001b[0;32mreturn\u001b[0m \u001b[0mself\u001b[0m\u001b[0;34m.\u001b[0m\u001b[0mapply_raw\u001b[0m\u001b[0;34m(\u001b[0m\u001b[0;34m)\u001b[0m\u001b[0;34m\u001b[0m\u001b[0;34m\u001b[0m\u001b[0m\n\u001b[1;32m    184\u001b[0m \u001b[0;34m\u001b[0m\u001b[0m\n\u001b[0;32m--> 185\u001b[0;31m         \u001b[0;32mreturn\u001b[0m \u001b[0mself\u001b[0m\u001b[0;34m.\u001b[0m\u001b[0mapply_standard\u001b[0m\u001b[0;34m(\u001b[0m\u001b[0;34m)\u001b[0m\u001b[0;34m\u001b[0m\u001b[0;34m\u001b[0m\u001b[0m\n\u001b[0m\u001b[1;32m    186\u001b[0m \u001b[0;34m\u001b[0m\u001b[0m\n\u001b[1;32m    187\u001b[0m     \u001b[0;32mdef\u001b[0m \u001b[0mapply_empty_result\u001b[0m\u001b[0;34m(\u001b[0m\u001b[0mself\u001b[0m\u001b[0;34m)\u001b[0m\u001b[0;34m:\u001b[0m\u001b[0;34m\u001b[0m\u001b[0;34m\u001b[0m\u001b[0m\n",
      "\u001b[0;32m/usr/local/lib/python3.9/site-packages/pandas/core/apply.py\u001b[0m in \u001b[0;36mapply_standard\u001b[0;34m(self)\u001b[0m\n\u001b[1;32m    274\u001b[0m \u001b[0;34m\u001b[0m\u001b[0m\n\u001b[1;32m    275\u001b[0m     \u001b[0;32mdef\u001b[0m \u001b[0mapply_standard\u001b[0m\u001b[0;34m(\u001b[0m\u001b[0mself\u001b[0m\u001b[0;34m)\u001b[0m\u001b[0;34m:\u001b[0m\u001b[0;34m\u001b[0m\u001b[0;34m\u001b[0m\u001b[0m\n\u001b[0;32m--> 276\u001b[0;31m         \u001b[0mresults\u001b[0m\u001b[0;34m,\u001b[0m \u001b[0mres_index\u001b[0m \u001b[0;34m=\u001b[0m \u001b[0mself\u001b[0m\u001b[0;34m.\u001b[0m\u001b[0mapply_series_generator\u001b[0m\u001b[0;34m(\u001b[0m\u001b[0;34m)\u001b[0m\u001b[0;34m\u001b[0m\u001b[0;34m\u001b[0m\u001b[0m\n\u001b[0m\u001b[1;32m    277\u001b[0m \u001b[0;34m\u001b[0m\u001b[0m\n\u001b[1;32m    278\u001b[0m         \u001b[0;31m# wrap results\u001b[0m\u001b[0;34m\u001b[0m\u001b[0;34m\u001b[0m\u001b[0;34m\u001b[0m\u001b[0m\n",
      "\u001b[0;32m/usr/local/lib/python3.9/site-packages/pandas/core/apply.py\u001b[0m in \u001b[0;36mapply_series_generator\u001b[0;34m(self)\u001b[0m\n\u001b[1;32m    286\u001b[0m \u001b[0;34m\u001b[0m\u001b[0m\n\u001b[1;32m    287\u001b[0m         \u001b[0;32mwith\u001b[0m \u001b[0moption_context\u001b[0m\u001b[0;34m(\u001b[0m\u001b[0;34m\"mode.chained_assignment\"\u001b[0m\u001b[0;34m,\u001b[0m \u001b[0;32mNone\u001b[0m\u001b[0;34m)\u001b[0m\u001b[0;34m:\u001b[0m\u001b[0;34m\u001b[0m\u001b[0;34m\u001b[0m\u001b[0m\n\u001b[0;32m--> 288\u001b[0;31m             \u001b[0;32mfor\u001b[0m \u001b[0mi\u001b[0m\u001b[0;34m,\u001b[0m \u001b[0mv\u001b[0m \u001b[0;32min\u001b[0m \u001b[0menumerate\u001b[0m\u001b[0;34m(\u001b[0m\u001b[0mseries_gen\u001b[0m\u001b[0;34m)\u001b[0m\u001b[0;34m:\u001b[0m\u001b[0;34m\u001b[0m\u001b[0;34m\u001b[0m\u001b[0m\n\u001b[0m\u001b[1;32m    289\u001b[0m                 \u001b[0;31m# ignore SettingWithCopy here in case the user mutates\u001b[0m\u001b[0;34m\u001b[0m\u001b[0;34m\u001b[0m\u001b[0;34m\u001b[0m\u001b[0m\n\u001b[1;32m    290\u001b[0m                 \u001b[0mresults\u001b[0m\u001b[0;34m[\u001b[0m\u001b[0mi\u001b[0m\u001b[0;34m]\u001b[0m \u001b[0;34m=\u001b[0m \u001b[0mself\u001b[0m\u001b[0;34m.\u001b[0m\u001b[0mf\u001b[0m\u001b[0;34m(\u001b[0m\u001b[0mv\u001b[0m\u001b[0;34m)\u001b[0m\u001b[0;34m\u001b[0m\u001b[0;34m\u001b[0m\u001b[0m\n",
      "\u001b[0;32m/usr/local/lib/python3.9/site-packages/pandas/core/apply.py\u001b[0m in \u001b[0;36mseries_generator\u001b[0;34m(self)\u001b[0m\n\u001b[1;32m    406\u001b[0m \u001b[0;34m\u001b[0m\u001b[0m\n\u001b[1;32m    407\u001b[0m         \u001b[0;32melse\u001b[0m\u001b[0;34m:\u001b[0m\u001b[0;34m\u001b[0m\u001b[0;34m\u001b[0m\u001b[0m\n\u001b[0;32m--> 408\u001b[0;31m             \u001b[0;32mfor\u001b[0m \u001b[0;34m(\u001b[0m\u001b[0marr\u001b[0m\u001b[0;34m,\u001b[0m \u001b[0mname\u001b[0m\u001b[0;34m)\u001b[0m \u001b[0;32min\u001b[0m \u001b[0mzip\u001b[0m\u001b[0;34m(\u001b[0m\u001b[0mvalues\u001b[0m\u001b[0;34m,\u001b[0m \u001b[0mself\u001b[0m\u001b[0;34m.\u001b[0m\u001b[0mindex\u001b[0m\u001b[0;34m)\u001b[0m\u001b[0;34m:\u001b[0m\u001b[0;34m\u001b[0m\u001b[0;34m\u001b[0m\u001b[0m\n\u001b[0m\u001b[1;32m    409\u001b[0m                 \u001b[0;31m# GH#35462 re-pin mgr in case setitem changed it\u001b[0m\u001b[0;34m\u001b[0m\u001b[0;34m\u001b[0m\u001b[0;34m\u001b[0m\u001b[0m\n\u001b[1;32m    410\u001b[0m                 \u001b[0mser\u001b[0m\u001b[0;34m.\u001b[0m\u001b[0m_mgr\u001b[0m \u001b[0;34m=\u001b[0m \u001b[0mmgr\u001b[0m\u001b[0;34m\u001b[0m\u001b[0;34m\u001b[0m\u001b[0m\n",
      "\u001b[0;31mKeyboardInterrupt\u001b[0m: "
     ]
    }
   ],
   "source": [
    "aggressivities = []\n",
    "for trip in trips:\n",
    "    accel = get_accel(trip)\n",
    "    trip['Acceleration[mph/s]'] = accel\n",
    "    pf = power_factor(trip)\n",
    "    aggressivity_score = aggressivity(pf)\n",
    "    aggressivities.append(aggressivity_score)\n",
    "    veh_id = trip['VehId'].unique()[0]\n",
    "    trip_id = trip['Trip'].unique()[0]\n",
    "\n",
    "    print(f\"VehId: {veh_id}, TripId: {trip_id} aggressivity: {aggressivity_score}\")"
   ]
  },
  {
   "cell_type": "code",
   "execution_count": 11,
   "metadata": {},
   "outputs": [
    {
     "output_type": "execute_result",
     "data": {
      "text/plain": [
       "[<matplotlib.lines.Line2D at 0x122600a60>]"
      ]
     },
     "metadata": {},
     "execution_count": 11
    },
    {
     "output_type": "display_data",
     "data": {
      "text/plain": "<Figure size 432x288 with 1 Axes>",
      "image/svg+xml": "<?xml version=\"1.0\" encoding=\"utf-8\" standalone=\"no\"?>\n<!DOCTYPE svg PUBLIC \"-//W3C//DTD SVG 1.1//EN\"\n  \"http://www.w3.org/Graphics/SVG/1.1/DTD/svg11.dtd\">\n<!-- Created with matplotlib (https://matplotlib.org/) -->\n<svg height=\"248.518125pt\" version=\"1.1\" viewBox=\"0 0 375.2875 248.518125\" width=\"375.2875pt\" xmlns=\"http://www.w3.org/2000/svg\" xmlns:xlink=\"http://www.w3.org/1999/xlink\">\n <metadata>\n  <rdf:RDF xmlns:cc=\"http://creativecommons.org/ns#\" xmlns:dc=\"http://purl.org/dc/elements/1.1/\" xmlns:rdf=\"http://www.w3.org/1999/02/22-rdf-syntax-ns#\">\n   <cc:Work>\n    <dc:type rdf:resource=\"http://purl.org/dc/dcmitype/StillImage\"/>\n    <dc:date>2021-03-08T16:03:01.006028</dc:date>\n    <dc:format>image/svg+xml</dc:format>\n    <dc:creator>\n     <cc:Agent>\n      <dc:title>Matplotlib v3.3.4, https://matplotlib.org/</dc:title>\n     </cc:Agent>\n    </dc:creator>\n   </cc:Work>\n  </rdf:RDF>\n </metadata>\n <defs>\n  <style type=\"text/css\">*{stroke-linecap:butt;stroke-linejoin:round;}</style>\n </defs>\n <g id=\"figure_1\">\n  <g id=\"patch_1\">\n   <path d=\"M 0 248.518125 \nL 375.2875 248.518125 \nL 375.2875 0 \nL 0 0 \nz\n\" style=\"fill:none;\"/>\n  </g>\n  <g id=\"axes_1\">\n   <g id=\"patch_2\">\n    <path d=\"M 33.2875 224.64 \nL 368.0875 224.64 \nL 368.0875 7.2 \nL 33.2875 7.2 \nz\n\" style=\"fill:#ffffff;\"/>\n   </g>\n   <g id=\"matplotlib.axis_1\">\n    <g id=\"xtick_1\">\n     <g id=\"line2d_1\">\n      <defs>\n       <path d=\"M 0 0 \nL 0 3.5 \n\" id=\"mdacb4cc8b3\" style=\"stroke:#000000;stroke-width:0.8;\"/>\n      </defs>\n      <g>\n       <use style=\"stroke:#000000;stroke-width:0.8;\" x=\"48.505682\" xlink:href=\"#mdacb4cc8b3\" y=\"224.64\"/>\n      </g>\n     </g>\n     <g id=\"text_1\">\n      <!-- 0.0 -->\n      <g transform=\"translate(40.554119 239.238437)scale(0.1 -0.1)\">\n       <defs>\n        <path d=\"M 31.78125 66.40625 \nQ 24.171875 66.40625 20.328125 58.90625 \nQ 16.5 51.421875 16.5 36.375 \nQ 16.5 21.390625 20.328125 13.890625 \nQ 24.171875 6.390625 31.78125 6.390625 \nQ 39.453125 6.390625 43.28125 13.890625 \nQ 47.125 21.390625 47.125 36.375 \nQ 47.125 51.421875 43.28125 58.90625 \nQ 39.453125 66.40625 31.78125 66.40625 \nz\nM 31.78125 74.21875 \nQ 44.046875 74.21875 50.515625 64.515625 \nQ 56.984375 54.828125 56.984375 36.375 \nQ 56.984375 17.96875 50.515625 8.265625 \nQ 44.046875 -1.421875 31.78125 -1.421875 \nQ 19.53125 -1.421875 13.0625 8.265625 \nQ 6.59375 17.96875 6.59375 36.375 \nQ 6.59375 54.828125 13.0625 64.515625 \nQ 19.53125 74.21875 31.78125 74.21875 \nz\n\" id=\"DejaVuSans-48\"/>\n        <path d=\"M 10.6875 12.40625 \nL 21 12.40625 \nL 21 0 \nL 10.6875 0 \nz\n\" id=\"DejaVuSans-46\"/>\n       </defs>\n       <use xlink:href=\"#DejaVuSans-48\"/>\n       <use x=\"63.623047\" xlink:href=\"#DejaVuSans-46\"/>\n       <use x=\"95.410156\" xlink:href=\"#DejaVuSans-48\"/>\n      </g>\n     </g>\n    </g>\n    <g id=\"xtick_2\">\n     <g id=\"line2d_2\">\n      <g>\n       <use style=\"stroke:#000000;stroke-width:0.8;\" x=\"88.553529\" xlink:href=\"#mdacb4cc8b3\" y=\"224.64\"/>\n      </g>\n     </g>\n     <g id=\"text_2\">\n      <!-- 2.5 -->\n      <g transform=\"translate(80.601966 239.238437)scale(0.1 -0.1)\">\n       <defs>\n        <path d=\"M 19.1875 8.296875 \nL 53.609375 8.296875 \nL 53.609375 0 \nL 7.328125 0 \nL 7.328125 8.296875 \nQ 12.9375 14.109375 22.625 23.890625 \nQ 32.328125 33.6875 34.8125 36.53125 \nQ 39.546875 41.84375 41.421875 45.53125 \nQ 43.3125 49.21875 43.3125 52.78125 \nQ 43.3125 58.59375 39.234375 62.25 \nQ 35.15625 65.921875 28.609375 65.921875 \nQ 23.96875 65.921875 18.8125 64.3125 \nQ 13.671875 62.703125 7.8125 59.421875 \nL 7.8125 69.390625 \nQ 13.765625 71.78125 18.9375 73 \nQ 24.125 74.21875 28.421875 74.21875 \nQ 39.75 74.21875 46.484375 68.546875 \nQ 53.21875 62.890625 53.21875 53.421875 \nQ 53.21875 48.921875 51.53125 44.890625 \nQ 49.859375 40.875 45.40625 35.40625 \nQ 44.1875 33.984375 37.640625 27.21875 \nQ 31.109375 20.453125 19.1875 8.296875 \nz\n\" id=\"DejaVuSans-50\"/>\n        <path d=\"M 10.796875 72.90625 \nL 49.515625 72.90625 \nL 49.515625 64.59375 \nL 19.828125 64.59375 \nL 19.828125 46.734375 \nQ 21.96875 47.46875 24.109375 47.828125 \nQ 26.265625 48.1875 28.421875 48.1875 \nQ 40.625 48.1875 47.75 41.5 \nQ 54.890625 34.8125 54.890625 23.390625 \nQ 54.890625 11.625 47.5625 5.09375 \nQ 40.234375 -1.421875 26.90625 -1.421875 \nQ 22.3125 -1.421875 17.546875 -0.640625 \nQ 12.796875 0.140625 7.71875 1.703125 \nL 7.71875 11.625 \nQ 12.109375 9.234375 16.796875 8.0625 \nQ 21.484375 6.890625 26.703125 6.890625 \nQ 35.15625 6.890625 40.078125 11.328125 \nQ 45.015625 15.765625 45.015625 23.390625 \nQ 45.015625 31 40.078125 35.4375 \nQ 35.15625 39.890625 26.703125 39.890625 \nQ 22.75 39.890625 18.8125 39.015625 \nQ 14.890625 38.140625 10.796875 36.28125 \nz\n\" id=\"DejaVuSans-53\"/>\n       </defs>\n       <use xlink:href=\"#DejaVuSans-50\"/>\n       <use x=\"63.623047\" xlink:href=\"#DejaVuSans-46\"/>\n       <use x=\"95.410156\" xlink:href=\"#DejaVuSans-53\"/>\n      </g>\n     </g>\n    </g>\n    <g id=\"xtick_3\">\n     <g id=\"line2d_3\">\n      <g>\n       <use style=\"stroke:#000000;stroke-width:0.8;\" x=\"128.601376\" xlink:href=\"#mdacb4cc8b3\" y=\"224.64\"/>\n      </g>\n     </g>\n     <g id=\"text_3\">\n      <!-- 5.0 -->\n      <g transform=\"translate(120.649813 239.238437)scale(0.1 -0.1)\">\n       <use xlink:href=\"#DejaVuSans-53\"/>\n       <use x=\"63.623047\" xlink:href=\"#DejaVuSans-46\"/>\n       <use x=\"95.410156\" xlink:href=\"#DejaVuSans-48\"/>\n      </g>\n     </g>\n    </g>\n    <g id=\"xtick_4\">\n     <g id=\"line2d_4\">\n      <g>\n       <use style=\"stroke:#000000;stroke-width:0.8;\" x=\"168.649222\" xlink:href=\"#mdacb4cc8b3\" y=\"224.64\"/>\n      </g>\n     </g>\n     <g id=\"text_4\">\n      <!-- 7.5 -->\n      <g transform=\"translate(160.69766 239.238437)scale(0.1 -0.1)\">\n       <defs>\n        <path d=\"M 8.203125 72.90625 \nL 55.078125 72.90625 \nL 55.078125 68.703125 \nL 28.609375 0 \nL 18.3125 0 \nL 43.21875 64.59375 \nL 8.203125 64.59375 \nz\n\" id=\"DejaVuSans-55\"/>\n       </defs>\n       <use xlink:href=\"#DejaVuSans-55\"/>\n       <use x=\"63.623047\" xlink:href=\"#DejaVuSans-46\"/>\n       <use x=\"95.410156\" xlink:href=\"#DejaVuSans-53\"/>\n      </g>\n     </g>\n    </g>\n    <g id=\"xtick_5\">\n     <g id=\"line2d_5\">\n      <g>\n       <use style=\"stroke:#000000;stroke-width:0.8;\" x=\"208.697069\" xlink:href=\"#mdacb4cc8b3\" y=\"224.64\"/>\n      </g>\n     </g>\n     <g id=\"text_5\">\n      <!-- 10.0 -->\n      <g transform=\"translate(197.564257 239.238437)scale(0.1 -0.1)\">\n       <defs>\n        <path d=\"M 12.40625 8.296875 \nL 28.515625 8.296875 \nL 28.515625 63.921875 \nL 10.984375 60.40625 \nL 10.984375 69.390625 \nL 28.421875 72.90625 \nL 38.28125 72.90625 \nL 38.28125 8.296875 \nL 54.390625 8.296875 \nL 54.390625 0 \nL 12.40625 0 \nz\n\" id=\"DejaVuSans-49\"/>\n       </defs>\n       <use xlink:href=\"#DejaVuSans-49\"/>\n       <use x=\"63.623047\" xlink:href=\"#DejaVuSans-48\"/>\n       <use x=\"127.246094\" xlink:href=\"#DejaVuSans-46\"/>\n       <use x=\"159.033203\" xlink:href=\"#DejaVuSans-48\"/>\n      </g>\n     </g>\n    </g>\n    <g id=\"xtick_6\">\n     <g id=\"line2d_6\">\n      <g>\n       <use style=\"stroke:#000000;stroke-width:0.8;\" x=\"248.744916\" xlink:href=\"#mdacb4cc8b3\" y=\"224.64\"/>\n      </g>\n     </g>\n     <g id=\"text_6\">\n      <!-- 12.5 -->\n      <g transform=\"translate(237.612104 239.238437)scale(0.1 -0.1)\">\n       <use xlink:href=\"#DejaVuSans-49\"/>\n       <use x=\"63.623047\" xlink:href=\"#DejaVuSans-50\"/>\n       <use x=\"127.246094\" xlink:href=\"#DejaVuSans-46\"/>\n       <use x=\"159.033203\" xlink:href=\"#DejaVuSans-53\"/>\n      </g>\n     </g>\n    </g>\n    <g id=\"xtick_7\">\n     <g id=\"line2d_7\">\n      <g>\n       <use style=\"stroke:#000000;stroke-width:0.8;\" x=\"288.792763\" xlink:href=\"#mdacb4cc8b3\" y=\"224.64\"/>\n      </g>\n     </g>\n     <g id=\"text_7\">\n      <!-- 15.0 -->\n      <g transform=\"translate(277.659951 239.238437)scale(0.1 -0.1)\">\n       <use xlink:href=\"#DejaVuSans-49\"/>\n       <use x=\"63.623047\" xlink:href=\"#DejaVuSans-53\"/>\n       <use x=\"127.246094\" xlink:href=\"#DejaVuSans-46\"/>\n       <use x=\"159.033203\" xlink:href=\"#DejaVuSans-48\"/>\n      </g>\n     </g>\n    </g>\n    <g id=\"xtick_8\">\n     <g id=\"line2d_8\">\n      <g>\n       <use style=\"stroke:#000000;stroke-width:0.8;\" x=\"328.84061\" xlink:href=\"#mdacb4cc8b3\" y=\"224.64\"/>\n      </g>\n     </g>\n     <g id=\"text_8\">\n      <!-- 17.5 -->\n      <g transform=\"translate(317.707798 239.238437)scale(0.1 -0.1)\">\n       <use xlink:href=\"#DejaVuSans-49\"/>\n       <use x=\"63.623047\" xlink:href=\"#DejaVuSans-55\"/>\n       <use x=\"127.246094\" xlink:href=\"#DejaVuSans-46\"/>\n       <use x=\"159.033203\" xlink:href=\"#DejaVuSans-53\"/>\n      </g>\n     </g>\n    </g>\n   </g>\n   <g id=\"matplotlib.axis_2\">\n    <g id=\"ytick_1\">\n     <g id=\"line2d_9\">\n      <defs>\n       <path d=\"M 0 0 \nL -3.5 0 \n\" id=\"m19a5c64575\" style=\"stroke:#000000;stroke-width:0.8;\"/>\n      </defs>\n      <g>\n       <use style=\"stroke:#000000;stroke-width:0.8;\" x=\"33.2875\" xlink:href=\"#m19a5c64575\" y=\"218.420946\"/>\n      </g>\n     </g>\n     <g id=\"text_9\">\n      <!-- 150 -->\n      <g transform=\"translate(7.2 222.220165)scale(0.1 -0.1)\">\n       <use xlink:href=\"#DejaVuSans-49\"/>\n       <use x=\"63.623047\" xlink:href=\"#DejaVuSans-53\"/>\n       <use x=\"127.246094\" xlink:href=\"#DejaVuSans-48\"/>\n      </g>\n     </g>\n    </g>\n    <g id=\"ytick_2\">\n     <g id=\"line2d_10\">\n      <g>\n       <use style=\"stroke:#000000;stroke-width:0.8;\" x=\"33.2875\" xlink:href=\"#m19a5c64575\" y=\"193.8223\"/>\n      </g>\n     </g>\n     <g id=\"text_10\">\n      <!-- 200 -->\n      <g transform=\"translate(7.2 197.621518)scale(0.1 -0.1)\">\n       <use xlink:href=\"#DejaVuSans-50\"/>\n       <use x=\"63.623047\" xlink:href=\"#DejaVuSans-48\"/>\n       <use x=\"127.246094\" xlink:href=\"#DejaVuSans-48\"/>\n      </g>\n     </g>\n    </g>\n    <g id=\"ytick_3\">\n     <g id=\"line2d_11\">\n      <g>\n       <use style=\"stroke:#000000;stroke-width:0.8;\" x=\"33.2875\" xlink:href=\"#m19a5c64575\" y=\"169.223654\"/>\n      </g>\n     </g>\n     <g id=\"text_11\">\n      <!-- 250 -->\n      <g transform=\"translate(7.2 173.022872)scale(0.1 -0.1)\">\n       <use xlink:href=\"#DejaVuSans-50\"/>\n       <use x=\"63.623047\" xlink:href=\"#DejaVuSans-53\"/>\n       <use x=\"127.246094\" xlink:href=\"#DejaVuSans-48\"/>\n      </g>\n     </g>\n    </g>\n    <g id=\"ytick_4\">\n     <g id=\"line2d_12\">\n      <g>\n       <use style=\"stroke:#000000;stroke-width:0.8;\" x=\"33.2875\" xlink:href=\"#m19a5c64575\" y=\"144.625007\"/>\n      </g>\n     </g>\n     <g id=\"text_12\">\n      <!-- 300 -->\n      <g transform=\"translate(7.2 148.424226)scale(0.1 -0.1)\">\n       <defs>\n        <path d=\"M 40.578125 39.3125 \nQ 47.65625 37.796875 51.625 33 \nQ 55.609375 28.21875 55.609375 21.1875 \nQ 55.609375 10.40625 48.1875 4.484375 \nQ 40.765625 -1.421875 27.09375 -1.421875 \nQ 22.515625 -1.421875 17.65625 -0.515625 \nQ 12.796875 0.390625 7.625 2.203125 \nL 7.625 11.71875 \nQ 11.71875 9.328125 16.59375 8.109375 \nQ 21.484375 6.890625 26.8125 6.890625 \nQ 36.078125 6.890625 40.9375 10.546875 \nQ 45.796875 14.203125 45.796875 21.1875 \nQ 45.796875 27.640625 41.28125 31.265625 \nQ 36.765625 34.90625 28.71875 34.90625 \nL 20.21875 34.90625 \nL 20.21875 43.015625 \nL 29.109375 43.015625 \nQ 36.375 43.015625 40.234375 45.921875 \nQ 44.09375 48.828125 44.09375 54.296875 \nQ 44.09375 59.90625 40.109375 62.90625 \nQ 36.140625 65.921875 28.71875 65.921875 \nQ 24.65625 65.921875 20.015625 65.03125 \nQ 15.375 64.15625 9.8125 62.3125 \nL 9.8125 71.09375 \nQ 15.4375 72.65625 20.34375 73.4375 \nQ 25.25 74.21875 29.59375 74.21875 \nQ 40.828125 74.21875 47.359375 69.109375 \nQ 53.90625 64.015625 53.90625 55.328125 \nQ 53.90625 49.265625 50.4375 45.09375 \nQ 46.96875 40.921875 40.578125 39.3125 \nz\n\" id=\"DejaVuSans-51\"/>\n       </defs>\n       <use xlink:href=\"#DejaVuSans-51\"/>\n       <use x=\"63.623047\" xlink:href=\"#DejaVuSans-48\"/>\n       <use x=\"127.246094\" xlink:href=\"#DejaVuSans-48\"/>\n      </g>\n     </g>\n    </g>\n    <g id=\"ytick_5\">\n     <g id=\"line2d_13\">\n      <g>\n       <use style=\"stroke:#000000;stroke-width:0.8;\" x=\"33.2875\" xlink:href=\"#m19a5c64575\" y=\"120.026361\"/>\n      </g>\n     </g>\n     <g id=\"text_13\">\n      <!-- 350 -->\n      <g transform=\"translate(7.2 123.82558)scale(0.1 -0.1)\">\n       <use xlink:href=\"#DejaVuSans-51\"/>\n       <use x=\"63.623047\" xlink:href=\"#DejaVuSans-53\"/>\n       <use x=\"127.246094\" xlink:href=\"#DejaVuSans-48\"/>\n      </g>\n     </g>\n    </g>\n    <g id=\"ytick_6\">\n     <g id=\"line2d_14\">\n      <g>\n       <use style=\"stroke:#000000;stroke-width:0.8;\" x=\"33.2875\" xlink:href=\"#m19a5c64575\" y=\"95.427715\"/>\n      </g>\n     </g>\n     <g id=\"text_14\">\n      <!-- 400 -->\n      <g transform=\"translate(7.2 99.226934)scale(0.1 -0.1)\">\n       <defs>\n        <path d=\"M 37.796875 64.3125 \nL 12.890625 25.390625 \nL 37.796875 25.390625 \nz\nM 35.203125 72.90625 \nL 47.609375 72.90625 \nL 47.609375 25.390625 \nL 58.015625 25.390625 \nL 58.015625 17.1875 \nL 47.609375 17.1875 \nL 47.609375 0 \nL 37.796875 0 \nL 37.796875 17.1875 \nL 4.890625 17.1875 \nL 4.890625 26.703125 \nz\n\" id=\"DejaVuSans-52\"/>\n       </defs>\n       <use xlink:href=\"#DejaVuSans-52\"/>\n       <use x=\"63.623047\" xlink:href=\"#DejaVuSans-48\"/>\n       <use x=\"127.246094\" xlink:href=\"#DejaVuSans-48\"/>\n      </g>\n     </g>\n    </g>\n    <g id=\"ytick_7\">\n     <g id=\"line2d_15\">\n      <g>\n       <use style=\"stroke:#000000;stroke-width:0.8;\" x=\"33.2875\" xlink:href=\"#m19a5c64575\" y=\"70.829069\"/>\n      </g>\n     </g>\n     <g id=\"text_15\">\n      <!-- 450 -->\n      <g transform=\"translate(7.2 74.628288)scale(0.1 -0.1)\">\n       <use xlink:href=\"#DejaVuSans-52\"/>\n       <use x=\"63.623047\" xlink:href=\"#DejaVuSans-53\"/>\n       <use x=\"127.246094\" xlink:href=\"#DejaVuSans-48\"/>\n      </g>\n     </g>\n    </g>\n    <g id=\"ytick_8\">\n     <g id=\"line2d_16\">\n      <g>\n       <use style=\"stroke:#000000;stroke-width:0.8;\" x=\"33.2875\" xlink:href=\"#m19a5c64575\" y=\"46.230423\"/>\n      </g>\n     </g>\n     <g id=\"text_16\">\n      <!-- 500 -->\n      <g transform=\"translate(7.2 50.029642)scale(0.1 -0.1)\">\n       <use xlink:href=\"#DejaVuSans-53\"/>\n       <use x=\"63.623047\" xlink:href=\"#DejaVuSans-48\"/>\n       <use x=\"127.246094\" xlink:href=\"#DejaVuSans-48\"/>\n      </g>\n     </g>\n    </g>\n    <g id=\"ytick_9\">\n     <g id=\"line2d_17\">\n      <g>\n       <use style=\"stroke:#000000;stroke-width:0.8;\" x=\"33.2875\" xlink:href=\"#m19a5c64575\" y=\"21.631777\"/>\n      </g>\n     </g>\n     <g id=\"text_17\">\n      <!-- 550 -->\n      <g transform=\"translate(7.2 25.430995)scale(0.1 -0.1)\">\n       <use xlink:href=\"#DejaVuSans-53\"/>\n       <use x=\"63.623047\" xlink:href=\"#DejaVuSans-53\"/>\n       <use x=\"127.246094\" xlink:href=\"#DejaVuSans-48\"/>\n      </g>\n     </g>\n    </g>\n   </g>\n   <g id=\"line2d_18\">\n    <path clip-path=\"url(#p7a727de9c9)\" d=\"M 48.505682 138.810051 \nL 64.524821 75.704661 \nL 80.543959 17.083636 \nL 96.563098 107.466784 \nL 112.582237 121.176893 \nL 128.601376 160.118509 \nL 144.620514 81.490478 \nL 160.639653 158.281935 \nL 176.658792 140.695859 \nL 192.677931 165.362694 \nL 208.697069 117.050504 \nL 224.716208 214.756364 \nL 240.735347 41.291043 \nL 256.754486 108.365602 \nL 272.773624 23.391779 \nL 288.792763 107.540195 \nL 304.811902 142.261293 \nL 320.831041 124.163069 \nL 336.850179 145.326264 \nL 352.869318 55.321168 \n\" style=\"fill:none;stroke:#1f77b4;stroke-linecap:square;stroke-width:1.5;\"/>\n   </g>\n   <g id=\"patch_3\">\n    <path d=\"M 33.2875 224.64 \nL 33.2875 7.2 \n\" style=\"fill:none;stroke:#000000;stroke-linecap:square;stroke-linejoin:miter;stroke-width:0.8;\"/>\n   </g>\n   <g id=\"patch_4\">\n    <path d=\"M 368.0875 224.64 \nL 368.0875 7.2 \n\" style=\"fill:none;stroke:#000000;stroke-linecap:square;stroke-linejoin:miter;stroke-width:0.8;\"/>\n   </g>\n   <g id=\"patch_5\">\n    <path d=\"M 33.2875 224.64 \nL 368.0875 224.64 \n\" style=\"fill:none;stroke:#000000;stroke-linecap:square;stroke-linejoin:miter;stroke-width:0.8;\"/>\n   </g>\n   <g id=\"patch_6\">\n    <path d=\"M 33.2875 7.2 \nL 368.0875 7.2 \n\" style=\"fill:none;stroke:#000000;stroke-linecap:square;stroke-linejoin:miter;stroke-width:0.8;\"/>\n   </g>\n  </g>\n </g>\n <defs>\n  <clipPath id=\"p7a727de9c9\">\n   <rect height=\"217.44\" width=\"334.8\" x=\"33.2875\" y=\"7.2\"/>\n  </clipPath>\n </defs>\n</svg>\n",
      "image/png": "[encoded data removed]"
     },
     "metadata": {
      "needs_background": "light"
     }
    }
   ],
   "source": [
    "plt.plot(aggressivities[:20])"
   ]
  },
  {
   "cell_type": "code",
   "execution_count": 18,
   "metadata": {},
   "outputs": [
    {
     "output_type": "stream",
     "name": "stdout",
     "text": [
      "0        3.56\n1        3.59\n2       22.18\n3       22.18\n4       22.18\n        ...  \n1062    27.26\n1063    27.26\n1064    27.26\n1065    28.84\n1066    28.84\nName: MAF[g/sec], Length: 1067, dtype: float64\n"
     ]
    },
    {
     "output_type": "error",
     "ename": "AttributeError",
     "evalue": "'NoneType' object has no attribute 'isna'",
     "traceback": [
      "\u001b[0;31m---------------------------------------------------------------------------\u001b[0m",
      "\u001b[0;31mAttributeError\u001b[0m                            Traceback (most recent call last)",
      "\u001b[0;32m<ipython-input-18-0370a047b258>\u001b[0m in \u001b[0;36m<module>\u001b[0;34m\u001b[0m\n\u001b[1;32m      1\u001b[0m \u001b[0;32mfor\u001b[0m \u001b[0mx\u001b[0m \u001b[0;32min\u001b[0m \u001b[0mrange\u001b[0m\u001b[0;34m(\u001b[0m\u001b[0mlen\u001b[0m\u001b[0;34m(\u001b[0m\u001b[0mtrips\u001b[0m\u001b[0;34m)\u001b[0m\u001b[0;34m)\u001b[0m\u001b[0;34m:\u001b[0m\u001b[0;34m\u001b[0m\u001b[0;34m\u001b[0m\u001b[0m\n\u001b[0;32m----> 2\u001b[0;31m     \u001b[0mprint\u001b[0m\u001b[0;34m(\u001b[0m\u001b[0mtrips\u001b[0m\u001b[0;34m[\u001b[0m\u001b[0mx\u001b[0m\u001b[0;34m]\u001b[0m\u001b[0;34m[\u001b[0m\u001b[0;34m'MAF[g/sec]'\u001b[0m\u001b[0;34m]\u001b[0m\u001b[0;34m)\u001b[0m\u001b[0;34m.\u001b[0m\u001b[0misna\u001b[0m\u001b[0;34m(\u001b[0m\u001b[0;34m)\u001b[0m\u001b[0;34m.\u001b[0m\u001b[0munique\u001b[0m\u001b[0;34m(\u001b[0m\u001b[0;34m)\u001b[0m\u001b[0;34m\u001b[0m\u001b[0;34m\u001b[0m\u001b[0m\n\u001b[0m",
      "\u001b[0;31mAttributeError\u001b[0m: 'NoneType' object has no attribute 'isna'"
     ]
    }
   ],
   "source": [
    "for x in range(len(trips)):\n",
    "    print(trips[x]['MAF[g/sec]']).isna().unique()"
   ]
  },
  {
   "cell_type": "code",
   "execution_count": null,
   "metadata": {},
   "outputs": [],
   "source": []
  }
 ]
}