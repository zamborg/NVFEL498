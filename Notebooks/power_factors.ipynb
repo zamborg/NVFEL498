{
 "metadata": {
  "language_info": {
   "codemirror_mode": {
    "name": "ipython",
    "version": 3
   },
   "file_extension": ".py",
   "mimetype": "text/x-python",
   "name": "python",
   "nbconvert_exporter": "python",
   "pygments_lexer": "ipython3",
   "version": "3.9.1-final"
  },
  "orig_nbformat": 2,
  "kernelspec": {
   "name": "python3",
   "display_name": "Python 3.9.1 64-bit",
   "metadata": {
    "interpreter": {
     "hash": "ac2eaa0ea0ebeafcc7822e65e46aa9d4f966f30b695406963e145ea4a91cd4fc"
    }
   }
  }
 },
 "nbformat": 4,
 "nbformat_minor": 2,
 "cells": [
  {
   "cell_type": "code",
   "execution_count": 11,
   "metadata": {},
   "outputs": [
    {
     "output_type": "stream",
     "name": "stdout",
     "text": [
      "The autoreload extension is already loaded. To reload it, use:\n  %reload_ext autoreload\n"
     ]
    }
   ],
   "source": [
    "%load_ext autoreload\n",
    "%autoreload 2"
   ]
  },
  {
   "cell_type": "code",
   "execution_count": null,
   "metadata": {},
   "outputs": [],
   "source": []
  },
  {
   "cell_type": "code",
   "execution_count": 12,
   "metadata": {},
   "outputs": [],
   "source": [
    "from utils import group_into_trips, group_by_engine_type\n",
    "import pandas as pd\n",
    "import numpy as np\n",
    "import matplotlib.pyplot as plt"
   ]
  },
  {
   "cell_type": "code",
   "execution_count": 13,
   "metadata": {},
   "outputs": [],
   "source": [
    "static = pd.read_csv('../VED_Static_Data_ICE_HEV.csv')\n",
    "timeseries = pd.read_csv('../sample_data.csv')\n",
    "ICEs, _, _, _ = group_by_engine_type(static, timeseries)"
   ]
  },
  {
   "cell_type": "code",
   "execution_count": 14,
   "metadata": {},
   "outputs": [],
   "source": [
    "trips = group_into_trips(ICEs)"
   ]
  },
  {
   "cell_type": "code",
   "execution_count": 15,
   "metadata": {},
   "outputs": [
    {
     "output_type": "stream",
     "name": "stdout",
     "text": [
      "0         0\n1       200\n2      2200\n3      2800\n4      3000\n      ...  \n95    69700\n96    70000\n97    70700\n98    71800\n99    72800\nName: Timestamp(ms), Length: 100, dtype: int64\n69763       0\n69764     800\n69765    1200\n69766    1800\n69767    1900\nName: Timestamp(ms), dtype: int64\n"
     ]
    }
   ],
   "source": [
    "print(trips[0]['Timestamp(ms)'].head(100))\n",
    "print(trips[1]['Timestamp(ms)'].head())"
   ]
  },
  {
   "cell_type": "code",
   "execution_count": 16,
   "metadata": {},
   "outputs": [],
   "source": [
    "def accel_functor():\n",
    "    '''\n",
    "    Return a function object that, when called with a vehicle's velocity (in km/h) \n",
    "    and a timestamp (in ms), computes the acceleration of the vehicle (in mph/s)\n",
    "    based on the velocity and time of the given parameters and the parameters from\n",
    "    the previous call to the function.\n",
    "\n",
    "    The reason for the units of mph/s is for compatibility with the power factor\n",
    "    formula as presented in the following paper:\n",
    "    https://silo.tips/download/a-comparison-of-real-world-and-modeled-emissions-under-conditions-of-variable-dr\n",
    "\n",
    "\n",
    "    This is very convenient to use with Pandas Series objects.\n",
    "    For example (where trip is a DataFrame representing a trip):\n",
    "    f = accel_functor()\n",
    "    a = trip.apply(lambda df : f(df['Vehicle Speed[km/h]'], df['Timestamp(ms)']), axis=1)\n",
    "    '''\n",
    "    unit_conversion = 621.371 # from kph / ms to mph / s\n",
    "\n",
    "    prev_v = None\n",
    "    prev_t = None\n",
    "    def wrapped(v, t):\n",
    "        nonlocal prev_v, prev_t\n",
    "        a = None\n",
    "        if prev_v is not None and prev_t is not None:\n",
    "            delta_v = v - prev_v # in km/h\n",
    "            delta_t = t - prev_t # in ms\n",
    "\n",
    "            a = delta_v / delta_t * unit_conversion\n",
    "        prev_v = v\n",
    "        prev_t = t\n",
    "        return a\n",
    "    return wrapped\n",
    "\n",
    "def get_accel(trip):\n",
    "    '''\n",
    "    Given a trip as a Pandas DataFrame, return a Pandas Series that contains acceleration \n",
    "    data for the vehicle (in mph/s) on that trip.\n",
    "\n",
    "    The reason for the units of mph/s is for compatibility with the power factor\n",
    "    formula as presented in the following paper:\n",
    "    https://silo.tips/download/a-comparison-of-real-world-and-modeled-emissions-under-conditions-of-variable-dr\n",
    "    '''\n",
    "    trip.sort_values(by=['Timestamp(ms)']) # this might be redundant (better safe than sorry)\n",
    "    f = accel_functor()\n",
    "    return trip.apply(lambda df : f(df['Vehicle Speed[km/h]'], df['Timestamp(ms)']), axis=1)\n",
    "\n",
    "def power_factor(trip):\n",
    "    '''\n",
    "    Given a trip as a Pandas DataFrame and acceleration as a Pandas Series, return power\n",
    "    factor data for the trip as a Pandas Series.\n",
    "    '''\n",
    "    trip.sort_values(by=['Timestamp(ms)']) # this might be redundant (better safe than sorry)\n",
    "    return trip.apply(lambda df : 2 * df['Vehicle Speed[km/h]'] * df['Acceleration[mph/s]'], axis=1)\n",
    "\n",
    "def aggressivity(power_factors):\n",
    "    '''\n",
    "    Given a timeseries of power factors as a pandas Series, return the aggressivity of the trip\n",
    "    '''\n",
    "    return np.sqrt(np.sum(power_factors ** 2) / len(power_factors)) \n"
   ]
  },
  {
   "cell_type": "code",
   "execution_count": 17,
   "metadata": {},
   "outputs": [
    {
     "output_type": "stream",
     "name": "stdout",
     "text": [
      "0          NaN\n1   -571.66132\n2     31.06855\n3      0.00000\n4      0.00000\ndtype: float64\n311.8196681425237\n"
     ]
    }
   ],
   "source": [
    "trip = trips[0]\n",
    "accel = get_accel(trip)\n",
    "trip['Acceleration[mph/s]'] = accel\n",
    "pf = power_factor(trip)\n",
    "print(pf.head())\n",
    "print(aggressivity(pf))"
   ]
  },
  {
   "cell_type": "code",
   "execution_count": 18,
   "metadata": {
    "tags": []
   },
   "outputs": [
    {
     "output_type": "error",
     "ename": "TypeError",
     "evalue": "'builtin_function_or_method' object is not subscriptable",
     "traceback": [
      "\u001b[0;31m---------------------------------------------------------------------------\u001b[0m",
      "\u001b[0;31mTypeError\u001b[0m                                 Traceback (most recent call last)",
      "\u001b[0;32m<ipython-input-18-f1e13958bffa>\u001b[0m in \u001b[0;36m<module>\u001b[0;34m\u001b[0m\n\u001b[1;32m      5\u001b[0m     \u001b[0mpf\u001b[0m \u001b[0;34m=\u001b[0m \u001b[0mpower_factor\u001b[0m\u001b[0;34m(\u001b[0m\u001b[0mtrip\u001b[0m\u001b[0;34m)\u001b[0m\u001b[0;34m\u001b[0m\u001b[0;34m\u001b[0m\u001b[0m\n\u001b[1;32m      6\u001b[0m     \u001b[0maggressivity_score\u001b[0m \u001b[0;34m=\u001b[0m \u001b[0maggressivity\u001b[0m\u001b[0;34m(\u001b[0m\u001b[0mpf\u001b[0m\u001b[0;34m)\u001b[0m\u001b[0;34m\u001b[0m\u001b[0;34m\u001b[0m\u001b[0m\n\u001b[0;32m----> 7\u001b[0;31m     \u001b[0maggressivities\u001b[0m\u001b[0;34m.\u001b[0m\u001b[0mappend\u001b[0m\u001b[0;34m[\u001b[0m\u001b[0maggressivity_score\u001b[0m\u001b[0;34m]\u001b[0m\u001b[0;34m\u001b[0m\u001b[0;34m\u001b[0m\u001b[0m\n\u001b[0m\u001b[1;32m      8\u001b[0m     \u001b[0mveh_id\u001b[0m \u001b[0;34m=\u001b[0m \u001b[0mtrip\u001b[0m\u001b[0;34m[\u001b[0m\u001b[0;34m'VehId'\u001b[0m\u001b[0;34m]\u001b[0m\u001b[0;34m.\u001b[0m\u001b[0munique\u001b[0m\u001b[0;34m(\u001b[0m\u001b[0;34m)\u001b[0m\u001b[0;34m[\u001b[0m\u001b[0;36m0\u001b[0m\u001b[0;34m]\u001b[0m\u001b[0;34m\u001b[0m\u001b[0;34m\u001b[0m\u001b[0m\n\u001b[1;32m      9\u001b[0m     \u001b[0mtrip_id\u001b[0m \u001b[0;34m=\u001b[0m \u001b[0mtrip\u001b[0m\u001b[0;34m[\u001b[0m\u001b[0;34m'Trip'\u001b[0m\u001b[0;34m]\u001b[0m\u001b[0;34m.\u001b[0m\u001b[0munique\u001b[0m\u001b[0;34m(\u001b[0m\u001b[0;34m)\u001b[0m\u001b[0;34m[\u001b[0m\u001b[0;36m0\u001b[0m\u001b[0;34m]\u001b[0m\u001b[0;34m\u001b[0m\u001b[0;34m\u001b[0m\u001b[0m\n",
      "\u001b[0;31mTypeError\u001b[0m: 'builtin_function_or_method' object is not subscriptable"
     ]
    }
   ],
   "source": [
    "aggressivities = []\n",
    "for trip in trips:\n",
    "    accel = get_accel(trip)\n",
    "    trip['Acceleration[mph/s]'] = accel\n",
    "    pf = power_factor(trip)\n",
    "    aggressivity_score = aggressivity(pf)\n",
    "    aggressivities.append(aggressivity_score)\n",
    "    veh_id = trip['VehId'].unique()[0]\n",
    "    trip_id = trip['Trip'].unique()[0]\n",
    "\n",
    "    print(f\"VehId: {veh_id}, TripId: {trip_id} aggressivity: {aggressivity_score}\")"
   ]
  },
  {
   "cell_type": "code",
   "execution_count": 2,
   "metadata": {},
   "outputs": [
    {
     "output_type": "error",
     "ename": "NameError",
     "evalue": "name 'aggressivity' is not defined",
     "traceback": [
      "\u001b[0;31m---------------------------------------------------------------------------\u001b[0m",
      "\u001b[0;31mNameError\u001b[0m                                 Traceback (most recent call last)",
      "\u001b[0;32m<ipython-input-2-a28c5955a68a>\u001b[0m in \u001b[0;36m<module>\u001b[0;34m\u001b[0m\n\u001b[0;32m----> 1\u001b[0;31m \u001b[0mplt\u001b[0m\u001b[0;34m.\u001b[0m\u001b[0mplot\u001b[0m\u001b[0;34m(\u001b[0m\u001b[0maggressivity\u001b[0m\u001b[0;34m[\u001b[0m\u001b[0;34m:\u001b[0m\u001b[0;36m20\u001b[0m\u001b[0;34m]\u001b[0m\u001b[0;34m)\u001b[0m\u001b[0;34m\u001b[0m\u001b[0;34m\u001b[0m\u001b[0m\n\u001b[0m",
      "\u001b[0;31mNameError\u001b[0m: name 'aggressivity' is not defined"
     ]
    }
   ],
   "source": [
    "plt.plot(aggressivity_score[:20])"
   ]
  },
  {
   "cell_type": "code",
   "execution_count": null,
   "metadata": {},
   "outputs": [],
   "source": []
  }
 ]
}