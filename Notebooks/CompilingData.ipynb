{
 "cells": [
  {
   "cell_type": "code",
   "execution_count": 1,
   "id": "selected-teaching",
   "metadata": {},
   "outputs": [],
   "source": [
    "%load_ext autoreload\n",
    "%autoreload 2"
   ]
  },
  {
   "cell_type": "code",
   "execution_count": 2,
   "id": "incorrect-california",
   "metadata": {},
   "outputs": [],
   "source": [
    "from utils import *"
   ]
  },
  {
   "cell_type": "code",
   "execution_count": 3,
   "id": "governmental-insulin",
   "metadata": {},
   "outputs": [],
   "source": [
    "import glob\n",
    "import os\n",
    "import pandas as pd\n",
    "from tqdm.notebook import tqdm\n",
    "import matplotlib.pyplot as plt"
   ]
  },
  {
   "cell_type": "markdown",
   "id": "northern-condition",
   "metadata": {},
   "source": [
    "### Variables for reference:\n",
    "\n",
    "```\n",
    "Index(['DayNum', 'VehId', 'Trip', 'Timestamp(ms)', 'Latitude[deg]',\n",
    "       'Longitude[deg]', 'Vehicle Speed[km/h]', 'MAF[g/sec]',\n",
    "       'Engine RPM[RPM]', 'Absolute Load[%]', 'OAT[DegC]', 'Fuel Rate[L/hr]',\n",
    "       'Air Conditioning Power[kW]', 'Air Conditioning Power[Watts]',\n",
    "       'Heater Power[Watts]', 'HV Battery Current[A]', 'HV Battery SOC[%]',\n",
    "       'HV Battery Voltage[V]', 'Short Term Fuel Trim Bank 1[%]',\n",
    "       'Short Term Fuel Trim Bank 2[%]', 'Long Term Fuel Trim Bank 1[%]',\n",
    "       'Long Term Fuel Trim Bank 2[%]'],\n",
    "      dtype='object')\n",
    "      \n",
    "```"
   ]
  },
  {
   "cell_type": "code",
   "execution_count": 10,
   "id": "sonic-region",
   "metadata": {},
   "outputs": [
    {
     "data": {
      "text/plain": [
       "['DayNum',\n",
       " 'VehId',\n",
       " 'Trip',\n",
       " 'Timestamp(ms)',\n",
       " 'Latitude[deg]',\n",
       " 'Longitude[deg]',\n",
       " 'Vehicle Speed[km/h]',\n",
       " 'MAF[g/sec]',\n",
       " 'Engine RPM[RPM]',\n",
       " 'Absolute Load[%]',\n",
       " 'OAT[DegC]',\n",
       " 'Fuel Rate[L/hr]',\n",
       " 'Air Conditioning Power[kW]',\n",
       " 'Air Conditioning Power[Watts]',\n",
       " 'Heater Power[Watts]',\n",
       " 'HV Battery Current[A]',\n",
       " 'HV Battery SOC[%]',\n",
       " 'HV Battery Voltage[V]',\n",
       " 'Short Term Fuel Trim Bank 1[%]',\n",
       " 'Short Term Fuel Trim Bank 2[%]',\n",
       " 'Long Term Fuel Trim Bank 1[%]',\n",
       " 'Long Term Fuel Trim Bank 2[%]']"
      ]
     },
     "execution_count": 10,
     "metadata": {},
     "output_type": "execute_result"
    }
   ],
   "source": [
    "list(dat.columns)"
   ]
  },
  {
   "cell_type": "code",
   "execution_count": 25,
   "id": "democratic-thursday",
   "metadata": {},
   "outputs": [],
   "source": [
    "ave_speed_func = lambda x:x['Vehicle Speed[km/h]'].mean()\n",
    "max_speed_func = lambda x:x['Vehicle Speed[km/h]'].max()\n",
    "class NaChecker():\n",
    "    def __init__(self, colname):\n",
    "        self.colname = colname\n",
    "        \n",
    "    def __call__(self, x):\n",
    "        return x[self.colname].isna().sum()/len(x)\n",
    "    \n",
    "na_check_names = ['DayNum',\n",
    " 'VehId',\n",
    " 'Timestamp(ms)',\n",
    " 'Latitude[deg]',\n",
    " 'Longitude[deg]',\n",
    " 'Vehicle Speed[km/h]',\n",
    " 'MAF[g/sec]',\n",
    " 'Engine RPM[RPM]',\n",
    " 'Absolute Load[%]',\n",
    " 'OAT[DegC]',\n",
    " 'Fuel Rate[L/hr]',\n",
    " 'Air Conditioning Power[kW]',\n",
    " 'Air Conditioning Power[Watts]',\n",
    " 'Heater Power[Watts]',\n",
    " 'HV Battery Current[A]',\n",
    " 'HV Battery SOC[%]',\n",
    " 'HV Battery Voltage[V]',\n",
    " 'Short Term Fuel Trim Bank 1[%]',\n",
    " 'Short Term Fuel Trim Bank 2[%]',\n",
    " 'Long Term Fuel Trim Bank 1[%]',\n",
    " 'Long Term Fuel Trim Bank 2[%]']\n",
    "\n",
    "na_check_funcs = [NaChecker(name) for name in na_check_names]"
   ]
  },
  {
   "cell_type": "code",
   "execution_count": 26,
   "id": "varying-tuner",
   "metadata": {},
   "outputs": [
    {
     "name": "stderr",
     "output_type": "stream",
     "text": [
      "100%|██████████| 1/1 [00:14<00:00, 14.27s/it]"
     ]
    },
    {
     "name": "stdout",
     "output_type": "stream",
     "text": [
      "['DayNum, 658', 'VehId, 658', 'Timestamp(ms), 658', 'Latitude[deg], 658', 'Longitude[deg], 658', 'Vehicle Speed[km/h], 658', 'MAF[g/sec], 658', 'Engine RPM[RPM], 658', 'Absolute Load[%], 658', 'OAT[DegC], 658', 'Fuel Rate[L/hr], 658', 'Air Conditioning Power[kW], 658', 'Air Conditioning Power[Watts], 658', 'Heater Power[Watts], 658', 'HV Battery Current[A], 658', 'HV Battery SOC[%], 658', 'HV Battery Voltage[V], 658', 'Short Term Fuel Trim Bank 1[%], 658', 'Short Term Fuel Trim Bank 2[%], 658', 'Long Term Fuel Trim Bank 1[%], 658', 'Long Term Fuel Trim Bank 2[%], 658', 'Trip, 658']\n"
     ]
    },
    {
     "name": "stderr",
     "output_type": "stream",
     "text": [
      "\n"
     ]
    }
   ],
   "source": [
    "tripNAN = extract_trip_multifunc(RAW_PATHS[:1], na_check_funcs, na_check_names)"
   ]
  },
  {
   "cell_type": "code",
   "execution_count": null,
   "id": "hollow-curve",
   "metadata": {},
   "outputs": [],
   "source": []
  }
 ],
 "metadata": {
  "kernelspec": {
   "display_name": "Python 3",
   "language": "python",
   "name": "python3"
  },
  "language_info": {
   "codemirror_mode": {
    "name": "ipython",
    "version": 3
   },
   "file_extension": ".py",
   "mimetype": "text/x-python",
   "name": "python",
   "nbconvert_exporter": "python",
   "pygments_lexer": "ipython3",
   "version": "3.7.9"
  }
 },
 "nbformat": 4,
 "nbformat_minor": 5
}
