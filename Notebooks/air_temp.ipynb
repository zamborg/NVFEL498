{
 "cells": [
  {
   "cell_type": "code",
   "execution_count": 1,
   "metadata": {},
   "outputs": [],
   "source": [
    "%load_ext autoreload\n",
    "%autoreload 2"
   ]
  },
  {
   "cell_type": "code",
   "execution_count": 2,
   "metadata": {},
   "outputs": [],
   "source": [
    "from utils import group_into_trips, group_by_engine_type\n",
    "import pandas as pd\n",
    "import numpy as np\n",
    "import matplotlib.pyplot as plt\n",
    "import datetime\n",
    "import pytz"
   ]
  },
  {
   "cell_type": "code",
   "execution_count": 3,
   "metadata": {},
   "outputs": [],
   "source": [
    "static = pd.read_csv('../VED_Static_Data_ICE_HEV.csv')\n",
    "timeseries = pd.read_csv('../sample_data.csv')\n",
    "ICEs, _, _, _ = group_by_engine_type(static, timeseries)\n",
    "weather = pd.read_csv('weather_data.csv')"
   ]
  },
  {
   "cell_type": "code",
   "execution_count": 37,
   "metadata": {},
   "outputs": [],
   "source": [
    "trips = group_into_trips(ICEs)"
   ]
  },
  {
   "cell_type": "code",
   "execution_count": 38,
   "metadata": {},
   "outputs": [
    {
     "data": {
      "text/plain": [
       "0       330.985161\n",
       "1       330.985161\n",
       "2       330.985161\n",
       "3       330.985161\n",
       "4       330.985161\n",
       "           ...    \n",
       "1062    330.985161\n",
       "1063    330.985161\n",
       "1064    330.985161\n",
       "1065    330.985161\n",
       "1066    330.985161\n",
       "Name: DayNum, Length: 1067, dtype: float64"
      ]
     },
     "execution_count": 38,
     "metadata": {},
     "output_type": "execute_result"
    }
   ],
   "source": [
    "trips[0]['DayNum']"
   ]
  },
  {
   "cell_type": "code",
   "execution_count": 39,
   "metadata": {},
   "outputs": [
    {
     "data": {
      "text/plain": [
       "False"
      ]
     },
     "execution_count": 39,
     "metadata": {},
     "output_type": "execute_result"
    }
   ],
   "source": [
    "duration = []\n",
    "# checking if any trip's duration is over 1.5 hours\n",
    "over = False\n",
    "for trip in trips:\n",
    "    trip_duration = trip.iloc[trip.shape[0] - 1]['Timestamp(ms)']/1000/60/60\n",
    "    if trip_duration > 1.5:\n",
    "        over = True\n",
    "        \n",
    "over"
   ]
  },
  {
   "cell_type": "code",
   "execution_count": 93,
   "metadata": {},
   "outputs": [
    {
     "data": {
      "text/html": [
       "<div>\n",
       "<style scoped>\n",
       "    .dataframe tbody tr th:only-of-type {\n",
       "        vertical-align: middle;\n",
       "    }\n",
       "\n",
       "    .dataframe tbody tr th {\n",
       "        vertical-align: top;\n",
       "    }\n",
       "\n",
       "    .dataframe thead th {\n",
       "        text-align: right;\n",
       "    }\n",
       "</style>\n",
       "<table border=\"1\" class=\"dataframe\">\n",
       "  <thead>\n",
       "    <tr style=\"text-align: right;\">\n",
       "      <th></th>\n",
       "      <th>dt</th>\n",
       "      <th>dt_iso</th>\n",
       "      <th>timezone</th>\n",
       "      <th>city_name</th>\n",
       "      <th>lat</th>\n",
       "      <th>lon</th>\n",
       "      <th>temp</th>\n",
       "      <th>feels_like</th>\n",
       "      <th>temp_min</th>\n",
       "      <th>temp_max</th>\n",
       "      <th>...</th>\n",
       "      <th>rain_3h</th>\n",
       "      <th>snow_1h</th>\n",
       "      <th>snow_3h</th>\n",
       "      <th>clouds_all</th>\n",
       "      <th>weather_id</th>\n",
       "      <th>weather_main</th>\n",
       "      <th>weather_description</th>\n",
       "      <th>weather_icon</th>\n",
       "      <th>date</th>\n",
       "      <th>hour</th>\n",
       "    </tr>\n",
       "  </thead>\n",
       "  <tbody>\n",
       "    <tr>\n",
       "      <th>0</th>\n",
       "      <td>1509494400</td>\n",
       "      <td>2017-11-01 00:00:00 +0000 UTC</td>\n",
       "      <td>-14400</td>\n",
       "      <td>Ann Arbor</td>\n",
       "      <td>42.280826</td>\n",
       "      <td>-83.743038</td>\n",
       "      <td>3.45</td>\n",
       "      <td>-0.21</td>\n",
       "      <td>2.0</td>\n",
       "      <td>4.4</td>\n",
       "      <td>...</td>\n",
       "      <td>NaN</td>\n",
       "      <td>NaN</td>\n",
       "      <td>NaN</td>\n",
       "      <td>90</td>\n",
       "      <td>804</td>\n",
       "      <td>Clouds</td>\n",
       "      <td>overcast clouds</td>\n",
       "      <td>04n</td>\n",
       "      <td>2017-10-31</td>\n",
       "      <td>20</td>\n",
       "    </tr>\n",
       "    <tr>\n",
       "      <th>1</th>\n",
       "      <td>1509498000</td>\n",
       "      <td>2017-11-01 01:00:00 +0000 UTC</td>\n",
       "      <td>-14400</td>\n",
       "      <td>Ann Arbor</td>\n",
       "      <td>42.280826</td>\n",
       "      <td>-83.743038</td>\n",
       "      <td>2.97</td>\n",
       "      <td>-2.33</td>\n",
       "      <td>2.0</td>\n",
       "      <td>4.0</td>\n",
       "      <td>...</td>\n",
       "      <td>NaN</td>\n",
       "      <td>NaN</td>\n",
       "      <td>NaN</td>\n",
       "      <td>90</td>\n",
       "      <td>804</td>\n",
       "      <td>Clouds</td>\n",
       "      <td>overcast clouds</td>\n",
       "      <td>04n</td>\n",
       "      <td>2017-10-31</td>\n",
       "      <td>21</td>\n",
       "    </tr>\n",
       "    <tr>\n",
       "      <th>2</th>\n",
       "      <td>1509501600</td>\n",
       "      <td>2017-11-01 02:00:00 +0000 UTC</td>\n",
       "      <td>-14400</td>\n",
       "      <td>Ann Arbor</td>\n",
       "      <td>42.280826</td>\n",
       "      <td>-83.743038</td>\n",
       "      <td>2.59</td>\n",
       "      <td>-0.79</td>\n",
       "      <td>1.7</td>\n",
       "      <td>4.0</td>\n",
       "      <td>...</td>\n",
       "      <td>NaN</td>\n",
       "      <td>NaN</td>\n",
       "      <td>NaN</td>\n",
       "      <td>1</td>\n",
       "      <td>800</td>\n",
       "      <td>Clear</td>\n",
       "      <td>sky is clear</td>\n",
       "      <td>01n</td>\n",
       "      <td>2017-10-31</td>\n",
       "      <td>22</td>\n",
       "    </tr>\n",
       "    <tr>\n",
       "      <th>3</th>\n",
       "      <td>1509505200</td>\n",
       "      <td>2017-11-01 03:00:00 +0000 UTC</td>\n",
       "      <td>-14400</td>\n",
       "      <td>Ann Arbor</td>\n",
       "      <td>42.280826</td>\n",
       "      <td>-83.743038</td>\n",
       "      <td>2.60</td>\n",
       "      <td>-1.14</td>\n",
       "      <td>1.5</td>\n",
       "      <td>3.3</td>\n",
       "      <td>...</td>\n",
       "      <td>NaN</td>\n",
       "      <td>NaN</td>\n",
       "      <td>NaN</td>\n",
       "      <td>90</td>\n",
       "      <td>804</td>\n",
       "      <td>Clouds</td>\n",
       "      <td>overcast clouds</td>\n",
       "      <td>04n</td>\n",
       "      <td>2017-10-31</td>\n",
       "      <td>23</td>\n",
       "    </tr>\n",
       "    <tr>\n",
       "      <th>4</th>\n",
       "      <td>1509508800</td>\n",
       "      <td>2017-11-01 04:00:00 +0000 UTC</td>\n",
       "      <td>-14400</td>\n",
       "      <td>Ann Arbor</td>\n",
       "      <td>42.280826</td>\n",
       "      <td>-83.743038</td>\n",
       "      <td>1.94</td>\n",
       "      <td>-1.27</td>\n",
       "      <td>0.6</td>\n",
       "      <td>3.0</td>\n",
       "      <td>...</td>\n",
       "      <td>NaN</td>\n",
       "      <td>NaN</td>\n",
       "      <td>NaN</td>\n",
       "      <td>90</td>\n",
       "      <td>804</td>\n",
       "      <td>Clouds</td>\n",
       "      <td>overcast clouds</td>\n",
       "      <td>04n</td>\n",
       "      <td>2017-11-01</td>\n",
       "      <td>0</td>\n",
       "    </tr>\n",
       "  </tbody>\n",
       "</table>\n",
       "<p>5 rows × 27 columns</p>\n",
       "</div>"
      ],
      "text/plain": [
       "           dt                         dt_iso  timezone  city_name        lat  \\\n",
       "0  1509494400  2017-11-01 00:00:00 +0000 UTC    -14400  Ann Arbor  42.280826   \n",
       "1  1509498000  2017-11-01 01:00:00 +0000 UTC    -14400  Ann Arbor  42.280826   \n",
       "2  1509501600  2017-11-01 02:00:00 +0000 UTC    -14400  Ann Arbor  42.280826   \n",
       "3  1509505200  2017-11-01 03:00:00 +0000 UTC    -14400  Ann Arbor  42.280826   \n",
       "4  1509508800  2017-11-01 04:00:00 +0000 UTC    -14400  Ann Arbor  42.280826   \n",
       "\n",
       "         lon  temp  feels_like  temp_min  temp_max  ...  rain_3h  snow_1h  \\\n",
       "0 -83.743038  3.45       -0.21       2.0       4.4  ...      NaN      NaN   \n",
       "1 -83.743038  2.97       -2.33       2.0       4.0  ...      NaN      NaN   \n",
       "2 -83.743038  2.59       -0.79       1.7       4.0  ...      NaN      NaN   \n",
       "3 -83.743038  2.60       -1.14       1.5       3.3  ...      NaN      NaN   \n",
       "4 -83.743038  1.94       -1.27       0.6       3.0  ...      NaN      NaN   \n",
       "\n",
       "   snow_3h  clouds_all  weather_id  weather_main  weather_description  \\\n",
       "0      NaN          90         804        Clouds      overcast clouds   \n",
       "1      NaN          90         804        Clouds      overcast clouds   \n",
       "2      NaN           1         800         Clear         sky is clear   \n",
       "3      NaN          90         804        Clouds      overcast clouds   \n",
       "4      NaN          90         804        Clouds      overcast clouds   \n",
       "\n",
       "   weather_icon        date  hour  \n",
       "0           04n  2017-10-31    20  \n",
       "1           04n  2017-10-31    21  \n",
       "2           01n  2017-10-31    22  \n",
       "3           04n  2017-10-31    23  \n",
       "4           04n  2017-11-01     0  \n",
       "\n",
       "[5 rows x 27 columns]"
      ]
     },
     "execution_count": 93,
     "metadata": {},
     "output_type": "execute_result"
    }
   ],
   "source": [
    "weather['date'] = [datetime.datetime.fromtimestamp(x).astimezone(pytz.timezone('US/Eastern')).strftime('%Y-%m-%d') for x in weather['dt']]\n",
    "weather['hour'] = [datetime.datetime.fromtimestamp(x).astimezone(pytz.timezone('US/Eastern')).hour for x in weather['dt']]\n",
    "weather.head()"
   ]
  },
  {
   "cell_type": "code",
   "execution_count": 4,
   "metadata": {},
   "outputs": [
    {
     "ename": "NameError",
     "evalue": "name 'trips' is not defined",
     "output_type": "error",
     "traceback": [
      "\u001b[0;31m---------------------------------------------------------------------------\u001b[0m",
      "\u001b[0;31mNameError\u001b[0m                                 Traceback (most recent call last)",
      "\u001b[0;32m<ipython-input-4-86855159f7ab>\u001b[0m in \u001b[0;36m<module>\u001b[0;34m\u001b[0m\n\u001b[0;32m----> 1\u001b[0;31m \u001b[0;32mfor\u001b[0m \u001b[0mtrip\u001b[0m \u001b[0;32min\u001b[0m \u001b[0mtrips\u001b[0m\u001b[0;34m:\u001b[0m\u001b[0;34m\u001b[0m\u001b[0;34m\u001b[0m\u001b[0m\n\u001b[0m\u001b[1;32m      2\u001b[0m     \u001b[0mdayNum\u001b[0m \u001b[0;34m=\u001b[0m \u001b[0mtrip\u001b[0m\u001b[0;34m.\u001b[0m\u001b[0miloc\u001b[0m\u001b[0;34m[\u001b[0m\u001b[0;36m0\u001b[0m\u001b[0;34m]\u001b[0m\u001b[0;34m[\u001b[0m\u001b[0;34m'DayNum'\u001b[0m\u001b[0;34m]\u001b[0m\u001b[0;34m\u001b[0m\u001b[0;34m\u001b[0m\u001b[0m\n\u001b[1;32m      3\u001b[0m     \u001b[0mprint\u001b[0m\u001b[0;34m(\u001b[0m\u001b[0;34m\"DAY NUMBER: \"\u001b[0m\u001b[0;34m,\u001b[0m \u001b[0mdayNum\u001b[0m\u001b[0;34m)\u001b[0m\u001b[0;34m\u001b[0m\u001b[0;34m\u001b[0m\u001b[0m\n\u001b[1;32m      4\u001b[0m     \u001b[0mbegin_date\u001b[0m \u001b[0;34m=\u001b[0m \u001b[0;34m'11/01/17'\u001b[0m\u001b[0;34m\u001b[0m\u001b[0;34m\u001b[0m\u001b[0m\n\u001b[1;32m      5\u001b[0m     \u001b[0mstart_date\u001b[0m \u001b[0;34m=\u001b[0m \u001b[0mdatetime\u001b[0m\u001b[0;34m.\u001b[0m\u001b[0mdatetime\u001b[0m\u001b[0;34m.\u001b[0m\u001b[0mstrptime\u001b[0m\u001b[0;34m(\u001b[0m\u001b[0mbegin_date\u001b[0m\u001b[0;34m,\u001b[0m \u001b[0;34m\"%m/%d/%y\"\u001b[0m\u001b[0;34m)\u001b[0m\u001b[0;34m\u001b[0m\u001b[0;34m\u001b[0m\u001b[0m\n",
      "\u001b[0;31mNameError\u001b[0m: name 'trips' is not defined"
     ]
    }
   ],
   "source": [
    "for trip in trips:\n",
    "    dayNum = trip.iloc[0]['DayNum']\n",
    "    print(\"DAY NUMBER: \", dayNum)\n",
    "    begin_date = '11/01/17'\n",
    "    start_date = datetime.datetime.strptime(begin_date, \"%m/%d/%y\")\n",
    "    trip_start_date = (start_date + datetime.timedelta(days=dayNum)).strftime('%Y-%m-%d')\n",
    "    trip_start_hour = (start_date + datetime.timedelta(days=dayNum)).hour\n",
    "    air_temp = weather[(weather['date'] == trip_start_date) & (weather['hour'] == trip_start_hour)]['temp'].iloc[0]\n",
    "    print(trip_start_date)\n",
    "    print(trip_start_hour)\n",
    "    print(air_temp)\n"
   ]
  },
  {
   "cell_type": "code",
   "execution_count": null,
   "metadata": {},
   "outputs": [],
   "source": []
  }
 ],
 "metadata": {
  "kernelspec": {
   "display_name": "Python 3",
   "language": "python",
   "name": "python3"
  },
  "language_info": {
   "codemirror_mode": {
    "name": "ipython",
    "version": 3
   },
   "file_extension": ".py",
   "mimetype": "text/x-python",
   "name": "python",
   "nbconvert_exporter": "python",
   "pygments_lexer": "ipython3",
   "version": "3.7.6"
  }
 },
 "nbformat": 4,
 "nbformat_minor": 5
}
