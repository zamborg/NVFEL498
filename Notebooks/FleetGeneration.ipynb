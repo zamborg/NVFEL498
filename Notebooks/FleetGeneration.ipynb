{
 "cells": [
  {
   "cell_type": "markdown",
   "metadata": {},
   "source": [
    "# Fleet Generation"
   ]
  },
  {
   "cell_type": "code",
   "execution_count": 3,
   "metadata": {},
   "outputs": [],
   "source": [
    "import pandas as pd"
   ]
  },
  {
   "cell_type": "code",
   "execution_count": 4,
   "metadata": {},
   "outputs": [],
   "source": [
    "import sys\n",
    "import os\n",
    "import numpy as np"
   ]
  },
  {
   "cell_type": "code",
   "execution_count": 3,
   "metadata": {},
   "outputs": [],
   "source": [
    "sys.path.append(os.path.join(*os.getcwd().split('/')[:3], 'midas-applied-ds', 'Data'))"
   ]
  },
  {
   "cell_type": "code",
   "execution_count": 4,
   "metadata": {},
   "outputs": [],
   "source": [
    "import glob"
   ]
  },
  {
   "cell_type": "code",
   "execution_count": 5,
   "metadata": {},
   "outputs": [
    {
     "data": {
      "text/plain": [
       "[]"
      ]
     },
     "execution_count": 5,
     "metadata": {},
     "output_type": "execute_result"
    }
   ],
   "source": [
    "glob.glob(os.path.join(*os.getcwd().split('/')[1:3], '*'))"
   ]
  },
  {
   "cell_type": "code",
   "execution_count": 6,
   "metadata": {},
   "outputs": [
    {
     "data": {
      "text/plain": [
       "['/home/aysola/midas-applied-ds/Data/Processed/ICE_trips/alltrips.csv',\n",
       " '/home/aysola/midas-applied-ds/Data/Processed/ICE_trips/alltrips_unprocessed.csv',\n",
       " '/home/aysola/midas-applied-ds/Data/Processed/ICE_trips/alltrips2.csv',\n",
       " '/home/aysola/midas-applied-ds/Data/Processed/ICE_trips/alltrips_with_weight_and_disp.csv']"
      ]
     },
     "execution_count": 6,
     "metadata": {},
     "output_type": "execute_result"
    }
   ],
   "source": [
    "glob.glob('/home/aysola/midas-applied-ds/Data/Processed/ICE_trips/all*')"
   ]
  },
  {
   "cell_type": "code",
   "execution_count": 57,
   "metadata": {},
   "outputs": [],
   "source": [
    "data = pd.read_csv('/home/aysola/midas-applied-ds/Data/Processed/ICE_trips/alltrips_with_weight_and_disp.csv')"
   ]
  },
  {
   "cell_type": "code",
   "execution_count": 8,
   "metadata": {},
   "outputs": [
    {
     "data": {
      "text/plain": [
       "(11804, 8)"
      ]
     },
     "execution_count": 8,
     "metadata": {},
     "output_type": "execute_result"
    }
   ],
   "source": [
    "data.shape"
   ]
  },
  {
   "cell_type": "code",
   "execution_count": 58,
   "metadata": {},
   "outputs": [
    {
     "data": {
      "text/html": [
       "<div>\n",
       "<style scoped>\n",
       "    .dataframe tbody tr th:only-of-type {\n",
       "        vertical-align: middle;\n",
       "    }\n",
       "\n",
       "    .dataframe tbody tr th {\n",
       "        vertical-align: top;\n",
       "    }\n",
       "\n",
       "    .dataframe thead th {\n",
       "        text-align: right;\n",
       "    }\n",
       "</style>\n",
       "<table border=\"1\" class=\"dataframe\">\n",
       "  <thead>\n",
       "    <tr style=\"text-align: right;\">\n",
       "      <th></th>\n",
       "      <th>Unnamed: 0</th>\n",
       "      <th>Unnamed: 0.1</th>\n",
       "      <th>Unnamed: 0.1.1</th>\n",
       "      <th>TripId</th>\n",
       "      <th>VehId</th>\n",
       "      <th>Aggressivity</th>\n",
       "      <th>Aggressiveness</th>\n",
       "      <th>Fuel Consumed[L]</th>\n",
       "      <th>Distance[km]</th>\n",
       "      <th>Weight</th>\n",
       "      <th>Displacement</th>\n",
       "      <th>Fuel Economy[mpg]</th>\n",
       "    </tr>\n",
       "  </thead>\n",
       "  <tbody>\n",
       "    <tr>\n",
       "      <th>0</th>\n",
       "      <td>0</td>\n",
       "      <td>0</td>\n",
       "      <td>0</td>\n",
       "      <td>0</td>\n",
       "      <td>123</td>\n",
       "      <td>475.645508</td>\n",
       "      <td>242212.485095</td>\n",
       "      <td>0.895646</td>\n",
       "      <td>9.225222</td>\n",
       "      <td>2500.0</td>\n",
       "      <td>1.8</td>\n",
       "      <td>24.227270</td>\n",
       "    </tr>\n",
       "    <tr>\n",
       "      <th>1</th>\n",
       "      <td>1</td>\n",
       "      <td>1</td>\n",
       "      <td>1</td>\n",
       "      <td>1</td>\n",
       "      <td>135</td>\n",
       "      <td>269.540959</td>\n",
       "      <td>101741.261711</td>\n",
       "      <td>0.441901</td>\n",
       "      <td>2.223611</td>\n",
       "      <td>3500.0</td>\n",
       "      <td>2.5</td>\n",
       "      <td>11.835816</td>\n",
       "    </tr>\n",
       "    <tr>\n",
       "      <th>2</th>\n",
       "      <td>2</td>\n",
       "      <td>2</td>\n",
       "      <td>2</td>\n",
       "      <td>2</td>\n",
       "      <td>521</td>\n",
       "      <td>459.151574</td>\n",
       "      <td>199787.209526</td>\n",
       "      <td>0.000000</td>\n",
       "      <td>2.603500</td>\n",
       "      <td>4500.0</td>\n",
       "      <td>3.5</td>\n",
       "      <td>inf</td>\n",
       "    </tr>\n",
       "    <tr>\n",
       "      <th>3</th>\n",
       "      <td>3</td>\n",
       "      <td>3</td>\n",
       "      <td>3</td>\n",
       "      <td>3</td>\n",
       "      <td>259</td>\n",
       "      <td>401.982744</td>\n",
       "      <td>145957.042566</td>\n",
       "      <td>0.000000</td>\n",
       "      <td>8.514889</td>\n",
       "      <td>3500.0</td>\n",
       "      <td>2.7</td>\n",
       "      <td>inf</td>\n",
       "    </tr>\n",
       "    <tr>\n",
       "      <th>4</th>\n",
       "      <td>4</td>\n",
       "      <td>4</td>\n",
       "      <td>4</td>\n",
       "      <td>4</td>\n",
       "      <td>575</td>\n",
       "      <td>266.112770</td>\n",
       "      <td>117044.120748</td>\n",
       "      <td>1.008958</td>\n",
       "      <td>6.323556</td>\n",
       "      <td>4000.0</td>\n",
       "      <td>2.4</td>\n",
       "      <td>14.741860</td>\n",
       "    </tr>\n",
       "    <tr>\n",
       "      <th>...</th>\n",
       "      <td>...</td>\n",
       "      <td>...</td>\n",
       "      <td>...</td>\n",
       "      <td>...</td>\n",
       "      <td>...</td>\n",
       "      <td>...</td>\n",
       "      <td>...</td>\n",
       "      <td>...</td>\n",
       "      <td>...</td>\n",
       "      <td>...</td>\n",
       "      <td>...</td>\n",
       "      <td>...</td>\n",
       "    </tr>\n",
       "    <tr>\n",
       "      <th>17540</th>\n",
       "      <td>17540</td>\n",
       "      <td>17540</td>\n",
       "      <td>17540</td>\n",
       "      <td>17540</td>\n",
       "      <td>266</td>\n",
       "      <td>409.468672</td>\n",
       "      <td>48638.660755</td>\n",
       "      <td>0.000000</td>\n",
       "      <td>39.254278</td>\n",
       "      <td>3500.0</td>\n",
       "      <td>2.4</td>\n",
       "      <td>inf</td>\n",
       "    </tr>\n",
       "    <tr>\n",
       "      <th>17541</th>\n",
       "      <td>17541</td>\n",
       "      <td>17541</td>\n",
       "      <td>17541</td>\n",
       "      <td>17541</td>\n",
       "      <td>282</td>\n",
       "      <td>307.183274</td>\n",
       "      <td>121877.568423</td>\n",
       "      <td>0.000000</td>\n",
       "      <td>6.124056</td>\n",
       "      <td>3500.0</td>\n",
       "      <td>2.5</td>\n",
       "      <td>inf</td>\n",
       "    </tr>\n",
       "    <tr>\n",
       "      <th>17542</th>\n",
       "      <td>17542</td>\n",
       "      <td>17542</td>\n",
       "      <td>17542</td>\n",
       "      <td>17542</td>\n",
       "      <td>244</td>\n",
       "      <td>274.127964</td>\n",
       "      <td>148747.893217</td>\n",
       "      <td>0.531646</td>\n",
       "      <td>3.259972</td>\n",
       "      <td>3500.0</td>\n",
       "      <td>2.5</td>\n",
       "      <td>14.422995</td>\n",
       "    </tr>\n",
       "    <tr>\n",
       "      <th>17543</th>\n",
       "      <td>17543</td>\n",
       "      <td>17543</td>\n",
       "      <td>17543</td>\n",
       "      <td>17543</td>\n",
       "      <td>528</td>\n",
       "      <td>301.006582</td>\n",
       "      <td>173741.356366</td>\n",
       "      <td>0.000000</td>\n",
       "      <td>10.645278</td>\n",
       "      <td>4500.0</td>\n",
       "      <td>3.3</td>\n",
       "      <td>inf</td>\n",
       "    </tr>\n",
       "    <tr>\n",
       "      <th>17544</th>\n",
       "      <td>17544</td>\n",
       "      <td>17544</td>\n",
       "      <td>17544</td>\n",
       "      <td>17544</td>\n",
       "      <td>12</td>\n",
       "      <td>300.598065</td>\n",
       "      <td>113279.279566</td>\n",
       "      <td>1.012153</td>\n",
       "      <td>8.735472</td>\n",
       "      <td>2500.0</td>\n",
       "      <td>1.8</td>\n",
       "      <td>20.300389</td>\n",
       "    </tr>\n",
       "  </tbody>\n",
       "</table>\n",
       "<p>17545 rows × 12 columns</p>\n",
       "</div>"
      ],
      "text/plain": [
       "       Unnamed: 0  Unnamed: 0.1  Unnamed: 0.1.1  TripId  VehId  Aggressivity  \\\n",
       "0               0             0               0       0    123    475.645508   \n",
       "1               1             1               1       1    135    269.540959   \n",
       "2               2             2               2       2    521    459.151574   \n",
       "3               3             3               3       3    259    401.982744   \n",
       "4               4             4               4       4    575    266.112770   \n",
       "...           ...           ...             ...     ...    ...           ...   \n",
       "17540       17540         17540           17540   17540    266    409.468672   \n",
       "17541       17541         17541           17541   17541    282    307.183274   \n",
       "17542       17542         17542           17542   17542    244    274.127964   \n",
       "17543       17543         17543           17543   17543    528    301.006582   \n",
       "17544       17544         17544           17544   17544     12    300.598065   \n",
       "\n",
       "       Aggressiveness  Fuel Consumed[L]  Distance[km]  Weight  Displacement  \\\n",
       "0       242212.485095          0.895646      9.225222  2500.0           1.8   \n",
       "1       101741.261711          0.441901      2.223611  3500.0           2.5   \n",
       "2       199787.209526          0.000000      2.603500  4500.0           3.5   \n",
       "3       145957.042566          0.000000      8.514889  3500.0           2.7   \n",
       "4       117044.120748          1.008958      6.323556  4000.0           2.4   \n",
       "...               ...               ...           ...     ...           ...   \n",
       "17540    48638.660755          0.000000     39.254278  3500.0           2.4   \n",
       "17541   121877.568423          0.000000      6.124056  3500.0           2.5   \n",
       "17542   148747.893217          0.531646      3.259972  3500.0           2.5   \n",
       "17543   173741.356366          0.000000     10.645278  4500.0           3.3   \n",
       "17544   113279.279566          1.012153      8.735472  2500.0           1.8   \n",
       "\n",
       "       Fuel Economy[mpg]  \n",
       "0              24.227270  \n",
       "1              11.835816  \n",
       "2                    inf  \n",
       "3                    inf  \n",
       "4              14.741860  \n",
       "...                  ...  \n",
       "17540                inf  \n",
       "17541                inf  \n",
       "17542          14.422995  \n",
       "17543                inf  \n",
       "17544          20.300389  \n",
       "\n",
       "[17545 rows x 12 columns]"
      ]
     },
     "execution_count": 58,
     "metadata": {},
     "output_type": "execute_result"
    }
   ],
   "source": [
    "data"
   ]
  },
  {
   "cell_type": "code",
   "execution_count": 10,
   "metadata": {},
   "outputs": [],
   "source": [
    "import matplotlib.pyplot as plt"
   ]
  },
  {
   "cell_type": "code",
   "execution_count": 11,
   "metadata": {},
   "outputs": [
    {
     "data": {
      "text/plain": [
       "<matplotlib.collections.PathCollection at 0x2b41d702ab50>"
      ]
     },
     "execution_count": 11,
     "metadata": {},
     "output_type": "execute_result"
    },
    {
     "data": {
      "image/png": "[encoded data removed]",
      "text/plain": [
       "<Figure size 432x288 with 1 Axes>"
      ]
     },
     "metadata": {
      "needs_background": "light"
     },
     "output_type": "display_data"
    }
   ],
   "source": [
    "plt.scatter(data['Aggressivity'], data['Fuel Economy[mpg]'])"
   ]
  },
  {
   "cell_type": "code",
   "execution_count": 12,
   "metadata": {},
   "outputs": [
    {
     "data": {
      "text/plain": [
       "<matplotlib.collections.PathCollection at 0x2b41d93b5490>"
      ]
     },
     "execution_count": 12,
     "metadata": {},
     "output_type": "execute_result"
    },
    {
     "data": {
      "image/png": "[encoded data removed]",
      "text/plain": [
       "<Figure size 432x288 with 1 Axes>"
      ]
     },
     "metadata": {
      "needs_background": "light"
     },
     "output_type": "display_data"
    }
   ],
   "source": [
    "plt.scatter(data['Aggressivity'], (1/data['Fuel Economy[mpg]']))"
   ]
  },
  {
   "cell_type": "code",
   "execution_count": 13,
   "metadata": {},
   "outputs": [
    {
     "data": {
      "text/plain": [
       "<matplotlib.collections.PathCollection at 0x2b41d9350750>"
      ]
     },
     "execution_count": 13,
     "metadata": {},
     "output_type": "execute_result"
    },
    {
     "data": {
      "image/png": "[encoded data removed]",
      "text/plain": [
       "<Figure size 432x288 with 1 Axes>"
      ]
     },
     "metadata": {
      "needs_background": "light"
     },
     "output_type": "display_data"
    }
   ],
   "source": [
    "plt.scatter(data['Aggressiveness'], (data['Fuel Economy[mpg]']))"
   ]
  },
  {
   "cell_type": "code",
   "execution_count": 14,
   "metadata": {},
   "outputs": [
    {
     "data": {
      "text/plain": [
       "<matplotlib.collections.PathCollection at 0x2b41d9494cd0>"
      ]
     },
     "execution_count": 14,
     "metadata": {},
     "output_type": "execute_result"
    },
    {
     "data": {
      "image/png": "[encoded data removed]",
      "text/plain": [
       "<Figure size 432x288 with 1 Axes>"
      ]
     },
     "metadata": {
      "needs_background": "light"
     },
     "output_type": "display_data"
    }
   ],
   "source": [
    "plt.scatter((data['Aggressiveness']), (1/data['Fuel Economy[mpg]']))"
   ]
  },
  {
   "cell_type": "code",
   "execution_count": 15,
   "metadata": {},
   "outputs": [],
   "source": [
    "from sklearn.linear_model import LinearRegression"
   ]
  },
  {
   "cell_type": "code",
   "execution_count": 23,
   "metadata": {},
   "outputs": [],
   "source": [
    "economy = LinearRegression().fit(np.array(data['Aggressiveness']).reshape(-1,1), data['Fuel Economy[mpg]'])"
   ]
  },
  {
   "cell_type": "code",
   "execution_count": 36,
   "metadata": {},
   "outputs": [],
   "source": [
    "pred = economy.predict(np.array(data['Aggressiveness']).reshape(-1,1))\n",
    "squared_resid = (data['Fuel Economy[mpg]'] - pred)**2\n",
    "variance = (data['Fuel Economy[mpg]']-data['Fuel Economy[mpg]'].mean())**2\n",
    "r_squared = 1 - (squared_resid.sum()/variance.sum())"
   ]
  },
  {
   "cell_type": "code",
   "execution_count": 37,
   "metadata": {},
   "outputs": [
    {
     "data": {
      "text/plain": [
       "0.03349691796949994"
      ]
     },
     "execution_count": 37,
     "metadata": {},
     "output_type": "execute_result"
    }
   ],
   "source": [
    "r_squared"
   ]
  },
  {
   "cell_type": "code",
   "execution_count": 43,
   "metadata": {},
   "outputs": [
    {
     "data": {
      "image/png": "[encoded data removed]",
      "text/plain": [
       "<Figure size 432x288 with 1 Axes>"
      ]
     },
     "metadata": {
      "needs_background": "light"
     },
     "output_type": "display_data"
    }
   ],
   "source": [
    "plt.scatter(data['Aggressiveness'], (data['Fuel Economy[mpg]']))\n",
    "plt.plot(data['Aggressiveness'], pred, color='red', linewidth=4.0)\n",
    "plt.title('Aggressiveness vs Fuel Economy')\n",
    "plt.show()"
   ]
  },
  {
   "cell_type": "code",
   "execution_count": 48,
   "metadata": {},
   "outputs": [
    {
     "name": "stdout",
     "output_type": "stream",
     "text": [
      "0.055417986635833416\n"
     ]
    }
   ],
   "source": [
    "## Now for Consumption:\n",
    "consumption = LinearRegression().fit(np.array(data['Aggressiveness']).reshape(-1,1), (1/data['Fuel Economy[mpg]']))\n",
    "pred = consumption.predict(np.array(data['Aggressiveness']).reshape(-1,1))\n",
    "squared_resid = ((1/data['Fuel Economy[mpg]']) - pred)**2\n",
    "variance = ((1/data['Fuel Economy[mpg]'])-(1/data['Fuel Economy[mpg]']).mean())**2\n",
    "r_squared = 1 - (squared_resid.sum()/variance.sum())\n",
    "print(r_squared)"
   ]
  },
  {
   "cell_type": "code",
   "execution_count": 47,
   "metadata": {},
   "outputs": [
    {
     "data": {
      "image/png": "[encoded data removed]",
      "text/plain": [
       "<Figure size 432x288 with 1 Axes>"
      ]
     },
     "metadata": {
      "needs_background": "light"
     },
     "output_type": "display_data"
    }
   ],
   "source": [
    "plt.scatter(data['Aggressiveness'], (1/data['Fuel Economy[mpg]']))\n",
    "plt.plot(data['Aggressiveness'], pred, color='red', linewidth=4.0)\n",
    "plt.title('Aggressiveness vs Fuel Economy')\n",
    "plt.show()"
   ]
  },
  {
   "cell_type": "code",
   "execution_count": null,
   "metadata": {},
   "outputs": [],
   "source": [
    "# Now for aggresivity:"
   ]
  },
  {
   "cell_type": "code",
   "execution_count": 57,
   "metadata": {},
   "outputs": [
    {
     "name": "stdout",
     "output_type": "stream",
     "text": [
      "0.000736005666565176\n"
     ]
    },
    {
     "data": {
      "image/png": "[encoded data removed]",
      "text/plain": [
       "<Figure size 432x288 with 1 Axes>"
      ]
     },
     "metadata": {
      "needs_background": "light"
     },
     "output_type": "display_data"
    }
   ],
   "source": [
    "#economy\n",
    "consumption = LinearRegression().fit(np.array(data['Aggressivity']).reshape(-1,1), (data['Fuel Economy[mpg]']))\n",
    "pred = consumption.predict(np.array(data['Aggressivity']).reshape(-1,1))\n",
    "squared_resid = ((data['Fuel Economy[mpg]']) - pred)**2\n",
    "variance = ((data['Fuel Economy[mpg]'])-(data['Fuel Economy[mpg]']).mean())**2\n",
    "r_squared = 1 - (squared_resid.sum()/variance.sum())\n",
    "print(r_squared)\n",
    "plt.scatter(data['Aggressivity'], (data['Fuel Economy[mpg]']))\n",
    "plt.plot(data['Aggressivity'], pred, color='red', linewidth=4.0)\n",
    "plt.title('Aggressivity vs Fuel Economy')\n",
    "plt.show()"
   ]
  },
  {
   "cell_type": "code",
   "execution_count": 142,
   "metadata": {},
   "outputs": [
    {
     "name": "stdout",
     "output_type": "stream",
     "text": [
      "0.0016599441161987416\n"
     ]
    },
    {
     "data": {
      "image/png": "[encoded data removed]",
      "text/plain": [
       "<Figure size 432x288 with 1 Axes>"
      ]
     },
     "metadata": {
      "needs_background": "light"
     },
     "output_type": "display_data"
    }
   ],
   "source": [
    "#consumption\n",
    "consumption = LinearRegression().fit(np.array(data['Aggressivity']).reshape(-1,1), (1/data['Fuel Economy[mpg]']))\n",
    "pred = consumption.predict(np.array(data['Aggressivity']).reshape(-1,1))\n",
    "squared_resid = ((1/data['Fuel Economy[mpg]']) - pred)**2\n",
    "variance = ((1/data['Fuel Economy[mpg]'])-(1/data['Fuel Economy[mpg]']).mean())**2\n",
    "r_squared = 1 - (squared_resid.sum()/variance.sum())\n",
    "print(r_squared)\n",
    "plt.scatter(data['Aggressivity'], (1/data['Fuel Economy[mpg]']))\n",
    "plt.plot(data['Aggressivity'], pred, color='red', linewidth=4.0)\n",
    "plt.title('Aggressivity vs Fuel Economy')\n",
    "plt.show()"
   ]
  },
  {
   "cell_type": "code",
   "execution_count": null,
   "metadata": {},
   "outputs": [],
   "source": []
  },
  {
   "cell_type": "code",
   "execution_count": null,
   "metadata": {},
   "outputs": [],
   "source": []
  },
  {
   "cell_type": "code",
   "execution_count": null,
   "metadata": {},
   "outputs": [],
   "source": []
  },
  {
   "cell_type": "markdown",
   "metadata": {},
   "source": [
    "## What about fitting a SUPER SIMPLE neural network? "
   ]
  },
  {
   "cell_type": "code",
   "execution_count": 53,
   "metadata": {},
   "outputs": [],
   "source": [
    "import torch\n",
    "import torch.nn as nn"
   ]
  },
  {
   "cell_type": "code",
   "execution_count": 402,
   "metadata": {},
   "outputs": [],
   "source": [
    "# lets fit a really stupid NN:\n",
    "# Aggressiveness -> 5 nodes -> 10 nodes -> 1 node (output)\n",
    "# class Squish(nn.Module):\n",
    "#     def __init__(self):\n",
    "#         return self\n",
    "#     def forward()\n",
    "\n",
    "# model = nn.Sequential(\n",
    "#     nn.Linear(1, 5),\n",
    "#     nn.ReLU(),\n",
    "#     nn.Linear(5,10),\n",
    "#     nn.ReLU(),\n",
    "#     nn.Linear(10,1)\n",
    "# )\n",
    "\n",
    "# model = nn.Sequential(\n",
    "#     nn.Linear(1,10),\n",
    "#     nn.ReLU(),\n",
    "#     nn.Linear(10,20),\n",
    "#     nn.ReLU(),\n",
    "#     nn.Linear(20,40),\n",
    "#     nn.ReLU(),\n",
    "#     nn.Linear(40,20),\n",
    "#     nn.ReLU(),\n",
    "#     nn.Linear(20,10),\n",
    "#     nn.ReLU(),\n",
    "#     nn.Linear(10,5),\n",
    "#     nn.ReLU(),\n",
    "#     nn.Linear(5,1),\n",
    "# )\n",
    "\n",
    "\n",
    "# model = nn.Sequential(\n",
    "#     nn.Linear(1,10),\n",
    "#     nn.ReLU(),\n",
    "#     nn.Linear(10,1),\n",
    "# )\n",
    "\n",
    "model = nn.Sequential(\n",
    "    nn.Linear(1,32),\n",
    "    nn.ReLU(),\n",
    "    nn.Linear(32,64),\n",
    "    nn.ReLU(),\n",
    "    nn.Linear(64,1)\n",
    ")"
   ]
  },
  {
   "cell_type": "code",
   "execution_count": 361,
   "metadata": {},
   "outputs": [],
   "source": [
    "X = torch.tensor(np.array(data['Aggressiveness']).reshape(-1,1), dtype=torch.float32)\n",
    "y = torch.tensor(np.array((1/data['Fuel Economy[mpg]'])).reshape(-1,1), dtype=torch.float32)"
   ]
  },
  {
   "cell_type": "code",
   "execution_count": 403,
   "metadata": {},
   "outputs": [],
   "source": [
    "def train(X, y, epochs = 500):\n",
    "    optimizer = torch.optim.Adagrad(model.parameters())\n",
    "    for i in range(epochs):\n",
    "        preds = model.forward(X)\n",
    "        loss = ((y-preds)**2).sum()\n",
    "        with torch.no_grad():\n",
    "            optimizer.zero_grad()\n",
    "            if i%100 == 0:\n",
    "                print(loss.item())\n",
    "            loss.backward()\n",
    "            optimizer.step()\n",
    "        \n",
    "        "
   ]
  },
  {
   "cell_type": "code",
   "execution_count": 347,
   "metadata": {},
   "outputs": [
    {
     "name": "stdout",
     "output_type": "stream",
     "text": [
      "2912144326656.0\n",
      "615204.75\n",
      "900.8546142578125\n",
      "125.9376220703125\n",
      "125.87528991699219\n"
     ]
    }
   ],
   "source": [
    "train(X,y)"
   ]
  },
  {
   "cell_type": "code",
   "execution_count": 348,
   "metadata": {},
   "outputs": [
    {
     "name": "stdout",
     "output_type": "stream",
     "text": [
      "-25.066867691158762\n"
     ]
    }
   ],
   "source": [
    "pred = model.forward(X).detach().numpy().reshape(-1)\n",
    "squared_resid = ((1/data['Fuel Economy[mpg]']) - pred)**2\n",
    "variance = ((1/data['Fuel Economy[mpg]'])-(1/data['Fuel Economy[mpg]']).mean())**2\n",
    "r_squared = 1 - (squared_resid.sum()/variance.sum())\n",
    "print(r_squared)"
   ]
  },
  {
   "cell_type": "code",
   "execution_count": 349,
   "metadata": {},
   "outputs": [
    {
     "name": "stdout",
     "output_type": "stream",
     "text": [
      "Parameter containing:\n",
      "tensor([[-0.3123],\n",
      "        [-0.0183],\n",
      "        [-0.8189],\n",
      "        [-0.1869],\n",
      "        [ 0.0821],\n",
      "        [-0.7355],\n",
      "        [ 0.6740],\n",
      "        [ 0.0160],\n",
      "        [-0.1865],\n",
      "        [-0.7160]], requires_grad=True)\n",
      "Parameter containing:\n",
      "tensor([[ 0.2757,  0.1795,  0.0310,  0.1598,  0.3081,  0.2170, -0.0380,  0.0204,\n",
      "          0.0764,  0.1594]], requires_grad=True)\n"
     ]
    }
   ],
   "source": [
    "for i in model.modules():\n",
    "    if type(i) is nn.Linear:\n",
    "        print(i.weight)"
   ]
  },
  {
   "cell_type": "code",
   "execution_count": 350,
   "metadata": {},
   "outputs": [
    {
     "data": {
      "text/plain": [
       "(array([5.375e+03, 5.797e+03, 5.010e+02, 6.400e+01, 4.300e+01, 1.800e+01,\n",
       "        4.000e+00, 2.000e+00]),\n",
       " array([0.01594491, 0.05276915, 0.0895934 , 0.12641764, 0.16324186,\n",
       "        0.2000661 , 0.23689035, 0.2737146 , 0.31053883], dtype=float32),\n",
       " <BarContainer object of 8 artists>)"
      ]
     },
     "execution_count": 350,
     "metadata": {},
     "output_type": "execute_result"
    },
    {
     "data": {
      "image/png": "[encoded data removed]",
      "text/plain": [
       "<Figure size 432x288 with 1 Axes>"
      ]
     },
     "metadata": {
      "needs_background": "light"
     },
     "output_type": "display_data"
    }
   ],
   "source": [
    "#histogram of real fuel consumption\n",
    "plt.hist(y.reshape(-1).numpy(), bins=8)"
   ]
  },
  {
   "cell_type": "code",
   "execution_count": 351,
   "metadata": {},
   "outputs": [
    {
     "data": {
      "text/plain": [
       "(array([0.10275641, 2.28873837, 4.80225639, 1.77094243, 0.33797224,\n",
       "        0.11479817, 0.05378656, 0.00481671]),\n",
       " array([-0.24200058, -0.13647157, -0.03094256,  0.07458645,  0.18011546,\n",
       "         0.28564447,  0.39117348,  0.4967025 ,  0.6022315 ], dtype=float32),\n",
       " <BarContainer object of 8 artists>)"
      ]
     },
     "execution_count": 351,
     "metadata": {},
     "output_type": "execute_result"
    },
    {
     "data": {
      "image/png": "[encoded data removed]",
      "text/plain": [
       "<Figure size 432x288 with 1 Axes>"
      ]
     },
     "metadata": {
      "needs_background": "light"
     },
     "output_type": "display_data"
    }
   ],
   "source": [
    "plt.hist(pred,bins=8, density=True)\n",
    "# plt.hist(y.reshape(-1))"
   ]
  },
  {
   "cell_type": "code",
   "execution_count": 356,
   "metadata": {},
   "outputs": [
    {
     "data": {
      "image/png": "[encoded data removed]",
      "text/plain": [
       "<Figure size 432x288 with 1 Axes>"
      ]
     },
     "metadata": {
      "needs_background": "light"
     },
     "output_type": "display_data"
    }
   ],
   "source": [
    "# plt.scatter(data['Aggressivity'], (1/data['Fuel Economy[mpg]']))\n",
    "# plt.plot(data['Aggressivity'], pred, color='red', linewidth=4.0)\n",
    "# plt.title('Aggressivity vs Fuel Economy')\n",
    "plt.scatter(X.reshape(-1).numpy(), (y.numpy().reshape(-1)), color='red')\n",
    "plt.scatter(X.reshape(-1).numpy(), pred)\n",
    "plt.show()"
   ]
  },
  {
   "cell_type": "code",
   "execution_count": 404,
   "metadata": {},
   "outputs": [],
   "source": [
    "X_ = torch.tensor(np.linspace(0, 10000, 100001).reshape(-1,1), dtype=torch.float32)\n",
    "y_ = X_**2"
   ]
  },
  {
   "cell_type": "code",
   "execution_count": 405,
   "metadata": {},
   "outputs": [
    {
     "data": {
      "text/plain": [
       "tensor([[-7.4079e-02],\n",
       "        [-5.4776e-02],\n",
       "        [-4.0135e-02],\n",
       "        ...,\n",
       "        [-3.1107e+02],\n",
       "        [-3.1107e+02],\n",
       "        [-3.1108e+02]], grad_fn=<AddmmBackward>)"
      ]
     },
     "execution_count": 405,
     "metadata": {},
     "output_type": "execute_result"
    }
   ],
   "source": [
    "model(X_)"
   ]
  },
  {
   "cell_type": "code",
   "execution_count": 406,
   "metadata": {},
   "outputs": [
    {
     "name": "stdout",
     "output_type": "stream",
     "text": [
      "2.0000656589357004e+20\n",
      "1.9919834568231748e+20\n",
      "1.9807608735798605e+20\n",
      "1.9674467553377255e+20\n",
      "1.9524659533897427e+20\n",
      "1.936077248792625e+20\n",
      "1.918464831734258e+20\n",
      "1.899771550765322e+20\n"
     ]
    }
   ],
   "source": [
    "train(X_, y_, 800)"
   ]
  },
  {
   "cell_type": "code",
   "execution_count": 400,
   "metadata": {},
   "outputs": [
    {
     "data": {
      "text/plain": [
       "Parameter containing:\n",
       "tensor([[ 0.5127],\n",
       "        [ 1.0426],\n",
       "        [ 1.5176],\n",
       "        [-0.7165],\n",
       "        [ 0.8035],\n",
       "        [ 1.6705],\n",
       "        [ 0.9710],\n",
       "        [-0.1715],\n",
       "        [-0.9412],\n",
       "        [ 0.8311]], requires_grad=True)"
      ]
     },
     "execution_count": 400,
     "metadata": {},
     "output_type": "execute_result"
    }
   ],
   "source": [
    "model[0].weight"
   ]
  },
  {
   "cell_type": "code",
   "execution_count": 401,
   "metadata": {},
   "outputs": [
    {
     "data": {
      "text/plain": [
       "<matplotlib.collections.PathCollection at 0x2b43a4eedd10>"
      ]
     },
     "execution_count": 401,
     "metadata": {},
     "output_type": "execute_result"
    },
    {
     "data": {
      "image/png": "[encoded data removed]",
      "text/plain": [
       "<Figure size 432x288 with 1 Axes>"
      ]
     },
     "metadata": {
      "needs_background": "light"
     },
     "output_type": "display_data"
    }
   ],
   "source": [
    "pred = model.forward(X_)\n",
    "plt.scatter(X_, y_)\n",
    "plt.scatter(X_, pred.detach().numpy())"
   ]
  },
  {
   "cell_type": "code",
   "execution_count": null,
   "metadata": {},
   "outputs": [],
   "source": []
  },
  {
   "cell_type": "code",
   "execution_count": null,
   "metadata": {},
   "outputs": [],
   "source": []
  },
  {
   "cell_type": "markdown",
   "metadata": {},
   "source": [
    "# Fleet Generation with Normal Distributions:"
   ]
  },
  {
   "cell_type": "markdown",
   "metadata": {},
   "source": [
    "## Fleet Generation Qualms/Issues:\n",
    "\n",
    "So here is the thing with fleet generation. We cant actually simulate any of the fuel economy data because that is scientifically unsound. It doesn't make sense for us to say: Here is the rpm/MAF etc across a trip and then get the fuel consumption from those numbers. So, we need to reframe the problem. Given a trip characteristics (vehicle weight, average speed, speed variance, displacement, and distance traveled) we will search for an equivalent trip in our Ann Arbor data and use that as a trip in our new dataset."
   ]
  },
  {
   "cell_type": "code",
   "execution_count": 61,
   "metadata": {},
   "outputs": [],
   "source": [
    "data['score'] = 0"
   ]
  },
  {
   "cell_type": "code",
   "execution_count": 79,
   "metadata": {},
   "outputs": [
    {
     "data": {
      "text/plain": [
       "8018     False\n",
       "4087     False\n",
       "11373    False\n",
       "4085     False\n",
       "4083     False\n",
       "         ...  \n",
       "17020     True\n",
       "2751      True\n",
       "6221      True\n",
       "1272      True\n",
       "10029     True\n",
       "Name: Fuel Economy[mpg], Length: 17545, dtype: bool"
      ]
     },
     "execution_count": 79,
     "metadata": {},
     "output_type": "execute_result"
    }
   ],
   "source": [
    "data.sort_values(by=['Fuel Consumed[L]'])['Fuel Economy[mpg]']!=float('inf')"
   ]
  },
  {
   "cell_type": "code",
   "execution_count": null,
   "metadata": {},
   "outputs": [],
   "source": []
  },
  {
   "cell_type": "code",
   "execution_count": 101,
   "metadata": {},
   "outputs": [],
   "source": [
    "def search(data, trip_char:dict):\n",
    "    data['score'] = 0\n",
    "    for k,v in trip_char.items():\n",
    "        #we'll use squared error divided by the mean value of the column for our loss:\n",
    "        # let T be target column and V be the value we want to closely match:\n",
    "        # loss = sqrt(((T-V)/T.mean())**2)\n",
    "        data['score'] += (((data[k] - v)/data[k].mean())**2)**(1/2)\n",
    "        \n",
    "    return data.sort_values(by=['score'], ascending=True).drop('score', axis=1)"
   ]
  },
  {
   "cell_type": "code",
   "execution_count": 92,
   "metadata": {},
   "outputs": [
    {
     "data": {
      "text/html": [
       "<div>\n",
       "<style scoped>\n",
       "    .dataframe tbody tr th:only-of-type {\n",
       "        vertical-align: middle;\n",
       "    }\n",
       "\n",
       "    .dataframe tbody tr th {\n",
       "        vertical-align: top;\n",
       "    }\n",
       "\n",
       "    .dataframe thead th {\n",
       "        text-align: right;\n",
       "    }\n",
       "</style>\n",
       "<table border=\"1\" class=\"dataframe\">\n",
       "  <thead>\n",
       "    <tr style=\"text-align: right;\">\n",
       "      <th></th>\n",
       "      <th>Unnamed: 0</th>\n",
       "      <th>Unnamed: 0.1</th>\n",
       "      <th>Unnamed: 0.1.1</th>\n",
       "      <th>TripId</th>\n",
       "      <th>VehId</th>\n",
       "      <th>Aggressivity</th>\n",
       "      <th>Aggressiveness</th>\n",
       "      <th>Fuel Consumed[L]</th>\n",
       "      <th>Distance[km]</th>\n",
       "      <th>Weight</th>\n",
       "      <th>Displacement</th>\n",
       "      <th>Fuel Economy[mpg]</th>\n",
       "      <th>score</th>\n",
       "    </tr>\n",
       "  </thead>\n",
       "  <tbody>\n",
       "    <tr>\n",
       "      <th>1667</th>\n",
       "      <td>1667</td>\n",
       "      <td>1667</td>\n",
       "      <td>1667</td>\n",
       "      <td>1667</td>\n",
       "      <td>562</td>\n",
       "      <td>263.493072</td>\n",
       "      <td>147058.005453</td>\n",
       "      <td>0.259039</td>\n",
       "      <td>2.221056</td>\n",
       "      <td>3000.0</td>\n",
       "      <td>2.4</td>\n",
       "      <td>20.167774</td>\n",
       "      <td>0.000199</td>\n",
       "    </tr>\n",
       "    <tr>\n",
       "      <th>1667</th>\n",
       "      <td>1667</td>\n",
       "      <td>1667</td>\n",
       "      <td>1667</td>\n",
       "      <td>1667</td>\n",
       "      <td>562</td>\n",
       "      <td>263.493072</td>\n",
       "      <td>147058.005453</td>\n",
       "      <td>0.259039</td>\n",
       "      <td>2.221056</td>\n",
       "      <td>3000.0</td>\n",
       "      <td>2.4</td>\n",
       "      <td>20.167774</td>\n",
       "      <td>0.000199</td>\n",
       "    </tr>\n",
       "  </tbody>\n",
       "</table>\n",
       "</div>"
      ],
      "text/plain": [
       "      Unnamed: 0  Unnamed: 0.1  Unnamed: 0.1.1  TripId  VehId  Aggressivity  \\\n",
       "1667        1667          1667            1667    1667    562    263.493072   \n",
       "1667        1667          1667            1667    1667    562    263.493072   \n",
       "\n",
       "      Aggressiveness  Fuel Consumed[L]  Distance[km]  Weight  Displacement  \\\n",
       "1667   147058.005453          0.259039      2.221056  3000.0           2.4   \n",
       "1667   147058.005453          0.259039      2.221056  3000.0           2.4   \n",
       "\n",
       "      Fuel Economy[mpg]     score  \n",
       "1667          20.167774  0.000199  \n",
       "1667          20.167774  0.000199  "
      ]
     },
     "execution_count": 92,
     "metadata": {},
     "output_type": "execute_result"
    }
   ],
   "source": [
    "pd.concat([search(data, \n",
    "       {\n",
    "           'Distance[km]':2.22, \n",
    "           'Displacement':2.4,\n",
    "           'Weight':3000\n",
    "       }\n",
    "      ).iloc[:1],\n",
    "search(data, \n",
    "       {\n",
    "           'Distance[km]':2.22, \n",
    "           'Displacement':2.4,\n",
    "           'Weight':3000\n",
    "       }\n",
    "      ).iloc[:1]\n",
    "], axis=0)"
   ]
  },
  {
   "cell_type": "code",
   "execution_count": null,
   "metadata": {},
   "outputs": [],
   "source": [
    "def fleet_creation(data, fleet_char:dict):\n",
    "    \"\"\"\n",
    "    data is where to perform searching\n",
    "    fleet_char: dictionary with the following characteristics.\n",
    "        size: []\n",
    "    \"\"\""
   ]
  },
  {
   "cell_type": "code",
   "execution_count": 82,
   "metadata": {},
   "outputs": [
    {
     "data": {
      "text/plain": [
       "array([ 8.6203924 , 14.80248024, 10.46852257,  7.81959355,  8.48747206])"
      ]
     },
     "execution_count": 82,
     "metadata": {},
     "output_type": "execute_result"
    }
   ],
   "source": [
    "np.random.normal(10, 3, size = 5)"
   ]
  },
  {
   "cell_type": "code",
   "execution_count": 93,
   "metadata": {},
   "outputs": [
    {
     "data": {
      "text/plain": [
       "array([9, 7, 3, 3, 3, 7, 7, 7, 2, 9, 4, 7, 0, 2, 0, 3, 3, 6, 1, 5, 1, 7,\n",
       "       2, 5, 3, 6, 6, 0, 3, 0, 5, 7, 9, 8, 4, 9, 8, 9, 9, 1, 9, 4, 1, 4,\n",
       "       3, 9, 5, 2, 1, 0])"
      ]
     },
     "execution_count": 93,
     "metadata": {},
     "output_type": "execute_result"
    }
   ],
   "source": [
    "np.random.randint(0, 10, 50)"
   ]
  },
  {
   "cell_type": "code",
   "execution_count": 120,
   "metadata": {},
   "outputs": [],
   "source": [
    "def generate_fleet(data, fleet_dynamics = None):\n",
    "    \"\"\"\n",
    "    fleet_dynamics is a dict of fleet characteristics.\n",
    "    keys marked as (DIST) are distributions and are a tuple \n",
    "    default_keys:\n",
    "        size: int [1, ] the number of trips to simulate\n",
    "        num_vehicles: int [1, size] the number of vehicles to create (these vehicles will then be selected to make trips given size)\n",
    "        Chars: A dictionary with the following key/values:\n",
    "            NOT IN USE -- percent_AV: scalar [0,1] -> the number of vehicles that are AVs (defaults at 1 for 100%. ONLY these vehicles will have changed aggressivness values)\n",
    "            NOT IN USE -- OAT: (DIST) Outside air temperature.\n",
    "            NOT IN USE -- Average Speed: (DIST) Average Vehicle Speed measured in KM/H\n",
    "            NOT IN USE -- Variance Speed: (DIST) Variance of Vehicle Speed measured in KM/H\n",
    "            Vehicle Weight: (DIST) Weight of the vehicle in Kilograms\n",
    "            Vehicle Displacement: (DIST) the displacement of the vehicle engine\n",
    "            Distance: (DIST) the distance travelled over the trip\n",
    "        \n",
    "    \"\"\"\n",
    "    # first thing to do is generate our vehicles to perform search over:\n",
    "    vehicles = {k:np.random.normal(v[0], v[1], size=fleet_dynamics['num_vehicles']) for k,v in fleet_dynamics['Chars'].items()}\n",
    "#     print(vehicles)\n",
    "    vehicles = [{k:v[i] for k,v in vehicles.items()} for i in range(fleet_dynamics['num_vehicles'])]\n",
    "#     print(vehicles)\n",
    "    # vehicles is a list of dictionaries with k:v as search term and search value.\n",
    "    vehicle_mask = np.random.randint(0, fleet_dynamics['num_vehicles'], fleet_dynamics['size'])\n",
    "    \n",
    "    ret_list = []\n",
    "    for i in vehicle_mask:\n",
    "        ret_list.append(search(data, vehicles[i]).iloc[:1])\n",
    "        \n",
    "    return pd.concat(ret_list)\n",
    "    \n",
    "    "
   ]
  },
  {
   "cell_type": "code",
   "execution_count": 122,
   "metadata": {},
   "outputs": [
    {
     "data": {
      "text/html": [
       "<div>\n",
       "<style scoped>\n",
       "    .dataframe tbody tr th:only-of-type {\n",
       "        vertical-align: middle;\n",
       "    }\n",
       "\n",
       "    .dataframe tbody tr th {\n",
       "        vertical-align: top;\n",
       "    }\n",
       "\n",
       "    .dataframe thead th {\n",
       "        text-align: right;\n",
       "    }\n",
       "</style>\n",
       "<table border=\"1\" class=\"dataframe\">\n",
       "  <thead>\n",
       "    <tr style=\"text-align: right;\">\n",
       "      <th></th>\n",
       "      <th>Unnamed: 0</th>\n",
       "      <th>Unnamed: 0.1</th>\n",
       "      <th>Unnamed: 0.1.1</th>\n",
       "      <th>TripId</th>\n",
       "      <th>VehId</th>\n",
       "      <th>Aggressivity</th>\n",
       "      <th>Aggressiveness</th>\n",
       "      <th>Fuel Consumed[L]</th>\n",
       "      <th>Distance[km]</th>\n",
       "      <th>Weight</th>\n",
       "      <th>Displacement</th>\n",
       "      <th>Fuel Economy[mpg]</th>\n",
       "    </tr>\n",
       "  </thead>\n",
       "  <tbody>\n",
       "    <tr>\n",
       "      <th>17062</th>\n",
       "      <td>17062</td>\n",
       "      <td>17062</td>\n",
       "      <td>17062</td>\n",
       "      <td>17062</td>\n",
       "      <td>157</td>\n",
       "      <td>356.883571</td>\n",
       "      <td>249558.105575</td>\n",
       "      <td>3.387445</td>\n",
       "      <td>16.092833</td>\n",
       "      <td>3500.0</td>\n",
       "      <td>3.5</td>\n",
       "      <td>11.174409</td>\n",
       "    </tr>\n",
       "  </tbody>\n",
       "</table>\n",
       "</div>"
      ],
      "text/plain": [
       "       Unnamed: 0  Unnamed: 0.1  Unnamed: 0.1.1  TripId  VehId  Aggressivity  \\\n",
       "17062       17062         17062           17062   17062    157    356.883571   \n",
       "\n",
       "       Aggressiveness  Fuel Consumed[L]  Distance[km]  Weight  Displacement  \\\n",
       "17062   249558.105575          3.387445     16.092833  3500.0           3.5   \n",
       "\n",
       "       Fuel Economy[mpg]  \n",
       "17062          11.174409  "
      ]
     },
     "execution_count": 122,
     "metadata": {},
     "output_type": "execute_result"
    }
   ],
   "source": [
    "generate_fleet(data, {'size':1, 'num_vehicles':1, \n",
    "                      'Chars':{\n",
    "                               'Distance[km]':(15, 4),\n",
    "                               'Displacement':(2, 1),\n",
    "                               'Weight':(3000, 500)\n",
    "                              }\n",
    "                     })"
   ]
  },
  {
   "cell_type": "markdown",
   "metadata": {},
   "source": [
    "## GENERATION Pt 2:\n",
    "\n",
    "List of all the variables we're going to have in our regression (at least somewhat comprehensive)\n",
    "\n",
    "```\n",
    "Air temperature,\n",
    "Precipitation,\n",
    "Weight,\n",
    "Average Speed,\n",
    "Speed Variance,\n",
    "Displacement,\n",
    "Distance[km],\n",
    "Vehicle Type,\n",
    "```"
   ]
  },
  {
   "cell_type": "code",
   "execution_count": 197,
   "metadata": {},
   "outputs": [],
   "source": [
    "def generate_trip_data(**kwargs):\n",
    "    \"\"\"\n",
    "    kwargs:\n",
    "        size = # of trips\n",
    "        num_vehicles = # of vehicles\n",
    "        prop_ICE = proportion of ICE vehicles\n",
    "        prop_HEV = proportion of HEV\n",
    "        prop_PHEV = prop of PHEV\n",
    "        trips: DICT with trip characteristics as tuples\n",
    "        cars: DICT with vehicle characteristics as tuples\n",
    "    \n",
    "    \"\"\"\n",
    "    size = kwargs['size']\n",
    "    num_vehicles = kwargs['num_vehicles']\n",
    "    \n",
    "    #TODO: figure out how to deal with these\n",
    "    # PRESENTLY Vehicle Type DEFAULTS TO ICE\n",
    "#     prop_ICE = kwargs['prop_ICE']\n",
    "#     prop_HEV = kwargs['prop_HEV']\n",
    "#     prop_PHEV =kwargs['prop_PHEV']\n",
    "    \n",
    "    #DEFAULT TRIP AND CARS\n",
    "    trips = {\n",
    "        'Air Temp (units)':(0,0),\n",
    "        'Precipitation (units)':(0,0),\n",
    "        'Average Speed (units)':(0,0),\n",
    "        'Speed Variance (units)':(0,0),\n",
    "        'Distance (units)':(0,0)\n",
    "            }\n",
    "    \n",
    "    cars = {\n",
    "        'Weight (units)':(0,0),\n",
    "        'Displacement (units)':(0,0),\n",
    "            }\n",
    "    #OVERWRITING DEAFAULTS\n",
    "    \n",
    "    for k,v in kwargs['trips'].items():\n",
    "        trips[k] = v\n",
    "    for k,v in kwargs['cars'].items():\n",
    "        cars[k] = v\n",
    "    \n",
    "    car_keys = cars.keys()\n",
    "    trip_keys = trips.keys()\n",
    "    \n",
    "    data = {k:[] for k in trips.keys()}\n",
    "    for k in cars.keys():\n",
    "        data[k] = []\n",
    "    data['Vehicle Type'] = []\n",
    "    \n",
    "    \n",
    "    vehicles = {k:np.random.normal(v[0], v[1], size=num_vehicles) for k,v in cars.items()}\n",
    "    vehicles = [{k:v[i] for k,v in vehicles.items()} for i in range(num_vehicles)]\n",
    "    vehicle_mask = np.random.randint(0, num_vehicles, size)\n",
    "    \n",
    "    trips = {k:np.random.normal(v[0], v[1], size) for k,v in trips.items()}\n",
    "    trips = [{k:v[i] for k,v in trips.items()} for i in range(size)]\n",
    "    \n",
    "    # data has all the keys we just need to append for each value:\n",
    "    for i, veh in enumerate(vehicle_mask):\n",
    "        for k in trip_keys:\n",
    "            data[k].append(trips[i][k])\n",
    "        for k in car_keys:\n",
    "            data[k].append(vehicles[veh][k])\n",
    "            \n",
    "        data['Vehicle Type'].append('ICE')\n",
    "            \n",
    "    return pd.DataFrame(data)\n"
   ]
  },
  {
   "cell_type": "code",
   "execution_count": 198,
   "metadata": {},
   "outputs": [],
   "source": [
    "args = {'size':10, 'num_vehicles':5,\n",
    "        'trips':{'OAT':(72, 20), 'Distance':(10,1)},\n",
    "        'cars':{'Displacement':(3,1), 'Weight':(3000,500)}\n",
    "       }\n",
    "\n",
    "gen = generate_trip_data(**args)\n"
   ]
  },
  {
   "cell_type": "code",
   "execution_count": 199,
   "metadata": {},
   "outputs": [
    {
     "data": {
      "text/html": [
       "<div>\n",
       "<style scoped>\n",
       "    .dataframe tbody tr th:only-of-type {\n",
       "        vertical-align: middle;\n",
       "    }\n",
       "\n",
       "    .dataframe tbody tr th {\n",
       "        vertical-align: top;\n",
       "    }\n",
       "\n",
       "    .dataframe thead th {\n",
       "        text-align: right;\n",
       "    }\n",
       "</style>\n",
       "<table border=\"1\" class=\"dataframe\">\n",
       "  <thead>\n",
       "    <tr style=\"text-align: right;\">\n",
       "      <th></th>\n",
       "      <th>Air Temp</th>\n",
       "      <th>Precipitation</th>\n",
       "      <th>Average Speed</th>\n",
       "      <th>Speed Variance</th>\n",
       "      <th>Distance</th>\n",
       "      <th>OAT</th>\n",
       "      <th>Weight</th>\n",
       "      <th>Displacement</th>\n",
       "      <th>Vehicle Type</th>\n",
       "    </tr>\n",
       "  </thead>\n",
       "  <tbody>\n",
       "    <tr>\n",
       "      <th>0</th>\n",
       "      <td>0.0</td>\n",
       "      <td>0.0</td>\n",
       "      <td>0.0</td>\n",
       "      <td>0.0</td>\n",
       "      <td>8.859489</td>\n",
       "      <td>50.735414</td>\n",
       "      <td>2599.295624</td>\n",
       "      <td>2.550561</td>\n",
       "      <td>ICE</td>\n",
       "    </tr>\n",
       "    <tr>\n",
       "      <th>1</th>\n",
       "      <td>0.0</td>\n",
       "      <td>0.0</td>\n",
       "      <td>0.0</td>\n",
       "      <td>0.0</td>\n",
       "      <td>9.106707</td>\n",
       "      <td>104.808715</td>\n",
       "      <td>3099.186723</td>\n",
       "      <td>4.196583</td>\n",
       "      <td>ICE</td>\n",
       "    </tr>\n",
       "    <tr>\n",
       "      <th>2</th>\n",
       "      <td>0.0</td>\n",
       "      <td>0.0</td>\n",
       "      <td>0.0</td>\n",
       "      <td>0.0</td>\n",
       "      <td>10.023986</td>\n",
       "      <td>82.881598</td>\n",
       "      <td>2911.729838</td>\n",
       "      <td>3.638809</td>\n",
       "      <td>ICE</td>\n",
       "    </tr>\n",
       "    <tr>\n",
       "      <th>3</th>\n",
       "      <td>0.0</td>\n",
       "      <td>0.0</td>\n",
       "      <td>0.0</td>\n",
       "      <td>0.0</td>\n",
       "      <td>8.462334</td>\n",
       "      <td>52.835531</td>\n",
       "      <td>3085.211283</td>\n",
       "      <td>3.292021</td>\n",
       "      <td>ICE</td>\n",
       "    </tr>\n",
       "    <tr>\n",
       "      <th>4</th>\n",
       "      <td>0.0</td>\n",
       "      <td>0.0</td>\n",
       "      <td>0.0</td>\n",
       "      <td>0.0</td>\n",
       "      <td>9.429408</td>\n",
       "      <td>58.854848</td>\n",
       "      <td>3099.186723</td>\n",
       "      <td>4.196583</td>\n",
       "      <td>ICE</td>\n",
       "    </tr>\n",
       "    <tr>\n",
       "      <th>5</th>\n",
       "      <td>0.0</td>\n",
       "      <td>0.0</td>\n",
       "      <td>0.0</td>\n",
       "      <td>0.0</td>\n",
       "      <td>11.060453</td>\n",
       "      <td>64.223717</td>\n",
       "      <td>2911.729838</td>\n",
       "      <td>3.638809</td>\n",
       "      <td>ICE</td>\n",
       "    </tr>\n",
       "    <tr>\n",
       "      <th>6</th>\n",
       "      <td>0.0</td>\n",
       "      <td>0.0</td>\n",
       "      <td>0.0</td>\n",
       "      <td>0.0</td>\n",
       "      <td>11.295259</td>\n",
       "      <td>80.083409</td>\n",
       "      <td>3085.211283</td>\n",
       "      <td>3.292021</td>\n",
       "      <td>ICE</td>\n",
       "    </tr>\n",
       "    <tr>\n",
       "      <th>7</th>\n",
       "      <td>0.0</td>\n",
       "      <td>0.0</td>\n",
       "      <td>0.0</td>\n",
       "      <td>0.0</td>\n",
       "      <td>9.204781</td>\n",
       "      <td>93.479671</td>\n",
       "      <td>2911.729838</td>\n",
       "      <td>3.638809</td>\n",
       "      <td>ICE</td>\n",
       "    </tr>\n",
       "    <tr>\n",
       "      <th>8</th>\n",
       "      <td>0.0</td>\n",
       "      <td>0.0</td>\n",
       "      <td>0.0</td>\n",
       "      <td>0.0</td>\n",
       "      <td>9.646972</td>\n",
       "      <td>86.097323</td>\n",
       "      <td>3099.186723</td>\n",
       "      <td>4.196583</td>\n",
       "      <td>ICE</td>\n",
       "    </tr>\n",
       "    <tr>\n",
       "      <th>9</th>\n",
       "      <td>0.0</td>\n",
       "      <td>0.0</td>\n",
       "      <td>0.0</td>\n",
       "      <td>0.0</td>\n",
       "      <td>10.305263</td>\n",
       "      <td>25.511017</td>\n",
       "      <td>3119.727099</td>\n",
       "      <td>4.028697</td>\n",
       "      <td>ICE</td>\n",
       "    </tr>\n",
       "  </tbody>\n",
       "</table>\n",
       "</div>"
      ],
      "text/plain": [
       "   Air Temp  Precipitation  Average Speed  Speed Variance   Distance  \\\n",
       "0       0.0            0.0            0.0             0.0   8.859489   \n",
       "1       0.0            0.0            0.0             0.0   9.106707   \n",
       "2       0.0            0.0            0.0             0.0  10.023986   \n",
       "3       0.0            0.0            0.0             0.0   8.462334   \n",
       "4       0.0            0.0            0.0             0.0   9.429408   \n",
       "5       0.0            0.0            0.0             0.0  11.060453   \n",
       "6       0.0            0.0            0.0             0.0  11.295259   \n",
       "7       0.0            0.0            0.0             0.0   9.204781   \n",
       "8       0.0            0.0            0.0             0.0   9.646972   \n",
       "9       0.0            0.0            0.0             0.0  10.305263   \n",
       "\n",
       "          OAT       Weight  Displacement Vehicle Type  \n",
       "0   50.735414  2599.295624      2.550561          ICE  \n",
       "1  104.808715  3099.186723      4.196583          ICE  \n",
       "2   82.881598  2911.729838      3.638809          ICE  \n",
       "3   52.835531  3085.211283      3.292021          ICE  \n",
       "4   58.854848  3099.186723      4.196583          ICE  \n",
       "5   64.223717  2911.729838      3.638809          ICE  \n",
       "6   80.083409  3085.211283      3.292021          ICE  \n",
       "7   93.479671  2911.729838      3.638809          ICE  \n",
       "8   86.097323  3099.186723      4.196583          ICE  \n",
       "9   25.511017  3119.727099      4.028697          ICE  "
      ]
     },
     "execution_count": 199,
     "metadata": {},
     "output_type": "execute_result"
    }
   ],
   "source": [
    "gen"
   ]
  },
  {
   "cell_type": "markdown",
   "metadata": {},
   "source": [
    "## MANUAL FLEET CREATION:"
   ]
  },
  {
   "cell_type": "code",
   "execution_count": 5,
   "metadata": {},
   "outputs": [],
   "source": [
    "class ManualFleet():\n",
    "    def __init__(self, col_names:list = ['Air Temp', 'Precipitation', 'Average Speed', 'Speed Variance', 'Distance', 'Weight', 'Displacement', 'Vehicle Type']):\n",
    "        # set default data to nothing\n",
    "        self.data = pd.DataFrame({l:[] for l in col_names})\n",
    "        \n",
    "    def reset(self):\n",
    "        self.data = pd.DataFrame({l:[] for l in self.data.columns}).reset_index(drop=True)\n",
    "    \n",
    "    def update(self, data:dict):\n",
    "        \"\"\"\n",
    "        Data has:\n",
    "        'Air Temp'\n",
    "        'Precipitation'\n",
    "        'Average Speed'\n",
    "        'Speed Variance'\n",
    "        'Distance'\n",
    "        'Weight'\n",
    "        'Displacement'\n",
    "        'Vehicle Type'\n",
    "        \"\"\"\n",
    "        self.data = pd.concat([self.data, pd.DataFrame(data)])\n",
    "        return self.data\n",
    "    def show(self):\n",
    "        return self.data"
   ]
  },
  {
   "cell_type": "code",
   "execution_count": 6,
   "metadata": {},
   "outputs": [],
   "source": [
    "m = ManualFleet()"
   ]
  },
  {
   "cell_type": "code",
   "execution_count": 7,
   "metadata": {},
   "outputs": [
    {
     "data": {
      "text/html": [
       "<div>\n",
       "<style scoped>\n",
       "    .dataframe tbody tr th:only-of-type {\n",
       "        vertical-align: middle;\n",
       "    }\n",
       "\n",
       "    .dataframe tbody tr th {\n",
       "        vertical-align: top;\n",
       "    }\n",
       "\n",
       "    .dataframe thead th {\n",
       "        text-align: right;\n",
       "    }\n",
       "</style>\n",
       "<table border=\"1\" class=\"dataframe\">\n",
       "  <thead>\n",
       "    <tr style=\"text-align: right;\">\n",
       "      <th></th>\n",
       "      <th>Air Temp</th>\n",
       "      <th>Precipitation</th>\n",
       "      <th>Average Speed</th>\n",
       "      <th>Speed Variance</th>\n",
       "      <th>Distance</th>\n",
       "      <th>Weight</th>\n",
       "      <th>Displacement</th>\n",
       "      <th>Vehicle Type</th>\n",
       "    </tr>\n",
       "  </thead>\n",
       "  <tbody>\n",
       "  </tbody>\n",
       "</table>\n",
       "</div>"
      ],
      "text/plain": [
       "Empty DataFrame\n",
       "Columns: [Air Temp, Precipitation, Average Speed, Speed Variance, Distance, Weight, Displacement, Vehicle Type]\n",
       "Index: []"
      ]
     },
     "execution_count": 7,
     "metadata": {},
     "output_type": "execute_result"
    }
   ],
   "source": [
    "m.show()"
   ]
  },
  {
   "cell_type": "code",
   "execution_count": 8,
   "metadata": {},
   "outputs": [
    {
     "data": {
      "text/html": [
       "<div>\n",
       "<style scoped>\n",
       "    .dataframe tbody tr th:only-of-type {\n",
       "        vertical-align: middle;\n",
       "    }\n",
       "\n",
       "    .dataframe tbody tr th {\n",
       "        vertical-align: top;\n",
       "    }\n",
       "\n",
       "    .dataframe thead th {\n",
       "        text-align: right;\n",
       "    }\n",
       "</style>\n",
       "<table border=\"1\" class=\"dataframe\">\n",
       "  <thead>\n",
       "    <tr style=\"text-align: right;\">\n",
       "      <th></th>\n",
       "      <th>Air Temp</th>\n",
       "      <th>Precipitation</th>\n",
       "      <th>Average Speed</th>\n",
       "      <th>Speed Variance</th>\n",
       "      <th>Distance</th>\n",
       "      <th>Weight</th>\n",
       "      <th>Displacement</th>\n",
       "      <th>Vehicle Type</th>\n",
       "    </tr>\n",
       "  </thead>\n",
       "  <tbody>\n",
       "    <tr>\n",
       "      <th>0</th>\n",
       "      <td>10.0</td>\n",
       "      <td>50.0</td>\n",
       "      <td>3.0</td>\n",
       "      <td>95.0</td>\n",
       "      <td>0.0</td>\n",
       "      <td>3932.0</td>\n",
       "      <td>8.0</td>\n",
       "      <td>ICE</td>\n",
       "    </tr>\n",
       "  </tbody>\n",
       "</table>\n",
       "</div>"
      ],
      "text/plain": [
       "   Air Temp  Precipitation  Average Speed  Speed Variance  Distance  Weight  \\\n",
       "0      10.0           50.0            3.0            95.0       0.0  3932.0   \n",
       "\n",
       "   Displacement Vehicle Type  \n",
       "0           8.0          ICE  "
      ]
     },
     "execution_count": 8,
     "metadata": {},
     "output_type": "execute_result"
    }
   ],
   "source": [
    "m.update({'Air Temp':[10], 'Precipitation':[50], 'Average Speed':[3], 'Speed Variance':[95], 'Distance':[0], 'Weight':[3932], 'Displacement':[8], 'Vehicle Type': 'ICE'})"
   ]
  },
  {
   "cell_type": "code",
   "execution_count": 204,
   "metadata": {},
   "outputs": [
    {
     "data": {
      "text/html": [
       "<div>\n",
       "<style scoped>\n",
       "    .dataframe tbody tr th:only-of-type {\n",
       "        vertical-align: middle;\n",
       "    }\n",
       "\n",
       "    .dataframe tbody tr th {\n",
       "        vertical-align: top;\n",
       "    }\n",
       "\n",
       "    .dataframe thead th {\n",
       "        text-align: right;\n",
       "    }\n",
       "</style>\n",
       "<table border=\"1\" class=\"dataframe\">\n",
       "  <thead>\n",
       "    <tr style=\"text-align: right;\">\n",
       "      <th></th>\n",
       "      <th>Air Temp</th>\n",
       "      <th>Precipitation</th>\n",
       "      <th>Average Speed</th>\n",
       "      <th>Speed Variance</th>\n",
       "      <th>Distance</th>\n",
       "      <th>Weight</th>\n",
       "      <th>Displacement</th>\n",
       "      <th>Vehicle Type</th>\n",
       "    </tr>\n",
       "  </thead>\n",
       "  <tbody>\n",
       "    <tr>\n",
       "      <th>0</th>\n",
       "      <td>10.0</td>\n",
       "      <td>50.0</td>\n",
       "      <td>3.0</td>\n",
       "      <td>95.0</td>\n",
       "      <td>0.0</td>\n",
       "      <td>3932.0</td>\n",
       "      <td>8.0</td>\n",
       "      <td>ICE</td>\n",
       "    </tr>\n",
       "  </tbody>\n",
       "</table>\n",
       "</div>"
      ],
      "text/plain": [
       "   Air Temp  Precipitation  Average Speed  Speed Variance  Distance  Weight  \\\n",
       "0      10.0           50.0            3.0            95.0       0.0  3932.0   \n",
       "\n",
       "   Displacement Vehicle Type  \n",
       "0           8.0          ICE  "
      ]
     },
     "execution_count": 204,
     "metadata": {},
     "output_type": "execute_result"
    }
   ],
   "source": [
    "m.show()"
   ]
  },
  {
   "cell_type": "code",
   "execution_count": 192,
   "metadata": {},
   "outputs": [],
   "source": [
    "m.reset()"
   ]
  },
  {
   "cell_type": "code",
   "execution_count": 193,
   "metadata": {},
   "outputs": [
    {
     "data": {
      "text/html": [
       "<div>\n",
       "<style scoped>\n",
       "    .dataframe tbody tr th:only-of-type {\n",
       "        vertical-align: middle;\n",
       "    }\n",
       "\n",
       "    .dataframe tbody tr th {\n",
       "        vertical-align: top;\n",
       "    }\n",
       "\n",
       "    .dataframe thead th {\n",
       "        text-align: right;\n",
       "    }\n",
       "</style>\n",
       "<table border=\"1\" class=\"dataframe\">\n",
       "  <thead>\n",
       "    <tr style=\"text-align: right;\">\n",
       "      <th></th>\n",
       "      <th>Air Temp</th>\n",
       "      <th>Precipitation</th>\n",
       "      <th>Average Speed</th>\n",
       "      <th>Speed Variance</th>\n",
       "      <th>Distance</th>\n",
       "      <th>Weight</th>\n",
       "      <th>Displacement</th>\n",
       "      <th>Vehicle Type</th>\n",
       "    </tr>\n",
       "  </thead>\n",
       "  <tbody>\n",
       "  </tbody>\n",
       "</table>\n",
       "</div>"
      ],
      "text/plain": [
       "Empty DataFrame\n",
       "Columns: [Air Temp, Precipitation, Average Speed, Speed Variance, Distance, Weight, Displacement, Vehicle Type]\n",
       "Index: []"
      ]
     },
     "execution_count": 193,
     "metadata": {},
     "output_type": "execute_result"
    }
   ],
   "source": [
    "m.show()"
   ]
  },
  {
   "cell_type": "code",
   "execution_count": null,
   "metadata": {},
   "outputs": [],
   "source": []
  }
 ],
 "metadata": {
  "kernelspec": {
   "display_name": "Python 3",
   "language": "python",
   "name": "python3"
  },
  "language_info": {
   "codemirror_mode": {
    "name": "ipython",
    "version": 3
   },
   "file_extension": ".py",
   "mimetype": "text/x-python",
   "name": "python",
   "nbconvert_exporter": "python",
   "pygments_lexer": "ipython3",
   "version": "3.7.6"
  }
 },
 "nbformat": 4,
 "nbformat_minor": 5
}
