{
 "cells": [
  {
   "cell_type": "markdown",
   "id": "double-backup",
   "metadata": {},
   "source": [
    "## Final Modeling"
   ]
  },
  {
   "cell_type": "code",
   "execution_count": 129,
   "id": "rental-observation",
   "metadata": {},
   "outputs": [
    {
     "name": "stdout",
     "output_type": "stream",
     "text": [
      "The autoreload extension is already loaded. To reload it, use:\n",
      "  %reload_ext autoreload\n"
     ]
    }
   ],
   "source": [
    "%load_ext autoreload\n",
    "%autoreload 2"
   ]
  },
  {
   "cell_type": "code",
   "execution_count": 130,
   "id": "postal-principal",
   "metadata": {},
   "outputs": [],
   "source": [
    "import pandas as pd\n",
    "import numpy as np\n",
    "import matplotlib.pyplot as plt"
   ]
  },
  {
   "cell_type": "code",
   "execution_count": 131,
   "id": "framed-surprise",
   "metadata": {},
   "outputs": [],
   "source": [
    "import os\n",
    "import sys\n",
    "HOME_DIR = '/home/aysola/'\n",
    "os.chdir(HOME_DIR)\n",
    "sys.path.append('./NVFEL498/')"
   ]
  },
  {
   "cell_type": "code",
   "execution_count": 132,
   "id": "operational-childhood",
   "metadata": {},
   "outputs": [],
   "source": [
    "from sklearn.linear_model import LinearRegression"
   ]
  },
  {
   "cell_type": "code",
   "execution_count": 133,
   "id": "sustainable-franklin",
   "metadata": {},
   "outputs": [],
   "source": [
    "from Notebooks.utils import *"
   ]
  },
  {
   "cell_type": "code",
   "execution_count": 330,
   "id": "center-willow",
   "metadata": {},
   "outputs": [],
   "source": [
    "ice_data = pd.read_csv('./NVFEL498/all_ICE_trips.csv')\n",
    "hev_data = pd.read_csv('./NVFEL498/all_HEV_trips_vel.csv')\n",
    "hev_500_data = pd.read_csv('./NVFEL498/500_HEV_trips_vel.csv')"
   ]
  },
  {
   "cell_type": "code",
   "execution_count": 331,
   "id": "caring-combining",
   "metadata": {},
   "outputs": [],
   "source": [
    "def nan_check(data):\n",
    "    mask = [~(np.isnan(data.iloc[i,:]).sum()>0) for i in range(len(data))]\n",
    "    data = data.loc[mask]\n",
    "    return data"
   ]
  },
  {
   "cell_type": "code",
   "execution_count": 332,
   "id": "narrow-celtic",
   "metadata": {},
   "outputs": [],
   "source": [
    "ice_data = nan_check(ice_data)"
   ]
  },
  {
   "cell_type": "code",
   "execution_count": 334,
   "id": "indie-wagner",
   "metadata": {},
   "outputs": [],
   "source": [
    "hev_data = nan_check(hev_data)"
   ]
  },
  {
   "cell_type": "code",
   "execution_count": 333,
   "id": "directed-jacksonville",
   "metadata": {},
   "outputs": [],
   "source": [
    "hev_500_data = nan_check(hev_500_data)"
   ]
  },
  {
   "cell_type": "code",
   "execution_count": 335,
   "id": "magnetic-decision",
   "metadata": {},
   "outputs": [
    {
     "data": {
      "text/html": [
       "<div>\n",
       "<style scoped>\n",
       "    .dataframe tbody tr th:only-of-type {\n",
       "        vertical-align: middle;\n",
       "    }\n",
       "\n",
       "    .dataframe tbody tr th {\n",
       "        vertical-align: top;\n",
       "    }\n",
       "\n",
       "    .dataframe thead th {\n",
       "        text-align: right;\n",
       "    }\n",
       "</style>\n",
       "<table border=\"1\" class=\"dataframe\">\n",
       "  <thead>\n",
       "    <tr style=\"text-align: right;\">\n",
       "      <th></th>\n",
       "      <th>TripId</th>\n",
       "      <th>TripId_raw</th>\n",
       "      <th>VehId</th>\n",
       "      <th>Aggressivity</th>\n",
       "      <th>Aggressiveness</th>\n",
       "      <th>Distance[km]</th>\n",
       "      <th>Fuel Consumed[L]</th>\n",
       "      <th>Fuel Rate[gpm]</th>\n",
       "      <th>Weight</th>\n",
       "      <th>Displacement</th>\n",
       "      <th>SpeedAverage</th>\n",
       "      <th>SpeedVariance</th>\n",
       "      <th>Air Temperature[F]</th>\n",
       "      <th>Precipitation Level[mm]</th>\n",
       "    </tr>\n",
       "  </thead>\n",
       "  <tbody>\n",
       "    <tr>\n",
       "      <th>0</th>\n",
       "      <td>0</td>\n",
       "      <td>2265</td>\n",
       "      <td>123</td>\n",
       "      <td>475.645508</td>\n",
       "      <td>5748.696207</td>\n",
       "      <td>9.225222</td>\n",
       "      <td>0.895646</td>\n",
       "      <td>0.097087</td>\n",
       "      <td>2500.0</td>\n",
       "      <td>1.8</td>\n",
       "      <td>46.423729</td>\n",
       "      <td>147.494133</td>\n",
       "      <td>6.40</td>\n",
       "      <td>0.0</td>\n",
       "    </tr>\n",
       "    <tr>\n",
       "      <th>1</th>\n",
       "      <td>1</td>\n",
       "      <td>1239</td>\n",
       "      <td>135</td>\n",
       "      <td>269.540959</td>\n",
       "      <td>6372.966896</td>\n",
       "      <td>2.223611</td>\n",
       "      <td>0.441901</td>\n",
       "      <td>0.198731</td>\n",
       "      <td>3500.0</td>\n",
       "      <td>2.5</td>\n",
       "      <td>40.748170</td>\n",
       "      <td>447.766401</td>\n",
       "      <td>-6.47</td>\n",
       "      <td>0.0</td>\n",
       "    </tr>\n",
       "    <tr>\n",
       "      <th>2</th>\n",
       "      <td>4</td>\n",
       "      <td>2263</td>\n",
       "      <td>575</td>\n",
       "      <td>266.112770</td>\n",
       "      <td>5665.167276</td>\n",
       "      <td>6.323556</td>\n",
       "      <td>1.008958</td>\n",
       "      <td>0.159556</td>\n",
       "      <td>4000.0</td>\n",
       "      <td>2.4</td>\n",
       "      <td>32.929095</td>\n",
       "      <td>247.070941</td>\n",
       "      <td>1.52</td>\n",
       "      <td>0.0</td>\n",
       "    </tr>\n",
       "    <tr>\n",
       "      <th>3</th>\n",
       "      <td>7</td>\n",
       "      <td>1681</td>\n",
       "      <td>522</td>\n",
       "      <td>552.585767</td>\n",
       "      <td>5891.611649</td>\n",
       "      <td>2.743222</td>\n",
       "      <td>0.344075</td>\n",
       "      <td>0.125427</td>\n",
       "      <td>3000.0</td>\n",
       "      <td>2.4</td>\n",
       "      <td>33.915000</td>\n",
       "      <td>447.276871</td>\n",
       "      <td>8.92</td>\n",
       "      <td>0.0</td>\n",
       "    </tr>\n",
       "    <tr>\n",
       "      <th>4</th>\n",
       "      <td>8</td>\n",
       "      <td>1375</td>\n",
       "      <td>250</td>\n",
       "      <td>529.245807</td>\n",
       "      <td>5535.915731</td>\n",
       "      <td>4.683417</td>\n",
       "      <td>0.937469</td>\n",
       "      <td>0.200168</td>\n",
       "      <td>5500.0</td>\n",
       "      <td>5.3</td>\n",
       "      <td>33.196768</td>\n",
       "      <td>319.067811</td>\n",
       "      <td>12.23</td>\n",
       "      <td>0.0</td>\n",
       "    </tr>\n",
       "  </tbody>\n",
       "</table>\n",
       "</div>"
      ],
      "text/plain": [
       "   TripId  TripId_raw  VehId  Aggressivity  Aggressiveness  Distance[km]  \\\n",
       "0       0        2265    123    475.645508     5748.696207      9.225222   \n",
       "1       1        1239    135    269.540959     6372.966896      2.223611   \n",
       "2       4        2263    575    266.112770     5665.167276      6.323556   \n",
       "3       7        1681    522    552.585767     5891.611649      2.743222   \n",
       "4       8        1375    250    529.245807     5535.915731      4.683417   \n",
       "\n",
       "   Fuel Consumed[L]  Fuel Rate[gpm]  Weight  Displacement  SpeedAverage  \\\n",
       "0          0.895646        0.097087  2500.0           1.8     46.423729   \n",
       "1          0.441901        0.198731  3500.0           2.5     40.748170   \n",
       "2          1.008958        0.159556  4000.0           2.4     32.929095   \n",
       "3          0.344075        0.125427  3000.0           2.4     33.915000   \n",
       "4          0.937469        0.200168  5500.0           5.3     33.196768   \n",
       "\n",
       "   SpeedVariance  Air Temperature[F]  Precipitation Level[mm]  \n",
       "0     147.494133                6.40                      0.0  \n",
       "1     447.766401               -6.47                      0.0  \n",
       "2     247.070941                1.52                      0.0  \n",
       "3     447.276871                8.92                      0.0  \n",
       "4     319.067811               12.23                      0.0  "
      ]
     },
     "execution_count": 335,
     "metadata": {},
     "output_type": "execute_result"
    }
   ],
   "source": [
    "ice_data.head()"
   ]
  },
  {
   "cell_type": "code",
   "execution_count": 336,
   "id": "smoking-stamp",
   "metadata": {},
   "outputs": [
    {
     "data": {
      "text/html": [
       "<div>\n",
       "<style scoped>\n",
       "    .dataframe tbody tr th:only-of-type {\n",
       "        vertical-align: middle;\n",
       "    }\n",
       "\n",
       "    .dataframe tbody tr th {\n",
       "        vertical-align: top;\n",
       "    }\n",
       "\n",
       "    .dataframe thead th {\n",
       "        text-align: right;\n",
       "    }\n",
       "</style>\n",
       "<table border=\"1\" class=\"dataframe\">\n",
       "  <thead>\n",
       "    <tr style=\"text-align: right;\">\n",
       "      <th></th>\n",
       "      <th>Unnamed: 0</th>\n",
       "      <th>Unnamed: 0.1</th>\n",
       "      <th>TripId</th>\n",
       "      <th>TripId_raw</th>\n",
       "      <th>VehId</th>\n",
       "      <th>Aggressiveness</th>\n",
       "      <th>Distance[km]</th>\n",
       "      <th>Fuel Consumed[L]</th>\n",
       "      <th>Fuel Rate[gpm]</th>\n",
       "      <th>Weight</th>\n",
       "      <th>Displacement</th>\n",
       "      <th>SpeedAverage</th>\n",
       "      <th>SpeedVariance</th>\n",
       "    </tr>\n",
       "  </thead>\n",
       "  <tbody>\n",
       "    <tr>\n",
       "      <th>0</th>\n",
       "      <td>0</td>\n",
       "      <td>0</td>\n",
       "      <td>0</td>\n",
       "      <td>918</td>\n",
       "      <td>392</td>\n",
       "      <td>1.984394e+06</td>\n",
       "      <td>4.012389</td>\n",
       "      <td>0.610966</td>\n",
       "      <td>0.152270</td>\n",
       "      <td>4500</td>\n",
       "      <td>3.5</td>\n",
       "      <td>41.194529</td>\n",
       "      <td>287.675458</td>\n",
       "    </tr>\n",
       "    <tr>\n",
       "      <th>1</th>\n",
       "      <td>1</td>\n",
       "      <td>1</td>\n",
       "      <td>1</td>\n",
       "      <td>1736</td>\n",
       "      <td>450</td>\n",
       "      <td>1.772270e+06</td>\n",
       "      <td>2.972750</td>\n",
       "      <td>0.164877</td>\n",
       "      <td>0.055463</td>\n",
       "      <td>3500</td>\n",
       "      <td>1.8</td>\n",
       "      <td>38.202231</td>\n",
       "      <td>339.225944</td>\n",
       "    </tr>\n",
       "    <tr>\n",
       "      <th>2</th>\n",
       "      <td>2</td>\n",
       "      <td>2</td>\n",
       "      <td>2</td>\n",
       "      <td>854</td>\n",
       "      <td>418</td>\n",
       "      <td>9.148367e+05</td>\n",
       "      <td>2.590917</td>\n",
       "      <td>0.208584</td>\n",
       "      <td>0.080506</td>\n",
       "      <td>3000</td>\n",
       "      <td>1.8</td>\n",
       "      <td>34.942029</td>\n",
       "      <td>642.839653</td>\n",
       "    </tr>\n",
       "    <tr>\n",
       "      <th>3</th>\n",
       "      <td>3</td>\n",
       "      <td>3</td>\n",
       "      <td>3</td>\n",
       "      <td>1240</td>\n",
       "      <td>468</td>\n",
       "      <td>2.523084e+06</td>\n",
       "      <td>5.838583</td>\n",
       "      <td>0.458996</td>\n",
       "      <td>0.078614</td>\n",
       "      <td>3500</td>\n",
       "      <td>1.8</td>\n",
       "      <td>54.502618</td>\n",
       "      <td>294.975059</td>\n",
       "    </tr>\n",
       "    <tr>\n",
       "      <th>4</th>\n",
       "      <td>4</td>\n",
       "      <td>4</td>\n",
       "      <td>4</td>\n",
       "      <td>2320</td>\n",
       "      <td>565</td>\n",
       "      <td>4.192641e+06</td>\n",
       "      <td>11.211139</td>\n",
       "      <td>0.647774</td>\n",
       "      <td>0.057779</td>\n",
       "      <td>2500</td>\n",
       "      <td>1.3</td>\n",
       "      <td>27.558642</td>\n",
       "      <td>203.199029</td>\n",
       "    </tr>\n",
       "  </tbody>\n",
       "</table>\n",
       "</div>"
      ],
      "text/plain": [
       "   Unnamed: 0  Unnamed: 0.1  TripId  TripId_raw  VehId  Aggressiveness  \\\n",
       "0           0             0       0         918    392    1.984394e+06   \n",
       "1           1             1       1        1736    450    1.772270e+06   \n",
       "2           2             2       2         854    418    9.148367e+05   \n",
       "3           3             3       3        1240    468    2.523084e+06   \n",
       "4           4             4       4        2320    565    4.192641e+06   \n",
       "\n",
       "   Distance[km]  Fuel Consumed[L]  Fuel Rate[gpm]  Weight  Displacement  \\\n",
       "0      4.012389          0.610966        0.152270    4500           3.5   \n",
       "1      2.972750          0.164877        0.055463    3500           1.8   \n",
       "2      2.590917          0.208584        0.080506    3000           1.8   \n",
       "3      5.838583          0.458996        0.078614    3500           1.8   \n",
       "4     11.211139          0.647774        0.057779    2500           1.3   \n",
       "\n",
       "   SpeedAverage  SpeedVariance  \n",
       "0     41.194529     287.675458  \n",
       "1     38.202231     339.225944  \n",
       "2     34.942029     642.839653  \n",
       "3     54.502618     294.975059  \n",
       "4     27.558642     203.199029  "
      ]
     },
     "execution_count": 336,
     "metadata": {},
     "output_type": "execute_result"
    }
   ],
   "source": [
    "hev_data.head()"
   ]
  },
  {
   "cell_type": "code",
   "execution_count": 337,
   "id": "absolute-farmer",
   "metadata": {},
   "outputs": [
    {
     "data": {
      "text/html": [
       "<div>\n",
       "<style scoped>\n",
       "    .dataframe tbody tr th:only-of-type {\n",
       "        vertical-align: middle;\n",
       "    }\n",
       "\n",
       "    .dataframe tbody tr th {\n",
       "        vertical-align: top;\n",
       "    }\n",
       "\n",
       "    .dataframe thead th {\n",
       "        text-align: right;\n",
       "    }\n",
       "</style>\n",
       "<table border=\"1\" class=\"dataframe\">\n",
       "  <thead>\n",
       "    <tr style=\"text-align: right;\">\n",
       "      <th></th>\n",
       "      <th>Unnamed: 0</th>\n",
       "      <th>Unnamed: 0.1</th>\n",
       "      <th>TripId</th>\n",
       "      <th>TripId_raw</th>\n",
       "      <th>VehId</th>\n",
       "      <th>Aggressiveness</th>\n",
       "      <th>Distance[km]</th>\n",
       "      <th>Fuel Consumed[L]</th>\n",
       "      <th>Fuel Rate[gpm]</th>\n",
       "      <th>Weight</th>\n",
       "      <th>Displacement</th>\n",
       "      <th>SpeedAverage</th>\n",
       "      <th>SpeedVariance</th>\n",
       "    </tr>\n",
       "  </thead>\n",
       "  <tbody>\n",
       "    <tr>\n",
       "      <th>0</th>\n",
       "      <td>0</td>\n",
       "      <td>0</td>\n",
       "      <td>9</td>\n",
       "      <td>3265</td>\n",
       "      <td>125</td>\n",
       "      <td>5906.293170</td>\n",
       "      <td>1.447778</td>\n",
       "      <td>0.170529</td>\n",
       "      <td>0.117787</td>\n",
       "      <td>3500</td>\n",
       "      <td>2.4</td>\n",
       "      <td>42.135309</td>\n",
       "      <td>327.985539</td>\n",
       "    </tr>\n",
       "    <tr>\n",
       "      <th>1</th>\n",
       "      <td>1</td>\n",
       "      <td>1</td>\n",
       "      <td>13</td>\n",
       "      <td>872</td>\n",
       "      <td>474</td>\n",
       "      <td>6409.282861</td>\n",
       "      <td>2.190417</td>\n",
       "      <td>0.197069</td>\n",
       "      <td>0.089969</td>\n",
       "      <td>3000</td>\n",
       "      <td>1.5</td>\n",
       "      <td>50.044444</td>\n",
       "      <td>130.991649</td>\n",
       "    </tr>\n",
       "    <tr>\n",
       "      <th>2</th>\n",
       "      <td>2</td>\n",
       "      <td>2</td>\n",
       "      <td>34</td>\n",
       "      <td>1869</td>\n",
       "      <td>231</td>\n",
       "      <td>5199.283589</td>\n",
       "      <td>1.969694</td>\n",
       "      <td>0.167685</td>\n",
       "      <td>0.085132</td>\n",
       "      <td>3000</td>\n",
       "      <td>1.8</td>\n",
       "      <td>50.975376</td>\n",
       "      <td>333.922681</td>\n",
       "    </tr>\n",
       "    <tr>\n",
       "      <th>3</th>\n",
       "      <td>3</td>\n",
       "      <td>3</td>\n",
       "      <td>55</td>\n",
       "      <td>1045</td>\n",
       "      <td>375</td>\n",
       "      <td>4243.048928</td>\n",
       "      <td>11.787750</td>\n",
       "      <td>1.873659</td>\n",
       "      <td>0.158950</td>\n",
       "      <td>4500</td>\n",
       "      <td>3.3</td>\n",
       "      <td>29.327434</td>\n",
       "      <td>191.811473</td>\n",
       "    </tr>\n",
       "    <tr>\n",
       "      <th>4</th>\n",
       "      <td>4</td>\n",
       "      <td>4</td>\n",
       "      <td>61</td>\n",
       "      <td>767</td>\n",
       "      <td>458</td>\n",
       "      <td>4326.967848</td>\n",
       "      <td>1.825528</td>\n",
       "      <td>0.192831</td>\n",
       "      <td>0.105630</td>\n",
       "      <td>3500</td>\n",
       "      <td>2.4</td>\n",
       "      <td>25.423256</td>\n",
       "      <td>348.803184</td>\n",
       "    </tr>\n",
       "  </tbody>\n",
       "</table>\n",
       "</div>"
      ],
      "text/plain": [
       "   Unnamed: 0  Unnamed: 0.1  TripId  TripId_raw  VehId  Aggressiveness  \\\n",
       "0           0             0       9        3265    125     5906.293170   \n",
       "1           1             1      13         872    474     6409.282861   \n",
       "2           2             2      34        1869    231     5199.283589   \n",
       "3           3             3      55        1045    375     4243.048928   \n",
       "4           4             4      61         767    458     4326.967848   \n",
       "\n",
       "   Distance[km]  Fuel Consumed[L]  Fuel Rate[gpm]  Weight  Displacement  \\\n",
       "0      1.447778          0.170529        0.117787    3500           2.4   \n",
       "1      2.190417          0.197069        0.089969    3000           1.5   \n",
       "2      1.969694          0.167685        0.085132    3000           1.8   \n",
       "3     11.787750          1.873659        0.158950    4500           3.3   \n",
       "4      1.825528          0.192831        0.105630    3500           2.4   \n",
       "\n",
       "   SpeedAverage  SpeedVariance  \n",
       "0     42.135309     327.985539  \n",
       "1     50.044444     130.991649  \n",
       "2     50.975376     333.922681  \n",
       "3     29.327434     191.811473  \n",
       "4     25.423256     348.803184  "
      ]
     },
     "execution_count": 337,
     "metadata": {},
     "output_type": "execute_result"
    }
   ],
   "source": [
    "hev_500_data.head()"
   ]
  },
  {
   "cell_type": "code",
   "execution_count": 338,
   "id": "armed-lunch",
   "metadata": {},
   "outputs": [
    {
     "data": {
      "text/plain": [
       "(11529, 14)"
      ]
     },
     "execution_count": 338,
     "metadata": {},
     "output_type": "execute_result"
    }
   ],
   "source": [
    "ice_data.shape"
   ]
  },
  {
   "cell_type": "code",
   "execution_count": 339,
   "id": "ready-clock",
   "metadata": {},
   "outputs": [
    {
     "data": {
      "text/plain": [
       "(9192, 13)"
      ]
     },
     "execution_count": 339,
     "metadata": {},
     "output_type": "execute_result"
    }
   ],
   "source": [
    "hev_data.shape"
   ]
  },
  {
   "cell_type": "code",
   "execution_count": 340,
   "id": "weekly-development",
   "metadata": {},
   "outputs": [
    {
     "data": {
      "text/plain": [
       "(501, 13)"
      ]
     },
     "execution_count": 340,
     "metadata": {},
     "output_type": "execute_result"
    }
   ],
   "source": [
    "hev_500_data.shape"
   ]
  },
  {
   "cell_type": "code",
   "execution_count": 341,
   "id": "logical-academy",
   "metadata": {},
   "outputs": [],
   "source": [
    "cols = [\"Aggressiveness\", \"Distance[km]\", \"Weight\", \"Displacement\", \"SpeedAverage\", \"SpeedVariance\"]\n",
    "features = cols.copy()\n",
    "for i in range(len(cols)):\n",
    "    for j in range(i, len(cols)):\n",
    "        features.append(f\"{cols[i]}*{cols[j]}\")\n",
    "        features.append(f\"{cols[i]}/{cols[j]}\")\n"
   ]
  },
  {
   "cell_type": "code",
   "execution_count": 342,
   "id": "cheap-costume",
   "metadata": {},
   "outputs": [],
   "source": [
    "# features = [\n",
    "#     \"Weight\",\n",
    "#     \"Displacement\",\n",
    "#     \"Aggressiveness\",\n",
    "#     \"SpeedAverage\",\n",
    "#     \"Aggressiveness*SpeedAverage\",\n",
    "#     \"Aggressiveness*Weight\",\n",
    "#     \"Aggressiveness*Displacement\",\n",
    "#     \"Displacement/Weight\"\n",
    "# ]"
   ]
  },
  {
   "cell_type": "code",
   "execution_count": 343,
   "id": "killing-validation",
   "metadata": {},
   "outputs": [],
   "source": [
    "def transform_data(data, features, out = 'Fuel Rate[gpm]'):\n",
    "    d = pd.DataFrame(columns = features)\n",
    "    \n",
    "    for f in features:\n",
    "        if '*' in f:\n",
    "            f1, f2 = f.split('*')\n",
    "            d[f] = data[f1] * data[f2]\n",
    "        elif '/' in f:\n",
    "            f1, f2 = f.split('/')\n",
    "            d[f] = data[f1] / data[f2]\n",
    "        else:\n",
    "            d[f] = data[f]\n",
    "            \n",
    "    return np.array(d), np.array(data[out]), {f:i for i,f in enumerate(features)}"
   ]
  },
  {
   "cell_type": "code",
   "execution_count": 362,
   "id": "copyrighted-health",
   "metadata": {},
   "outputs": [],
   "source": [
    "X, y, features = transform_data(hev_data, features)"
   ]
  },
  {
   "cell_type": "code",
   "execution_count": 325,
   "id": "adverse-resolution",
   "metadata": {},
   "outputs": [],
   "source": [
    "X[np.isnan(X)] = 0\n",
    "X[X==float('inf')]=0"
   ]
  },
  {
   "cell_type": "code",
   "execution_count": 326,
   "id": "collaborative-registration",
   "metadata": {},
   "outputs": [
    {
     "data": {
      "text/plain": [
       "(9192, 48)"
      ]
     },
     "execution_count": 326,
     "metadata": {},
     "output_type": "execute_result"
    }
   ],
   "source": [
    "X.shape"
   ]
  },
  {
   "cell_type": "code",
   "execution_count": 327,
   "id": "appointed-jamaica",
   "metadata": {},
   "outputs": [],
   "source": [
    "model = LinearRegression().fit(X,y)"
   ]
  },
  {
   "cell_type": "code",
   "execution_count": 328,
   "id": "harmful-share",
   "metadata": {
    "collapsed": true,
    "jupyter": {
     "outputs_hidden": true
    }
   },
   "outputs": [
    {
     "name": "stdout",
     "output_type": "stream",
     "text": [
      "Impact = MEAN * Coef\n",
      "Aggressiveness: -0.014312132163760033\n",
      "Distance[km]: 0.023697949552599788\n",
      "Weight: -0.7860686841516241\n",
      "Displacement: 0.7555422166304622\n",
      "SpeedAverage: 0.00039945696045193567\n",
      "SpeedVariance: -0.002461181053171982\n",
      "Aggressiveness*Aggressiveness: 0.001921741949679293\n",
      "Aggressiveness/Aggressiveness: 2.095543182132763e-07\n",
      "Aggressiveness*Distance[km]: -0.0008212245757463738\n",
      "Aggressiveness/Distance[km]: 0.012682043822991368\n",
      "Aggressiveness*Weight: 4.644978526810908e-05\n",
      "Aggressiveness/Weight: -0.006664103869558674\n",
      "Aggressiveness*Displacement: 0.000101473449091338\n",
      "Aggressiveness/Displacement: 0.011471243740807992\n",
      "Aggressiveness*SpeedAverage: -5.3277142345735275e-05\n",
      "Aggressiveness/SpeedAverage: 0.0014866350838894033\n",
      "Aggressiveness*SpeedVariance: 0.0007223994587001986\n",
      "Aggressiveness/SpeedVariance: 0.0004737784013450895\n",
      "Distance[km]*Distance[km]: -8.30417161612813e-06\n",
      "Distance[km]/Distance[km]: 2.6077737191876338e-11\n",
      "Distance[km]*Weight: -0.007067933549990914\n",
      "Distance[km]/Weight: 6.623998332726326e-05\n",
      "Distance[km]*Displacement: -0.003982367277417023\n",
      "Distance[km]/Displacement: -0.011225513507321217\n",
      "Distance[km]*SpeedAverage: 0.002195209783616501\n",
      "Distance[km]/SpeedAverage: 9.161365535852651e-05\n",
      "Distance[km]*SpeedVariance: -0.0004560248023417652\n",
      "Distance[km]/SpeedVariance: -0.0004062070018873971\n",
      "Weight*Weight: 0.0468729692876912\n",
      "Weight/Weight: 3.3038242280847285e-14\n",
      "Weight*Displacement: 0.19653803451654323\n",
      "Weight/Displacement: 0.5174235555385894\n",
      "Weight*SpeedAverage: 0.0016472923267857125\n",
      "Weight/SpeedAverage: -0.0032222225441836923\n",
      "Weight*SpeedVariance: 0.008532513329824739\n",
      "Weight/SpeedVariance: 0.002379252922059509\n",
      "Displacement*Displacement: -0.22137619947036546\n",
      "Displacement/Displacement: 0.0\n",
      "Displacement*SpeedAverage: -0.0015108746503727378\n",
      "Displacement/SpeedAverage: 0.0012401989099663276\n",
      "Displacement*SpeedVariance: -0.0038012499611157504\n",
      "Displacement/SpeedVariance: -0.00019403958937425444\n",
      "SpeedAverage*SpeedAverage: 1.9637208923997245e-05\n",
      "SpeedAverage/SpeedAverage: 0.0\n",
      "SpeedAverage*SpeedVariance: -0.0019495301016503085\n",
      "SpeedAverage/SpeedVariance: -0.0017776071392693045\n",
      "SpeedVariance*SpeedVariance: 0.00020439787345298636\n",
      "SpeedVariance/SpeedVariance: -0.008137494652388487\n",
      "========= PERCENTAGES =========\n",
      "Aggressiveness: 0.5377968144004001\n",
      "Distance[km]: 0.8904810011104113\n",
      "Weight: 29.537544050012148\n",
      "Displacement: 28.390472684269177\n",
      "SpeedAverage: 0.015010110189247935\n",
      "SpeedVariance: 0.09248205053682078\n",
      "Aggressiveness*Aggressiveness: 0.0722119308857485\n",
      "Aggressiveness/Aggressiveness: 7.874273622508262e-06\n",
      "Aggressiveness*Distance[km]: 0.030858571992650644\n",
      "Aggressiveness/Distance[km]: 0.47654414381114873\n",
      "Aggressiveness*Weight: 0.001745410555250832\n",
      "Aggressiveness/Weight: 0.25041229293263284\n",
      "Aggressiveness*Displacement: 0.0038129956489449967\n",
      "Aggressiveness/Displacement: 0.43104677000106156\n",
      "Aggressiveness*SpeedAverage: 0.002001957297910087\n",
      "Aggressiveness/SpeedAverage: 0.05586222955067714\n",
      "Aggressiveness*SpeedVariance: 0.02714509083400427\n",
      "Aggressiveness/SpeedVariance: 0.01780283413119098\n",
      "Distance[km]*Distance[km]: 0.0003120399525583091\n",
      "Distance[km]/Distance[km]: 9.799045892039508e-10\n",
      "Distance[km]*Weight: 0.2655867137115795\n",
      "Distance[km]/Weight: 0.0024890527569009584\n",
      "Distance[km]*Displacement: 0.14964258372280206\n",
      "Distance[km]/Displacement: 0.42181313973137463\n",
      "Distance[km]*SpeedAverage: 0.08248783724614438\n",
      "Distance[km]/SpeedAverage: 0.00344250119015445\n",
      "Distance[km]*SpeedVariance: 0.01713571976424109\n",
      "Distance[km]/SpeedVariance: 0.015263751696992938\n",
      "Weight*Weight: 1.7613122402710906\n",
      "Weight/Weight: 1.241454540017353e-12\n",
      "Weight*Displacement: 7.3851699846058665\n",
      "Weight/Displacement: 19.4428570586422\n",
      "Weight*SpeedAverage: 0.06189913253979037\n",
      "Weight/SpeedAverage: 0.12107916554453338\n",
      "Weight*SpeedVariance: 0.3206201867830678\n",
      "Weight/SpeedVariance: 0.08940349540485847\n",
      "Displacement*Displacement: 8.318496049155561\n",
      "Displacement/Displacement: 0.0\n",
      "Displacement*SpeedAverage: 0.05677306250610446\n",
      "Displacement/SpeedAverage: 0.0466020726591386\n",
      "Displacement*SpeedVariance: 0.1428368671024502\n",
      "Displacement/SpeedVariance: 0.007291287687887049\n",
      "SpeedAverage*SpeedAverage: 0.0007378934376935156\n",
      "SpeedAverage/SpeedAverage: 0.0\n",
      "SpeedAverage*SpeedVariance: 0.0732561065150043\n",
      "SpeedAverage/SpeedVariance: 0.06679587959473436\n",
      "SpeedVariance*SpeedVariance: 0.007680513563979916\n",
      "SpeedVariance/SpeedVariance: 0.30577685079908373\n"
     ]
    }
   ],
   "source": [
    "# lets see which value has the highest average impact on our regression:\n",
    "\n",
    "print('Impact = MEAN * Coef')\n",
    "for i, vals in enumerate(zip(features.keys(), model.coef_)):\n",
    "    feature, coef = vals\n",
    "    print(f\"{feature}: {X[:,i].mean()*coef}\")\n",
    "    \n",
    "# we can actually get the relative percentages here:\n",
    "print('========= PERCENTAGES =========')\n",
    "\n",
    "impact = np.array([np.abs(coef * X[:,i].mean()) for i, coef in enumerate(model.coef_)])\n",
    "for feature, i in zip(features.keys(), (impact*100)/impact.sum()):\n",
    "    if i >= 1 print(f\"{feature}: {i}\")"
   ]
  },
  {
   "cell_type": "code",
   "execution_count": 329,
   "id": "baking-parking",
   "metadata": {},
   "outputs": [
    {
     "name": "stdout",
     "output_type": "stream",
     "text": [
      "0.24125288096041575\n"
     ]
    }
   ],
   "source": [
    "# now lets compute r^2:\n",
    "# WOW WE have an almost 0 impact on r^2 -- surprising\n",
    "preds = model.predict(X)\n",
    "r_2 = 1 - (((y - preds)**2).sum())/((y - y.mean())**2).sum()\n",
    "print(r_2)"
   ]
  },
  {
   "cell_type": "code",
   "execution_count": 292,
   "id": "positive-drilling",
   "metadata": {
    "collapsed": true,
    "jupyter": {
     "outputs_hidden": true
    }
   },
   "outputs": [
    {
     "data": {
      "image/png": "[encoded data removed]",
      "text/plain": [
       "<Figure size 432x288 with 1 Axes>"
      ]
     },
     "metadata": {
      "needs_background": "light"
     },
     "output_type": "display_data"
    },
    {
     "data": {
      "image/png": "[encoded data removed]",
      "text/plain": [
       "<Figure size 432x288 with 1 Axes>"
      ]
     },
     "metadata": {
      "needs_background": "light"
     },
     "output_type": "display_data"
    },
    {
     "data": {
      "image/png": "[encoded data removed]",
      "text/plain": [
       "<Figure size 432x288 with 1 Axes>"
      ]
     },
     "metadata": {
      "needs_background": "light"
     },
     "output_type": "display_data"
    },
    {
     "data": {
      "image/png": "[encoded data removed]",
      "text/plain": [
       "<Figure size 432x288 with 1 Axes>"
      ]
     },
     "metadata": {
      "needs_background": "light"
     },
     "output_type": "display_data"
    },
    {
     "data": {
      "image/png": "[encoded data removed]",
      "text/plain": [
       "<Figure size 432x288 with 1 Axes>"
      ]
     },
     "metadata": {
      "needs_background": "light"
     },
     "output_type": "display_data"
    },
    {
     "data": {
      "image/png": "[encoded data removed]",
      "text/plain": [
       "<Figure size 432x288 with 1 Axes>"
      ]
     },
     "metadata": {
      "needs_background": "light"
     },
     "output_type": "display_data"
    },
    {
     "data": {
      "image/png": "[encoded data removed]",
      "text/plain": [
       "<Figure size 432x288 with 1 Axes>"
      ]
     },
     "metadata": {
      "needs_background": "light"
     },
     "output_type": "display_data"
    },
    {
     "data": {
      "image/png": "[encoded data removed]",
      "text/plain": [
       "<Figure size 432x288 with 1 Axes>"
      ]
     },
     "metadata": {
      "needs_background": "light"
     },
     "output_type": "display_data"
    }
   ],
   "source": [
    "#plotting full model values\n",
    "for i, feature in enumerate(features.keys()):\n",
    "    plt.scatter(X[:,i], y)\n",
    "    plt.scatter(X[:,i], preds, color='red')\n",
    "    plt.title(f\"Fuel Rate vs {feature} with predicted values\")\n",
    "    plt.show()"
   ]
  },
  {
   "cell_type": "code",
   "execution_count": 293,
   "id": "automotive-duration",
   "metadata": {},
   "outputs": [],
   "source": [
    "preds = model.predict(X)"
   ]
  },
  {
   "cell_type": "code",
   "execution_count": 294,
   "id": "speaking-secretary",
   "metadata": {},
   "outputs": [
    {
     "data": {
      "text/plain": [
       "<matplotlib.collections.PathCollection at 0x2b6bdc350290>"
      ]
     },
     "execution_count": 294,
     "metadata": {},
     "output_type": "execute_result"
    },
    {
     "data": {
      "image/png": "[encoded data removed]",
      "text/plain": [
       "<Figure size 432x288 with 1 Axes>"
      ]
     },
     "metadata": {
      "needs_background": "light"
     },
     "output_type": "display_data"
    }
   ],
   "source": [
    "plt.scatter(y, preds-y)"
   ]
  },
  {
   "cell_type": "markdown",
   "id": "exterior-personality",
   "metadata": {},
   "source": [
    "# HEV 500 Regression"
   ]
  },
  {
   "cell_type": "code",
   "execution_count": 425,
   "id": "acknowledged-blink",
   "metadata": {},
   "outputs": [],
   "source": [
    "# cols = [\"Aggressiveness\", \"Distance[km]\", \"Weight\", \"Displacement\", \"SpeedAverage\", \"SpeedVariance\"]\n",
    "# features = cols.copy()\n",
    "# for i in range(len(cols)):\n",
    "#     for j in range(i, len(cols)):\n",
    "#         features.append(f\"{cols[i]}*{cols[j]}\")\n",
    "#         features.append(f\"{cols[i]}/{cols[j]}\")\n",
    "\n",
    "features = [\n",
    "    \"Aggressiveness\",\n",
    "    \"Weight\",\n",
    "    \"Displacement\",\n",
    "    \"SpeedAverage\",\n",
    "    \"Aggressiveness*Weight\",\n",
    "    \"Aggressiveness*Displacement\",\n",
    "    \"Weight*Weight\",\n",
    "    \"Displacement/Weight\",\n",
    "]"
   ]
  },
  {
   "cell_type": "code",
   "execution_count": 426,
   "id": "australian-commander",
   "metadata": {},
   "outputs": [],
   "source": [
    "X, y, features = transform_data(hev_500_data, features)"
   ]
  },
  {
   "cell_type": "code",
   "execution_count": 427,
   "id": "acquired-douglas",
   "metadata": {},
   "outputs": [],
   "source": [
    "X[np.isnan(X)] = 0\n",
    "X[X==float('inf')]=0"
   ]
  },
  {
   "cell_type": "code",
   "execution_count": 428,
   "id": "furnished-alabama",
   "metadata": {},
   "outputs": [
    {
     "data": {
      "text/plain": [
       "(501, 8)"
      ]
     },
     "execution_count": 428,
     "metadata": {},
     "output_type": "execute_result"
    }
   ],
   "source": [
    "X.shape"
   ]
  },
  {
   "cell_type": "code",
   "execution_count": 429,
   "id": "based-minnesota",
   "metadata": {},
   "outputs": [],
   "source": [
    "model = LinearRegression().fit(X,y)"
   ]
  },
  {
   "cell_type": "code",
   "execution_count": 430,
   "id": "reduced-faith",
   "metadata": {},
   "outputs": [
    {
     "name": "stdout",
     "output_type": "stream",
     "text": [
      "Impact = MEAN * Coef\n",
      "Aggressiveness: 0.041670319875125636\n",
      "Weight: 0.02826655310167724\n",
      "Displacement: 0.14745868521826314\n",
      "SpeedAverage: 0.0017566845794173662\n",
      "Aggressiveness*Weight: -0.01451272221885481\n",
      "Aggressiveness*Displacement: 0.007789550219374173\n",
      "Weight*Weight: -0.05355550715161292\n",
      "Displacement/Weight: -0.11697178742367138\n",
      "========= PERCENTAGES =========\n",
      "Aggressiveness: 10.114601879284168\n",
      "Weight: 6.861116784797619\n",
      "Displacement: 35.7925232898376\n",
      "Aggressiveness*Weight: 3.522660921928317\n",
      "Aggressiveness*Displacement: 1.890751007522062\n",
      "Weight*Weight: 12.999483443012267\n",
      "Displacement/Weight: 28.392464095408567\n"
     ]
    }
   ],
   "source": [
    "# lets see which value has the highest average impact on our regression:\n",
    "\n",
    "print('Impact = MEAN * Coef')\n",
    "for i, vals in enumerate(zip(features.keys(), model.coef_)):\n",
    "    feature, coef = vals\n",
    "    print(f\"{feature}: {X[:,i].mean()*coef}\")\n",
    "    \n",
    "# we can actually get the relative percentages here:\n",
    "print('========= PERCENTAGES =========')\n",
    "\n",
    "impact = np.array([np.abs(coef * X[:,i].mean()) for i, coef in enumerate(model.coef_)])\n",
    "for feature, i in zip(features.keys(), (impact*100)/impact.sum()):\n",
    "    if i >=1: print(f\"{feature}: {i}\") "
   ]
  },
  {
   "cell_type": "code",
   "execution_count": 431,
   "id": "qualified-survival",
   "metadata": {},
   "outputs": [
    {
     "name": "stdout",
     "output_type": "stream",
     "text": [
      "0.46593219562331234\n"
     ]
    }
   ],
   "source": [
    "# now lets compute r^2:\n",
    "# WOW WE have an almost 0 impact on r^2 -- surprising\n",
    "preds = model.predict(X)\n",
    "r_2 = 1 - (((y - preds)**2).sum())/((y - y.mean())**2).sum()\n",
    "print(r_2)"
   ]
  },
  {
   "cell_type": "code",
   "execution_count": 438,
   "id": "charitable-grocery",
   "metadata": {},
   "outputs": [
    {
     "name": "stdout",
     "output_type": "stream",
     "text": [
      "Aggressiveness : 8.305099904519205e-06\n",
      "Weight : 8.848199377657168e-06\n",
      "Displacement : 0.07919897222807658\n",
      "SpeedAverage : 3.855309790887279e-05\n",
      "Aggressiveness*Weight : -9.092434476952251e-10\n",
      "Aggressiveness*Displacement : 8.42973015372515e-07\n",
      "Weight*Weight : -5.1690620975693444e-09\n",
      "Displacement/Weight : -203.88710307609603\n"
     ]
    }
   ],
   "source": [
    "for f, i in features.items():\n",
    "    print(f\"{f} : {model.coef_[i]}\")"
   ]
  },
  {
   "cell_type": "code",
   "execution_count": 377,
   "id": "latter-drain",
   "metadata": {
    "collapsed": true,
    "jupyter": {
     "outputs_hidden": true
    }
   },
   "outputs": [
    {
     "data": {
      "image/png": "[encoded data removed]",
      "text/plain": [
       "<Figure size 432x288 with 1 Axes>"
      ]
     },
     "metadata": {
      "needs_background": "light"
     },
     "output_type": "display_data"
    },
    {
     "data": {
      "image/png": "[encoded data removed]",
      "text/plain": [
       "<Figure size 432x288 with 1 Axes>"
      ]
     },
     "metadata": {
      "needs_background": "light"
     },
     "output_type": "display_data"
    },
    {
     "data": {
      "image/png": "[encoded data removed]",
      "text/plain": [
       "<Figure size 432x288 with 1 Axes>"
      ]
     },
     "metadata": {
      "needs_background": "light"
     },
     "output_type": "display_data"
    },
    {
     "data": {
      "image/png": "[encoded data removed]",
      "text/plain": [
       "<Figure size 432x288 with 1 Axes>"
      ]
     },
     "metadata": {
      "needs_background": "light"
     },
     "output_type": "display_data"
    },
    {
     "data": {
      "image/png": "[encoded data removed]",
      "text/plain": [
       "<Figure size 432x288 with 1 Axes>"
      ]
     },
     "metadata": {
      "needs_background": "light"
     },
     "output_type": "display_data"
    },
    {
     "data": {
      "image/png": "[encoded data removed]",
      "text/plain": [
       "<Figure size 432x288 with 1 Axes>"
      ]
     },
     "metadata": {
      "needs_background": "light"
     },
     "output_type": "display_data"
    },
    {
     "data": {
      "image/png": "[encoded data removed]",
      "text/plain": [
       "<Figure size 432x288 with 1 Axes>"
      ]
     },
     "metadata": {
      "needs_background": "light"
     },
     "output_type": "display_data"
    },
    {
     "data": {
      "image/png": "[encoded data removed]",
      "text/plain": [
       "<Figure size 432x288 with 1 Axes>"
      ]
     },
     "metadata": {
      "needs_background": "light"
     },
     "output_type": "display_data"
    }
   ],
   "source": [
    "#plotting full model values\n",
    "for i, feature in enumerate(features.keys()):\n",
    "    plt.scatter(X[:,i], y)\n",
    "    plt.scatter(X[:,i], preds, color='red')\n",
    "    plt.title(f\"Fuel Rate vs {feature} with predicted values\")\n",
    "    plt.show()"
   ]
  },
  {
   "cell_type": "code",
   "execution_count": 378,
   "id": "meaning-directory",
   "metadata": {},
   "outputs": [
    {
     "data": {
      "text/plain": [
       "<matplotlib.collections.PathCollection at 0x2b6bdcc7e050>"
      ]
     },
     "execution_count": 378,
     "metadata": {},
     "output_type": "execute_result"
    },
    {
     "data": {
      "image/png": "[encoded data removed]",
      "text/plain": [
       "<Figure size 432x288 with 1 Axes>"
      ]
     },
     "metadata": {
      "needs_background": "light"
     },
     "output_type": "display_data"
    }
   ],
   "source": [
    "preds = model.predict(X)\n",
    "plt.scatter(y, preds-y)"
   ]
  },
  {
   "cell_type": "code",
   "execution_count": null,
   "id": "ecological-bleeding",
   "metadata": {},
   "outputs": [],
   "source": []
  },
  {
   "cell_type": "code",
   "execution_count": null,
   "id": "identical-margin",
   "metadata": {},
   "outputs": [],
   "source": []
  },
  {
   "cell_type": "code",
   "execution_count": null,
   "id": "spectacular-leisure",
   "metadata": {},
   "outputs": [],
   "source": []
  },
  {
   "cell_type": "code",
   "execution_count": null,
   "id": "modern-leader",
   "metadata": {},
   "outputs": [],
   "source": []
  },
  {
   "cell_type": "code",
   "execution_count": null,
   "id": "sustained-japanese",
   "metadata": {},
   "outputs": [],
   "source": []
  },
  {
   "cell_type": "code",
   "execution_count": null,
   "id": "connected-ensemble",
   "metadata": {},
   "outputs": [],
   "source": []
  },
  {
   "cell_type": "code",
   "execution_count": null,
   "id": "rocky-district",
   "metadata": {},
   "outputs": [],
   "source": []
  },
  {
   "cell_type": "markdown",
   "id": "municipal-brisbane",
   "metadata": {},
   "source": [
    "# ICE Regression"
   ]
  },
  {
   "cell_type": "code",
   "execution_count": 445,
   "id": "innovative-bernard",
   "metadata": {},
   "outputs": [],
   "source": [
    "feats = [\n",
    "    \"Weight\",\n",
    "    \"Displacement\",\n",
    "    \"Aggressiveness\",\n",
    "    \"SpeedAverage\",\n",
    "    \"Aggressiveness*SpeedAverage\",\n",
    "    \"Aggressiveness*Weight\",\n",
    "    \"Aggressiveness*Displacement\",\n",
    "    \"Displacement/Weight\"\n",
    "]\n",
    "# cols = [\"Aggressiveness\", \"Distance[km]\", \"Weight\", \"Displacement\", \"SpeedAverage\", \"SpeedVariance\", \"Air Temperature[F]\", \"Precipitation Level[mm]\"]\n",
    "# feats = cols.copy()\n",
    "# for i in range(len(cols)):\n",
    "#     for j in range(i, len(cols)):\n",
    "#         feats.append(f\"{cols[i]}*{cols[j]}\")\n",
    "#         feats.append(f\"{cols[i]}/{cols[j]}\")\n",
    "\n",
    "X,y,feats = transform_data(ice_data, feats)\n",
    "X[np.isnan(X)] = 0\n",
    "X[X==float('inf')]=0\n",
    "X[X== -float('inf')] = 0\n",
    "ice_mod = LinearRegression().fit(X,y)\n",
    "\n"
   ]
  },
  {
   "cell_type": "code",
   "execution_count": 441,
   "id": "contemporary-geneva",
   "metadata": {},
   "outputs": [
    {
     "name": "stdout",
     "output_type": "stream",
     "text": [
      "0.6207119301944473\n"
     ]
    }
   ],
   "source": [
    "# now lets compute r^2:\n",
    "# WOW WE have an almost 0 impact on r^2 -- surprising\n",
    "preds = ice_mod.predict(X)\n",
    "r_2 = 1 - (((y - preds)**2).sum())/((y - y.mean())**2).sum()\n",
    "print(r_2)"
   ]
  },
  {
   "cell_type": "code",
   "execution_count": 442,
   "id": "resident-equipment",
   "metadata": {},
   "outputs": [
    {
     "name": "stdout",
     "output_type": "stream",
     "text": [
      "Impact = MEAN * Coef\n",
      "Weight: -0.06148706707455573\n",
      "Displacement: 0.10527404404952317\n",
      "Aggressiveness: 0.009362383536592847\n",
      "SpeedAverage: -0.0017876434187791125\n",
      "Aggressiveness*SpeedAverage: 0.0024450518421822577\n",
      "Aggressiveness*Weight: 0.03025442558137625\n",
      "Aggressiveness*Displacement: 0.020738717048870738\n",
      "Displacement/Weight: -0.05286790493419801\n",
      "========= PERCENTAGES =========\n",
      "Weight: 21.633827567396427\n",
      "Displacement: 37.039992711448356\n",
      "Aggressiveness: 3.2940942004094484\n",
      "SpeedAverage: 0.6289707952237336\n",
      "Aggressiveness*SpeedAverage: 0.8602757045311246\n",
      "Aggressiveness*Weight: 10.644824307272431\n",
      "Aggressiveness*Displacement: 7.296783696972844\n",
      "Displacement/Weight: 18.601231016745654\n"
     ]
    }
   ],
   "source": [
    "# lets see which value has the highest average impact on our regression:\n",
    "\n",
    "print('Impact = MEAN * Coef')\n",
    "for i, vals in enumerate(zip(feats.keys(), ice_mod.coef_)):\n",
    "    feature, coef = vals\n",
    "    print(f\"{feature}: {X[:,i].mean()*coef}\")\n",
    "    \n",
    "# we can actually get the relative percentages here:\n",
    "print('========= PERCENTAGES =========')\n",
    "\n",
    "impact = np.array([np.abs(coef * X[:,i].mean()) for i, coef in enumerate(ice_mod.coef_)])\n",
    "for feature, i in zip(feats.keys(), (impact*100)/impact.sum()):\n",
    "    print(f\"{feature}: {i}\")"
   ]
  },
  {
   "cell_type": "code",
   "execution_count": 449,
   "id": "senior-blade",
   "metadata": {},
   "outputs": [
    {
     "name": "stdout",
     "output_type": "stream",
     "text": [
      "{\n",
      "'Weight' : -1.8269039270731345e-05\n",
      "'Displacement' : 0.042004106394102514\n",
      "'Aggressiveness' : 1.7996834250139968e-06\n",
      "'SpeedAverage' : -4.536430255501289e-05\n",
      "'Aggressiveness*SpeedAverage' : 1.1924252555816587e-08\n",
      "'Aggressiveness*Weight' : 1.7248847663015128e-09\n",
      "'Aggressiveness*Displacement' : 1.590797867468572e-06\n",
      "'Displacement/Weight' : -71.6318742731985\n",
      "}\n"
     ]
    }
   ],
   "source": [
    "print('{')\n",
    "for f, i in feats.items():\n",
    "    print(f\"'{f}' : {ice_mod.coef_[i]}\")\n",
    "print('}')"
   ]
  },
  {
   "cell_type": "code",
   "execution_count": 366,
   "id": "outdoor-gathering",
   "metadata": {},
   "outputs": [
    {
     "data": {
      "text/plain": [
       "<matplotlib.collections.PathCollection at 0x2b6bdd589b50>"
      ]
     },
     "execution_count": 366,
     "metadata": {},
     "output_type": "execute_result"
    },
    {
     "data": {
      "image/png": "[encoded data removed]",
      "text/plain": [
       "<Figure size 432x288 with 1 Axes>"
      ]
     },
     "metadata": {
      "needs_background": "light"
     },
     "output_type": "display_data"
    }
   ],
   "source": [
    "plt.scatter(y, y-preds)"
   ]
  },
  {
   "cell_type": "code",
   "execution_count": null,
   "id": "controlled-parameter",
   "metadata": {},
   "outputs": [],
   "source": []
  },
  {
   "cell_type": "code",
   "execution_count": null,
   "id": "oriented-bumper",
   "metadata": {},
   "outputs": [],
   "source": []
  },
  {
   "cell_type": "code",
   "execution_count": null,
   "id": "processed-lyric",
   "metadata": {},
   "outputs": [],
   "source": []
  },
  {
   "cell_type": "code",
   "execution_count": null,
   "id": "smooth-tribute",
   "metadata": {},
   "outputs": [],
   "source": []
  },
  {
   "cell_type": "code",
   "execution_count": null,
   "id": "annoying-vaccine",
   "metadata": {},
   "outputs": [],
   "source": []
  },
  {
   "cell_type": "code",
   "execution_count": null,
   "id": "enclosed-lancaster",
   "metadata": {},
   "outputs": [],
   "source": []
  },
  {
   "cell_type": "code",
   "execution_count": null,
   "id": "regulation-simon",
   "metadata": {},
   "outputs": [],
   "source": []
  },
  {
   "cell_type": "code",
   "execution_count": null,
   "id": "portuguese-bikini",
   "metadata": {},
   "outputs": [],
   "source": []
  },
  {
   "cell_type": "code",
   "execution_count": null,
   "id": "covered-economics",
   "metadata": {},
   "outputs": [],
   "source": []
  },
  {
   "cell_type": "code",
   "execution_count": null,
   "id": "declared-adoption",
   "metadata": {},
   "outputs": [],
   "source": []
  },
  {
   "cell_type": "markdown",
   "id": "registered-dressing",
   "metadata": {},
   "source": [
    "# JUNK RANDOM STATS"
   ]
  },
  {
   "cell_type": "code",
   "execution_count": 32,
   "id": "suitable-petersburg",
   "metadata": {},
   "outputs": [
    {
     "data": {
      "text/html": [
       "<div>\n",
       "<style scoped>\n",
       "    .dataframe tbody tr th:only-of-type {\n",
       "        vertical-align: middle;\n",
       "    }\n",
       "\n",
       "    .dataframe tbody tr th {\n",
       "        vertical-align: top;\n",
       "    }\n",
       "\n",
       "    .dataframe thead th {\n",
       "        text-align: right;\n",
       "    }\n",
       "</style>\n",
       "<table border=\"1\" class=\"dataframe\">\n",
       "  <thead>\n",
       "    <tr style=\"text-align: right;\">\n",
       "      <th></th>\n",
       "      <th>TripId</th>\n",
       "      <th>TripId_raw</th>\n",
       "      <th>VehId</th>\n",
       "      <th>Aggressivity</th>\n",
       "      <th>Aggressiveness</th>\n",
       "      <th>Distance[km]</th>\n",
       "      <th>Fuel Consumed[L]</th>\n",
       "      <th>Fuel Rate[gpm]</th>\n",
       "      <th>Weight</th>\n",
       "      <th>Displacement</th>\n",
       "      <th>SpeedAverage</th>\n",
       "      <th>SpeedVariance</th>\n",
       "      <th>Air Temperature[F]</th>\n",
       "      <th>Precipitation Level[mm]</th>\n",
       "    </tr>\n",
       "  </thead>\n",
       "  <tbody>\n",
       "    <tr>\n",
       "      <th>0</th>\n",
       "      <td>0</td>\n",
       "      <td>2265</td>\n",
       "      <td>123</td>\n",
       "      <td>475.645508</td>\n",
       "      <td>5748.696207</td>\n",
       "      <td>9.225222</td>\n",
       "      <td>0.895646</td>\n",
       "      <td>0.097087</td>\n",
       "      <td>2500.0</td>\n",
       "      <td>1.8</td>\n",
       "      <td>46.423729</td>\n",
       "      <td>147.494133</td>\n",
       "      <td>6.40</td>\n",
       "      <td>0.0</td>\n",
       "    </tr>\n",
       "    <tr>\n",
       "      <th>1</th>\n",
       "      <td>1</td>\n",
       "      <td>1239</td>\n",
       "      <td>135</td>\n",
       "      <td>269.540959</td>\n",
       "      <td>6372.966896</td>\n",
       "      <td>2.223611</td>\n",
       "      <td>0.441901</td>\n",
       "      <td>0.198731</td>\n",
       "      <td>3500.0</td>\n",
       "      <td>2.5</td>\n",
       "      <td>40.748170</td>\n",
       "      <td>447.766401</td>\n",
       "      <td>-6.47</td>\n",
       "      <td>0.0</td>\n",
       "    </tr>\n",
       "    <tr>\n",
       "      <th>2</th>\n",
       "      <td>4</td>\n",
       "      <td>2263</td>\n",
       "      <td>575</td>\n",
       "      <td>266.112770</td>\n",
       "      <td>5665.167276</td>\n",
       "      <td>6.323556</td>\n",
       "      <td>1.008958</td>\n",
       "      <td>0.159556</td>\n",
       "      <td>4000.0</td>\n",
       "      <td>2.4</td>\n",
       "      <td>32.929095</td>\n",
       "      <td>247.070941</td>\n",
       "      <td>1.52</td>\n",
       "      <td>0.0</td>\n",
       "    </tr>\n",
       "    <tr>\n",
       "      <th>3</th>\n",
       "      <td>7</td>\n",
       "      <td>1681</td>\n",
       "      <td>522</td>\n",
       "      <td>552.585767</td>\n",
       "      <td>5891.611649</td>\n",
       "      <td>2.743222</td>\n",
       "      <td>0.344075</td>\n",
       "      <td>0.125427</td>\n",
       "      <td>3000.0</td>\n",
       "      <td>2.4</td>\n",
       "      <td>33.915000</td>\n",
       "      <td>447.276871</td>\n",
       "      <td>8.92</td>\n",
       "      <td>0.0</td>\n",
       "    </tr>\n",
       "    <tr>\n",
       "      <th>4</th>\n",
       "      <td>8</td>\n",
       "      <td>1375</td>\n",
       "      <td>250</td>\n",
       "      <td>529.245807</td>\n",
       "      <td>5535.915731</td>\n",
       "      <td>4.683417</td>\n",
       "      <td>0.937469</td>\n",
       "      <td>0.200168</td>\n",
       "      <td>5500.0</td>\n",
       "      <td>5.3</td>\n",
       "      <td>33.196768</td>\n",
       "      <td>319.067811</td>\n",
       "      <td>12.23</td>\n",
       "      <td>0.0</td>\n",
       "    </tr>\n",
       "    <tr>\n",
       "      <th>...</th>\n",
       "      <td>...</td>\n",
       "      <td>...</td>\n",
       "      <td>...</td>\n",
       "      <td>...</td>\n",
       "      <td>...</td>\n",
       "      <td>...</td>\n",
       "      <td>...</td>\n",
       "      <td>...</td>\n",
       "      <td>...</td>\n",
       "      <td>...</td>\n",
       "      <td>...</td>\n",
       "      <td>...</td>\n",
       "      <td>...</td>\n",
       "      <td>...</td>\n",
       "    </tr>\n",
       "    <tr>\n",
       "      <th>11798</th>\n",
       "      <td>17725</td>\n",
       "      <td>4334</td>\n",
       "      <td>597</td>\n",
       "      <td>566.123854</td>\n",
       "      <td>4290.373247</td>\n",
       "      <td>20.196611</td>\n",
       "      <td>2.288133</td>\n",
       "      <td>0.113293</td>\n",
       "      <td>3000.0</td>\n",
       "      <td>2.0</td>\n",
       "      <td>39.397884</td>\n",
       "      <td>630.252538</td>\n",
       "      <td>19.54</td>\n",
       "      <td>0.0</td>\n",
       "    </tr>\n",
       "    <tr>\n",
       "      <th>11799</th>\n",
       "      <td>17729</td>\n",
       "      <td>136</td>\n",
       "      <td>596</td>\n",
       "      <td>512.367166</td>\n",
       "      <td>5998.216793</td>\n",
       "      <td>2.710472</td>\n",
       "      <td>0.486187</td>\n",
       "      <td>0.179373</td>\n",
       "      <td>NaN</td>\n",
       "      <td>3.0</td>\n",
       "      <td>52.073944</td>\n",
       "      <td>448.542216</td>\n",
       "      <td>12.39</td>\n",
       "      <td>2.4</td>\n",
       "    </tr>\n",
       "    <tr>\n",
       "      <th>11800</th>\n",
       "      <td>17733</td>\n",
       "      <td>293</td>\n",
       "      <td>575</td>\n",
       "      <td>577.111615</td>\n",
       "      <td>5655.476501</td>\n",
       "      <td>1.663167</td>\n",
       "      <td>0.253618</td>\n",
       "      <td>0.152491</td>\n",
       "      <td>4000.0</td>\n",
       "      <td>2.4</td>\n",
       "      <td>38.972603</td>\n",
       "      <td>574.647520</td>\n",
       "      <td>16.68</td>\n",
       "      <td>0.0</td>\n",
       "    </tr>\n",
       "    <tr>\n",
       "      <th>11801</th>\n",
       "      <td>17735</td>\n",
       "      <td>1957</td>\n",
       "      <td>265</td>\n",
       "      <td>395.484703</td>\n",
       "      <td>5470.781309</td>\n",
       "      <td>9.977917</td>\n",
       "      <td>1.736937</td>\n",
       "      <td>0.174078</td>\n",
       "      <td>4000.0</td>\n",
       "      <td>3.0</td>\n",
       "      <td>38.995675</td>\n",
       "      <td>552.617297</td>\n",
       "      <td>22.49</td>\n",
       "      <td>0.0</td>\n",
       "    </tr>\n",
       "    <tr>\n",
       "      <th>11802</th>\n",
       "      <td>17736</td>\n",
       "      <td>1429</td>\n",
       "      <td>337</td>\n",
       "      <td>389.132844</td>\n",
       "      <td>8428.367986</td>\n",
       "      <td>0.975278</td>\n",
       "      <td>0.179449</td>\n",
       "      <td>0.183998</td>\n",
       "      <td>3000.0</td>\n",
       "      <td>2.5</td>\n",
       "      <td>51.433014</td>\n",
       "      <td>630.855214</td>\n",
       "      <td>-8.47</td>\n",
       "      <td>0.0</td>\n",
       "    </tr>\n",
       "  </tbody>\n",
       "</table>\n",
       "<p>11803 rows × 14 columns</p>\n",
       "</div>"
      ],
      "text/plain": [
       "       TripId  TripId_raw  VehId  Aggressivity  Aggressiveness  Distance[km]  \\\n",
       "0           0        2265    123    475.645508     5748.696207      9.225222   \n",
       "1           1        1239    135    269.540959     6372.966896      2.223611   \n",
       "2           4        2263    575    266.112770     5665.167276      6.323556   \n",
       "3           7        1681    522    552.585767     5891.611649      2.743222   \n",
       "4           8        1375    250    529.245807     5535.915731      4.683417   \n",
       "...       ...         ...    ...           ...             ...           ...   \n",
       "11798   17725        4334    597    566.123854     4290.373247     20.196611   \n",
       "11799   17729         136    596    512.367166     5998.216793      2.710472   \n",
       "11800   17733         293    575    577.111615     5655.476501      1.663167   \n",
       "11801   17735        1957    265    395.484703     5470.781309      9.977917   \n",
       "11802   17736        1429    337    389.132844     8428.367986      0.975278   \n",
       "\n",
       "       Fuel Consumed[L]  Fuel Rate[gpm]  Weight  Displacement  SpeedAverage  \\\n",
       "0              0.895646        0.097087  2500.0           1.8     46.423729   \n",
       "1              0.441901        0.198731  3500.0           2.5     40.748170   \n",
       "2              1.008958        0.159556  4000.0           2.4     32.929095   \n",
       "3              0.344075        0.125427  3000.0           2.4     33.915000   \n",
       "4              0.937469        0.200168  5500.0           5.3     33.196768   \n",
       "...                 ...             ...     ...           ...           ...   \n",
       "11798          2.288133        0.113293  3000.0           2.0     39.397884   \n",
       "11799          0.486187        0.179373     NaN           3.0     52.073944   \n",
       "11800          0.253618        0.152491  4000.0           2.4     38.972603   \n",
       "11801          1.736937        0.174078  4000.0           3.0     38.995675   \n",
       "11802          0.179449        0.183998  3000.0           2.5     51.433014   \n",
       "\n",
       "       SpeedVariance  Air Temperature[F]  Precipitation Level[mm]  \n",
       "0         147.494133                6.40                      0.0  \n",
       "1         447.766401               -6.47                      0.0  \n",
       "2         247.070941                1.52                      0.0  \n",
       "3         447.276871                8.92                      0.0  \n",
       "4         319.067811               12.23                      0.0  \n",
       "...              ...                 ...                      ...  \n",
       "11798     630.252538               19.54                      0.0  \n",
       "11799     448.542216               12.39                      2.4  \n",
       "11800     574.647520               16.68                      0.0  \n",
       "11801     552.617297               22.49                      0.0  \n",
       "11802     630.855214               -8.47                      0.0  \n",
       "\n",
       "[11803 rows x 14 columns]"
      ]
     },
     "execution_count": 32,
     "metadata": {},
     "output_type": "execute_result"
    }
   ],
   "source": [
    "ice_data"
   ]
  },
  {
   "cell_type": "code",
   "execution_count": 408,
   "id": "hollow-nursing",
   "metadata": {},
   "outputs": [],
   "source": [
    "features = [\n",
    "    'Aggressiveness',\n",
    "    'Weight',\n",
    "    'Displacement',\n",
    "    'SpeedAverage',\n",
    "    'Aggressiveness*SpeedAverage',\n",
    "    'Aggressiveness*Weight',\n",
    "    'Aggressiveness*Displacement',\n",
    "    'Displacement/Weight'\n",
    "]\n",
    "\n",
    "X, y, features = transform_data(ice_data, features)"
   ]
  },
  {
   "cell_type": "code",
   "execution_count": 409,
   "id": "standard-gamma",
   "metadata": {},
   "outputs": [
    {
     "data": {
      "text/plain": [
       "{'Aggressiveness': 0,\n",
       " 'Weight': 1,\n",
       " 'Displacement': 2,\n",
       " 'SpeedAverage': 3,\n",
       " 'Aggressiveness*SpeedAverage': 4,\n",
       " 'Aggressiveness*Weight': 5,\n",
       " 'Aggressiveness*Displacement': 6,\n",
       " 'Displacement/Weight': 7}"
      ]
     },
     "execution_count": 409,
     "metadata": {},
     "output_type": "execute_result"
    }
   ],
   "source": [
    "features"
   ]
  },
  {
   "cell_type": "code",
   "execution_count": 410,
   "id": "emerging-praise",
   "metadata": {},
   "outputs": [],
   "source": [
    "model = LinearRegression().fit(X,y)"
   ]
  },
  {
   "cell_type": "code",
   "execution_count": 411,
   "id": "professional-wyoming",
   "metadata": {},
   "outputs": [],
   "source": [
    "real_fuel_consumption = (y * ice_data['Distance[km]']).sum()"
   ]
  },
  {
   "cell_type": "code",
   "execution_count": 412,
   "id": "peaceful-establishment",
   "metadata": {},
   "outputs": [
    {
     "data": {
      "text/plain": [
       "8040.246909945503"
      ]
     },
     "execution_count": 412,
     "metadata": {},
     "output_type": "execute_result"
    }
   ],
   "source": [
    "real_fuel_consumption # in gallons"
   ]
  },
  {
   "cell_type": "code",
   "execution_count": 413,
   "id": "loving-fellowship",
   "metadata": {},
   "outputs": [],
   "source": [
    "X[:,0] = min(X[:,0])\n",
    "smallest_fuel_consumption = (model.predict(X)*ice_data['Distance[km]']).sum()"
   ]
  },
  {
   "cell_type": "code",
   "execution_count": 414,
   "id": "theoretical-distinction",
   "metadata": {},
   "outputs": [],
   "source": [
    "features = [\n",
    "    'Aggressiveness',\n",
    "    'Weight',\n",
    "    'Displacement',\n",
    "    'SpeedAverage',\n",
    "    'Aggressiveness*SpeedAverage',\n",
    "    'Aggressiveness*Weight',\n",
    "    'Aggressiveness*Displacement',\n",
    "    'Displacement/Weight'\n",
    "]\n",
    "\n",
    "X, y, features = transform_data(ice_data, features)"
   ]
  },
  {
   "cell_type": "code",
   "execution_count": 415,
   "id": "revolutionary-fetish",
   "metadata": {},
   "outputs": [],
   "source": [
    "X[:,0] = max(X[:,0])"
   ]
  },
  {
   "cell_type": "code",
   "execution_count": 416,
   "id": "stuck-russian",
   "metadata": {},
   "outputs": [],
   "source": [
    "max_fuel_consumption = (model.predict(X) * ice_data['Distance[km]']).sum()"
   ]
  },
  {
   "cell_type": "code",
   "execution_count": 417,
   "id": "nuclear-slovak",
   "metadata": {},
   "outputs": [
    {
     "data": {
      "text/plain": [
       "10825.521243749768"
      ]
     },
     "execution_count": 417,
     "metadata": {},
     "output_type": "execute_result"
    }
   ],
   "source": [
    "max_fuel_consumption # in gallons"
   ]
  },
  {
   "cell_type": "code",
   "execution_count": 418,
   "id": "reverse-order",
   "metadata": {},
   "outputs": [],
   "source": [
    "X[:, 0] = 0"
   ]
  },
  {
   "cell_type": "code",
   "execution_count": 419,
   "id": "under-warehouse",
   "metadata": {},
   "outputs": [],
   "source": [
    "min_fuel_consumption = (model.predict(X) * ice_data['Distance[km]']).sum()"
   ]
  },
  {
   "cell_type": "code",
   "execution_count": 420,
   "id": "arabic-creature",
   "metadata": {},
   "outputs": [
    {
     "data": {
      "text/plain": [
       "7513.78075266454"
      ]
     },
     "execution_count": 420,
     "metadata": {},
     "output_type": "execute_result"
    }
   ],
   "source": [
    "min_fuel_consumption"
   ]
  },
  {
   "cell_type": "code",
   "execution_count": 421,
   "id": "animal-circle",
   "metadata": {},
   "outputs": [
    {
     "data": {
      "text/plain": [
       "0.30591972585128846"
      ]
     },
     "execution_count": 421,
     "metadata": {},
     "output_type": "execute_result"
    }
   ],
   "source": [
    "# percent delta:\n",
    "(max_fuel_consumption - min_fuel_consumption) / max_fuel_consumption"
   ]
  },
  {
   "cell_type": "code",
   "execution_count": 422,
   "id": "persistent-zealand",
   "metadata": {},
   "outputs": [
    {
     "data": {
      "text/plain": [
       "3377.437575386198"
      ]
     },
     "execution_count": 422,
     "metadata": {},
     "output_type": "execute_result"
    }
   ],
   "source": [
    "np.quantile(ice_data[\"Aggressiveness\"], .10)"
   ]
  },
  {
   "cell_type": "code",
   "execution_count": 423,
   "id": "adequate-channel",
   "metadata": {},
   "outputs": [],
   "source": [
    "X[:,0] = 3377.437575386198\n",
    "tenth_percentile = (model.predict(X) * ice_data['Distance[km]']).sum()"
   ]
  },
  {
   "cell_type": "code",
   "execution_count": 424,
   "id": "technical-geology",
   "metadata": {},
   "outputs": [
    {
     "name": "stdout",
     "output_type": "stream",
     "text": [
      "All values in gallons:\n",
      "Real Fuel Consumption: 8040.246909945503, Aggressiveness = 5202.2\n",
      "Maximum Fuel Consumption: 10825.521243749768, Aggressiveness = 29848.9\n",
      "Minimum Fuel Consumption: 7513.78075266454, Aggressiveness = 0.0\n",
      "Smallest Fuel Consumption: 7552.282037554995, Aggressiveness = 347.0\n",
      "10th Percentile Fuel Consumption: 7888.508018691138, Aggressiveness = 3377.4\n"
     ]
    }
   ],
   "source": [
    "print(\"All values in gallons:\")\n",
    "print(f\"Real Fuel Consumption: {real_fuel_consumption}, Aggressiveness = {5202.2}\")\n",
    "print(f\"Maximum Fuel Consumption: {max_fuel_consumption}, Aggressiveness = {29848.9}\")\n",
    "print(f\"Minimum Fuel Consumption: {min_fuel_consumption}, Aggressiveness = {0.0}\")\n",
    "print(f\"Smallest Fuel Consumption: {smallest_fuel_consumption}, Aggressiveness = {347.0}\")\n",
    "print(f\"10th Percentile Fuel Consumption: {tenth_percentile}, Aggressiveness = {3377.4}\")\n",
    "\n"
   ]
  },
  {
   "cell_type": "markdown",
   "id": "sealed-cyprus",
   "metadata": {},
   "source": [
    "# HEV JUNK STATS:"
   ]
  },
  {
   "cell_type": "code",
   "execution_count": null,
   "id": "elect-niagara",
   "metadata": {},
   "outputs": [],
   "source": []
  }
 ],
 "metadata": {
  "kernelspec": {
   "display_name": "Python 3",
   "language": "python",
   "name": "python3"
  },
  "language_info": {
   "codemirror_mode": {
    "name": "ipython",
    "version": 3
   },
   "file_extension": ".py",
   "mimetype": "text/x-python",
   "name": "python",
   "nbconvert_exporter": "python",
   "pygments_lexer": "ipython3",
   "version": "3.7.9"
  }
 },
 "nbformat": 4,
 "nbformat_minor": 5
}
