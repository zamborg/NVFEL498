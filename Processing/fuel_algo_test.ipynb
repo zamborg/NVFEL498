{
 "metadata": {
  "language_info": {
   "codemirror_mode": {
    "name": "ipython",
    "version": 3
   },
   "file_extension": ".py",
   "mimetype": "text/x-python",
   "name": "python",
   "nbconvert_exporter": "python",
   "pygments_lexer": "ipython3",
   "version": "3.9.4"
  },
  "orig_nbformat": 2,
  "kernelspec": {
   "name": "python3",
   "display_name": "Python 3",
   "language": "python"
  }
 },
 "nbformat": 4,
 "nbformat_minor": 2,
 "cells": [
  {
   "cell_type": "code",
   "execution_count": 247,
   "metadata": {},
   "outputs": [
    {
     "output_type": "error",
     "ename": "ImportError",
     "evalue": "cannot import name 'get_fuel_consumed' from 'utils' (/Users/gabe/Documents/School/2020-2021/READS/NVFEL498/Processing/utils.py)",
     "traceback": [
      "\u001b[0;31m---------------------------------------------------------------------------\u001b[0m",
      "\u001b[0;31mImportError\u001b[0m                               Traceback (most recent call last)",
      "\u001b[0;32m<ipython-input-247-8c6a68b6dc8b>\u001b[0m in \u001b[0;36m<module>\u001b[0;34m\u001b[0m\n\u001b[1;32m      2\u001b[0m \u001b[0;32mimport\u001b[0m \u001b[0mnumpy\u001b[0m \u001b[0;32mas\u001b[0m \u001b[0mnp\u001b[0m\u001b[0;34m\u001b[0m\u001b[0;34m\u001b[0m\u001b[0m\n\u001b[1;32m      3\u001b[0m \u001b[0;32mimport\u001b[0m \u001b[0mre\u001b[0m\u001b[0;34m\u001b[0m\u001b[0;34m\u001b[0m\u001b[0m\n\u001b[0;32m----> 4\u001b[0;31m \u001b[0;32mfrom\u001b[0m \u001b[0mutils\u001b[0m \u001b[0;32mimport\u001b[0m \u001b[0mget_distances\u001b[0m\u001b[0;34m,\u001b[0m \u001b[0mget_fuel_consumed\u001b[0m\u001b[0;34m\u001b[0m\u001b[0;34m\u001b[0m\u001b[0m\n\u001b[0m\u001b[1;32m      5\u001b[0m \u001b[0mnonEVs\u001b[0m \u001b[0;34m=\u001b[0m \u001b[0mpd\u001b[0m\u001b[0;34m.\u001b[0m\u001b[0mread_csv\u001b[0m\u001b[0;34m(\u001b[0m\u001b[0;34m'../VED_Static_Data_ICE_HEV.csv'\u001b[0m\u001b[0;34m)\u001b[0m\u001b[0;34m\u001b[0m\u001b[0;34m\u001b[0m\u001b[0m\n\u001b[1;32m      6\u001b[0m \u001b[0mx\u001b[0m \u001b[0;34m=\u001b[0m \u001b[0mpd\u001b[0m\u001b[0;34m.\u001b[0m\u001b[0mread_csv\u001b[0m\u001b[0;34m(\u001b[0m\u001b[0;34m'../sample_ICE_trip.csv'\u001b[0m\u001b[0;34m)\u001b[0m\u001b[0;34m\u001b[0m\u001b[0;34m\u001b[0m\u001b[0m\n",
      "\u001b[0;31mImportError\u001b[0m: cannot import name 'get_fuel_consumed' from 'utils' (/Users/gabe/Documents/School/2020-2021/READS/NVFEL498/Processing/utils.py)"
     ]
    }
   ],
   "source": [
    "import pandas as pd\n",
    "import numpy as np\n",
    "import re\n",
    "from utils import get_distances, fuel_algo\n",
    "nonEVs = pd.read_csv('../VED_Static_Data_ICE_HEV.csv')\n",
    "x = pd.read_csv('../sample_ICE_trip.csv')"
   ]
  },
  {
   "cell_type": "code",
   "execution_count": 249,
   "metadata": {},
   "outputs": [],
   "source": [
    "def get_fuel_consumed(trip, nonEVs):\n",
    "    f = fuel_algo(trip, nonEVs)\n",
    "    d = get_distances(trip)\n",
    "    return np.sum(f * d)"
   ]
  },
  {
   "cell_type": "code",
   "execution_count": 232,
   "metadata": {},
   "outputs": [
    {
     "output_type": "stream",
     "name": "stdout",
     "text": [
      "8\n"
     ]
    }
   ],
   "source": [
    "print(x['VehId'].iloc[0])\n",
    "VehID = x['VehId'].iloc[0]\n",
    "\n",
    "out1 = fuel_algo(x, nonEVs)\n"
   ]
  },
  {
   "cell_type": "code",
   "execution_count": 240,
   "metadata": {},
   "outputs": [
    {
     "output_type": "stream",
     "name": "stdout",
     "text": [
      "0      60.495340\n1      43.796867\n2      40.147128\n3      41.971998\n4      10.531249\n5      12.820651\n6      12.820651\n7      14.652173\n8      14.652173\n9      16.783212\n10     19.405589\n11     19.405589\n12     22.027966\n13     22.027966\n14     24.807356\n15     26.579310\n16     24.230551\n17     25.744960\n18     85.944952\n19     85.944952\n20     87.597740\n21     46.072167\n22     47.810739\n23     47.810739\n24     46.379759\n25     47.207969\n26    112.458780\n27    112.458780\n28    114.431741\n29    114.431741\n30     51.487545\n31     52.375261\n32     53.262977\n33     50.695366\n34     51.540289\n35     39.333004\n36     39.333004\n37     40.601810\n38     38.251350\n39     38.849027\n40     38.849027\n41     40.044382\n42     45.863727\n43     46.548260\n44     47.232793\n45     47.535017\n46     47.535017\n47     47.273278\n48     47.273278\n49     48.534479\nName: 0, dtype: float64\n"
     ]
    }
   ],
   "source": [
    "print(1 / (out1 / 2.35)[:50])\n"
   ]
  },
  {
   "cell_type": "code",
   "execution_count": 213,
   "metadata": {},
   "outputs": [],
   "source": [
    "d = get_distances(x)"
   ]
  },
  {
   "cell_type": "code",
   "execution_count": 222,
   "metadata": {},
   "outputs": [],
   "source": [
    "final = out1 * d\n"
   ]
  },
  {
   "cell_type": "code",
   "execution_count": 226,
   "metadata": {},
   "outputs": [],
   "source": [
    "L = (np.sum(final)) # L\n",
    "km = (np.sum(d)) # km\n"
   ]
  },
  {
   "cell_type": "code",
   "execution_count": 227,
   "metadata": {},
   "outputs": [
    {
     "output_type": "stream",
     "name": "stdout",
     "text": [
      "0.022796175345682092\n"
     ]
    }
   ],
   "source": [
    "print(L / km / 2.35)"
   ]
  },
  {
   "cell_type": "code",
   "execution_count": 288,
   "metadata": {},
   "outputs": [
    {
     "output_type": "stream",
     "name": "stdout",
     "text": [
      "44.87214374535699\n"
     ]
    }
   ],
   "source": [
    "print(np.sum(d) / 1.6 / get_fuel_consumed(x, nonEVs) / .26)"
   ]
  },
  {
   "cell_type": "code",
   "execution_count": null,
   "metadata": {},
   "outputs": [],
   "source": []
  }
 ]
}