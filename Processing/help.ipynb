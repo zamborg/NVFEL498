{
 "metadata": {
  "language_info": {
   "codemirror_mode": {
    "name": "ipython",
    "version": 3
   },
   "file_extension": ".py",
   "mimetype": "text/x-python",
   "name": "python",
   "nbconvert_exporter": "python",
   "pygments_lexer": "ipython3",
   "version": "3.9.4"
  },
  "orig_nbformat": 2,
  "kernelspec": {
   "name": "python3",
   "display_name": "Python 3",
   "language": "python"
  },
  "metadata": {
   "interpreter": {
    "hash": "aee8b7b246df8f9039afb4144a1f6fd8d2ca17a180786b69acc140d282b71a49"
   }
  }
 },
 "nbformat": 4,
 "nbformat_minor": 2,
 "cells": [
  {
   "cell_type": "code",
   "execution_count": 28,
   "metadata": {},
   "outputs": [],
   "source": [
    "import pandas as pd\n",
    "import numpy as np\n",
    "from utils import fuel_algo\n",
    "import re"
   ]
  },
  {
   "cell_type": "code",
   "execution_count": 54,
   "metadata": {},
   "outputs": [],
   "source": [
    "def fuel_algo(x):\n",
    "        # first do everything for MAF non NA\n",
    "        # then for all MAF NA values, do absLoad calculation\n",
    "        # Because NA denom or numer => NAN => NA in both => NAN\n",
    "        sec_hour = 3600\n",
    "        air_to_fuel = 14.08\n",
    "        fuel_density = 820\n",
    "        \n",
    "        out = pd.DataFrame(np.zeros(shape=(len(x))))\n",
    "        \n",
    "        maf_screen = np.array(x['MAF[g/sec]'].isna()).reshape(-1,1)\n",
    "        maf = x[maf_screen]['MAF[g/sec]']\n",
    "        fuel_flow = (maf*sec_hour)/(air_to_fuel*fuel_density)\n",
    "        out[maf_screen] = list(1/(fuel_flow/x[maf_screen]['Vehicle Speed[km/h]']))\n",
    "        \n",
    "        VehID = x['VehId'].iloc[0]\n",
    "        absLoad = x[~maf_screen]['Absolute Load[%]']\n",
    "        RPM = x[~maf_screen]['Engine RPM[RPM]']\n",
    "        fuel_flow = x[~maf_screen]['MAF[g/sec]']\n",
    "        displacement = nonEVs.loc[nonEVs['VehId']==VehID, 'Engine Configuration & Displacement']\n",
    "        if len(displacement) == 0:\n",
    "            return pd.DataFrame(np.zeros(shape=(len(x))))\n",
    "        displacement = displacement.iloc[0]\n",
    "        displacement = re.findall(r\"\\d\\.\\d\",displacement)\n",
    "        if len(displacement) != 1:\n",
    "            raise Exception('Something Broke in displacement string search')\n",
    "        displacement = float(displacement[0].strip(\"L\"))\n",
    "        maf = 1.84 * displacement * absLoad/100 * RPM/2/60\n",
    "        fuel_flow = (maf*sec_hour)/(air_to_fuel*fuel_density) #update out where MAF is NAN\n",
    "        out[~maf_screen] = list(1/(fuel_flow/x[~maf_screen]['Vehicle Speed[km/h]']))\n",
    "        \n",
    "        out.replace(float('inf'), 0, inplace=True)\n",
    "        \n",
    "        return pd.Series(out.iloc[:,0])"
   ]
  },
  {
   "cell_type": "code",
   "execution_count": 55,
   "metadata": {},
   "outputs": [
    {
     "output_type": "stream",
     "name": "stdout",
     "text": [
      "37.24373058326666\n"
     ]
    }
   ],
   "source": [
    "trip = pd.read_csv('../sample_HEV_trip.csv')\n",
    "nonEVs = pd.read_csv('../VED_Static_Data_ICE_HEV.csv')\n",
    "\n",
    "x = fuel_algo(trip)\n",
    "print(np.mean(x))\n"
   ]
  },
  {
   "cell_type": "code",
   "execution_count": 30,
   "metadata": {
    "tags": []
   },
   "outputs": [
    {
     "output_type": "stream",
     "name": "stdout",
     "text": [
      "11803\n11803\n"
     ]
    }
   ],
   "source": [
    "trips = pd.read_csv('../alltrips_final.csv')\n",
    "print(len(trips))\n",
    "#trips = trips.drop(columns=['Unnamed: 0'])\n",
    "\n",
    "print(len(trips))\n",
    "with open('../alltrips_final2.csv', 'w') as f:\n",
    "    trips.to_csv(f, index_label='TripId')"
   ]
  },
  {
   "cell_type": "code",
   "execution_count": 32,
   "metadata": {},
   "outputs": [
    {
     "output_type": "stream",
     "name": "stdout",
     "text": [
      "0.0\nbase0\n"
     ]
    }
   ],
   "source": [
    "trips = pd.read_csv('../alltrips_final.csv')\n",
    "for i, row in trips.iterrows():\n",
    "    if i == 0:\n",
    "        print(row['TripId'])\n",
    "        fname = 'base' + str(int(row['TripId']))\n",
    "        print(fname)"
   ]
  },
  {
   "cell_type": "code",
   "execution_count": 41,
   "metadata": {},
   "outputs": [
    {
     "output_type": "stream",
     "name": "stdout",
     "text": [
      "False\nFalse\nFalse\n"
     ]
    }
   ],
   "source": [
    "aggr = trips['Aggressiveness']\n",
    "print(np.isinf(aggr).any())\n",
    "print((aggr == 0).any())\n",
    "print(aggr.isna().any())\n"
   ]
  },
  {
   "cell_type": "code",
   "execution_count": null,
   "metadata": {},
   "outputs": [],
   "source": []
  }
 ]
}