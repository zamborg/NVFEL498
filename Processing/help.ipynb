{
 "metadata": {
  "language_info": {
   "codemirror_mode": {
    "name": "ipython",
    "version": 3
   },
   "file_extension": ".py",
   "mimetype": "text/x-python",
   "name": "python",
   "nbconvert_exporter": "python",
   "pygments_lexer": "ipython3",
   "version": "3.9.1-final"
  },
  "orig_nbformat": 2,
  "kernelspec": {
   "name": "python391jvsc74a57bd0aee8b7b246df8f9039afb4144a1f6fd8d2ca17a180786b69acc140d282b71a49",
   "display_name": "Python 3.9.1 64-bit"
  },
  "metadata": {
   "interpreter": {
    "hash": "aee8b7b246df8f9039afb4144a1f6fd8d2ca17a180786b69acc140d282b71a49"
   }
  }
 },
 "nbformat": 4,
 "nbformat_minor": 2,
 "cells": [
  {
   "cell_type": "code",
   "execution_count": 16,
   "metadata": {},
   "outputs": [],
   "source": [
    "import pandas as pd\n",
    "import numpy as np\n",
    "from utils import fuel_algo"
   ]
  },
  {
   "cell_type": "code",
   "execution_count": 68,
   "metadata": {},
   "outputs": [],
   "source": [
    "def fuel_algo2(df, displacement):\n",
    "    sec_hour = 3600\n",
    "    air_to_fuel = 14.08\n",
    "    fuel_density = 820\n",
    "\n",
    "    rate = df['Fuel Rate[L/hr]']\n",
    "    maf = df['MAF[g/sec]']\n",
    "    out = np.array(rate)\n",
    "    \n",
    "    idx = rate.isna()\n",
    "    out[idx] = maf[idx] * air_to_fuel\n",
    "    return out"
   ]
  },
  {
   "cell_type": "code",
   "execution_count": 90,
   "metadata": {},
   "outputs": [
    {
     "output_type": "stream",
     "name": "stdout",
     "text": [
      "2.953216464619631\n"
     ]
    }
   ],
   "source": [
    "trip = pd.read_csv('ICE_trip7636.csv')\n",
    "x = np.array(trip['Fuel Rate[L/hr]'])\n",
    "x = fuel_algo(trip, '1.5L')\n",
    "print(np.mean(x))\n"
   ]
  },
  {
   "cell_type": "code",
   "execution_count": 30,
   "metadata": {
    "tags": []
   },
   "outputs": [
    {
     "output_type": "stream",
     "name": "stdout",
     "text": [
      "11803\n11803\n"
     ]
    }
   ],
   "source": [
    "trips = pd.read_csv('../alltrips_final.csv')\n",
    "print(len(trips))\n",
    "#trips = trips.drop(columns=['Unnamed: 0'])\n",
    "\n",
    "print(len(trips))\n",
    "with open('../alltrips_final2.csv', 'w') as f:\n",
    "    trips.to_csv(f, index_label='TripId')"
   ]
  },
  {
   "cell_type": "code",
   "execution_count": 32,
   "metadata": {},
   "outputs": [
    {
     "output_type": "stream",
     "name": "stdout",
     "text": [
      "0.0\nbase0\n"
     ]
    }
   ],
   "source": [
    "trips = pd.read_csv('../alltrips_final.csv')\n",
    "for i, row in trips.iterrows():\n",
    "    if i == 0:\n",
    "        print(row['TripId'])\n",
    "        fname = 'base' + str(int(row['TripId']))\n",
    "        print(fname)"
   ]
  },
  {
   "cell_type": "code",
   "execution_count": 41,
   "metadata": {},
   "outputs": [
    {
     "output_type": "stream",
     "name": "stdout",
     "text": [
      "False\nFalse\nFalse\n"
     ]
    }
   ],
   "source": [
    "aggr = trips['Aggressiveness']\n",
    "print(np.isinf(aggr).any())\n",
    "print((aggr == 0).any())\n",
    "print(aggr.isna().any())\n"
   ]
  },
  {
   "cell_type": "code",
   "execution_count": null,
   "metadata": {},
   "outputs": [],
   "source": []
  }
 ]
}