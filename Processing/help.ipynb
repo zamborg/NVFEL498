{
 "metadata": {
  "language_info": {
   "codemirror_mode": {
    "name": "ipython",
    "version": 3
   },
   "file_extension": ".py",
   "mimetype": "text/x-python",
   "name": "python",
   "nbconvert_exporter": "python",
   "pygments_lexer": "ipython3",
   "version": "3.9.1-final"
  },
  "orig_nbformat": 2,
  "kernelspec": {
   "name": "python3",
   "display_name": "Python 3.9.1 64-bit",
   "metadata": {
    "interpreter": {
     "hash": "ac2eaa0ea0ebeafcc7822e65e46aa9d4f966f30b695406963e145ea4a91cd4fc"
    }
   }
  }
 },
 "nbformat": 4,
 "nbformat_minor": 2,
 "cells": [
  {
   "cell_type": "code",
   "execution_count": 84,
   "metadata": {},
   "outputs": [],
   "source": [
    "import pandas as pd\n",
    "import numpy as np\n",
    "from utils import fuel_algo"
   ]
  },
  {
   "cell_type": "code",
   "execution_count": 68,
   "metadata": {},
   "outputs": [],
   "source": [
    "def fuel_algo2(df, displacement):\n",
    "    sec_hour = 3600\n",
    "    air_to_fuel = 14.08\n",
    "    fuel_density = 820\n",
    "\n",
    "    rate = df['Fuel Rate[L/hr]']\n",
    "    maf = df['MAF[g/sec]']\n",
    "    out = np.array(rate)\n",
    "    \n",
    "    idx = rate.isna()\n",
    "    out[idx] = maf[idx] * air_to_fuel\n",
    "    return out"
   ]
  },
  {
   "cell_type": "code",
   "execution_count": 90,
   "metadata": {},
   "outputs": [
    {
     "output_type": "stream",
     "name": "stdout",
     "text": [
      "2.953216464619631\n"
     ]
    }
   ],
   "source": [
    "trip = pd.read_csv('ICE_trip7636.csv')\n",
    "x = np.array(trip['Fuel Rate[L/hr]'])\n",
    "x = fuel_algo(trip, '1.5L')\n",
    "print(np.mean(x))\n"
   ]
  },
  {
   "cell_type": "code",
   "execution_count": null,
   "metadata": {},
   "outputs": [],
   "source": []
  }
 ]
}